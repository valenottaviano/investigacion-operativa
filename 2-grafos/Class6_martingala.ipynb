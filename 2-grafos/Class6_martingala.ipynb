{
 "cells": [
  {
   "cell_type": "markdown",
   "metadata": {},
   "source": [
    "## Martingala\n",
    "Se simulará el juego de la ruleta. En una ruleta simple, hay 18 rojos, 18 negros y 1 verde, pero imaginémonos que no tenemos verde. Empezás con un saldo inicial, digamos $100. La estrategia de la martingala es la siguiente.\n",
    "\n",
    "- Empezás apostando $1. Si ganás, ganás $2 ($1 neto), y volvés a apostar $1.\n",
    "- Si perdés, duplicas tu apuesta en el siguiente turno.\n",
    "- Si tu saldo se vuelve cero, perdiste\n",
    "- Si alcanzás un saldo objetivo (por ejemplo, $200), te vas triunfante\n",
    "\n",
    "Utilizar Montecarlo para simular este jeugo múltiples veces (por ejemplo, 10000 simulaciones) y determinar: \n",
    "\n",
    "- La probabilidad de alcanzar el saldo objetivo antes de quedarse sin dinero\n",
    "- El saldo promedio después de un número determinado de rondas (por ejemplo, 100 rondas)"
   ]
  },
  {
   "cell_type": "code",
   "execution_count": 177,
   "metadata": {},
   "outputs": [],
   "source": [
    "import random\n",
    "from tqdm import tqdm\n",
    "import numpy as np"
   ]
  },
  {
   "cell_type": "code",
   "execution_count": 37,
   "metadata": {},
   "outputs": [],
   "source": [
    "def roll_roullette():\n",
    "    return random.choice(['N', 'R'])\n",
    "\n",
    "def place_bet():\n",
    "    return random.choice(['N', 'R'])\n",
    "\n",
    "def run_bet(balance, bet):\n",
    "    res = True if roll_roullette() == place_bet() else False\n",
    "    if res:\n",
    "        balance = balance + bet\n",
    "    else:\n",
    "        balance = balance - bet\n",
    "    return balance, res"
   ]
  },
  {
   "cell_type": "code",
   "execution_count": 171,
   "metadata": {},
   "outputs": [],
   "source": [
    "class Roulette:\n",
    "    def __init__(self, objective, balance):\n",
    "        self.objective = objective\n",
    "        self.balance = balance\n",
    "        self.result = True\n",
    "    \n",
    "    def roll_roullette(self):\n",
    "        return random.choice(['N', 'R'])\n",
    "\n",
    "    def place_bet(self):\n",
    "        return random.choice(['N', 'R'])\n",
    "\n",
    "    def run_bet(self, balance, bet):\n",
    "        res = True if self.roll_roullette() == self.place_bet() else False\n",
    "        if res:\n",
    "            self.balance = self.balance + bet\n",
    "        else:\n",
    "            self.balance = self.balance - bet\n",
    "        return balance, res\n",
    "\n",
    "    def start(self):\n",
    "        partialBalances = []\n",
    "\n",
    "        while self.balance > 0:\n",
    "            bet = 1 if self.result else bet*2 # Si ganó, apuesta 1. Si perdió dobla la apuesta\n",
    "            self.balance, self.result = run_bet(self.balance, bet)\n",
    "            partialBalances.append(self.balance)\n",
    "\n",
    "            if self.balance >= self.objective:\n",
    "                break\n",
    "        \n",
    "        return  True if self.balance > 0 else False, partialBalances[99] if len(partialBalances) > 100 else 0"
   ]
  },
  {
   "cell_type": "code",
   "execution_count": 175,
   "metadata": {},
   "outputs": [
    {
     "name": "stderr",
     "output_type": "stream",
     "text": [
      "100%|██████████| 10000/10000 [00:03<00:00, 3309.20it/s]\n"
     ]
    },
    {
     "data": {
      "text/plain": [
       "{False: 3988, True: 6012}"
      ]
     },
     "execution_count": 175,
     "metadata": {},
     "output_type": "execute_result"
    }
   ],
   "source": [
    "simulations = 10000\n",
    "initial_balance = 100\n",
    "objective = 200\n",
    "results = []\n",
    "balanceAvrg = []\n",
    "\n",
    "for _ in tqdm(range(simulations)):\n",
    "    r = Roulette(objective=objective, balance=initial_balance)\n",
    "    res = r.start()\n",
    "\n",
    "    results.append(res[0])\n",
    "    balanceAvrg.append(res[1])\n",
    "\n",
    "frequencies = {i:results.count(i) for i in results}\n",
    "# frequencies\n"
   ]
  },
  {
   "cell_type": "code",
   "execution_count": 176,
   "metadata": {},
   "outputs": [
    {
     "name": "stdout",
     "output_type": "stream",
     "text": [
      "La probabilidad de alcanzar el saldo objetivo es de:  60.12 %\n"
     ]
    }
   ],
   "source": [
    "print('La probabilidad de alcanzar el saldo objetivo es de: ', (frequencies[True]/simulations)*100, '%')\n"
   ]
  },
  {
   "cell_type": "code",
   "execution_count": 179,
   "metadata": {},
   "outputs": [
    {
     "name": "stdout",
     "output_type": "stream",
     "text": [
      "El saldo promedio a las 100 apuestas es de  109.4056 +- 65.88179026589974\n"
     ]
    }
   ],
   "source": [
    "print('El saldo promedio a las 100 apuestas es de ', np.mean(balanceAvrg), '+-', np.std(balanceAvrg))"
   ]
  }
 ],
 "metadata": {
  "kernelspec": {
   "display_name": "venv",
   "language": "python",
   "name": "python3"
  },
  "language_info": {
   "codemirror_mode": {
    "name": "ipython",
    "version": 3
   },
   "file_extension": ".py",
   "mimetype": "text/x-python",
   "name": "python",
   "nbconvert_exporter": "python",
   "pygments_lexer": "ipython3",
   "version": "3.10.12"
  },
  "orig_nbformat": 4
 },
 "nbformat": 4,
 "nbformat_minor": 2
}
