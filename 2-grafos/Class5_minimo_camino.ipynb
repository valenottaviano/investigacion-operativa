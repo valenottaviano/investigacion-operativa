{
  "cells": [
    {
      "cell_type": "markdown",
      "id": "681bac2f",
      "metadata": {
        "id": "681bac2f"
      },
      "source": [
        "# Problema del camino más corto"
      ]
    },
    {
      "cell_type": "markdown",
      "source": [
        "## Importamos las librerías"
      ],
      "metadata": {
        "id": "DBZH4mHA0jjH"
      },
      "id": "DBZH4mHA0jjH"
    },
    {
      "cell_type": "code",
      "source": [
        "import networkx as nx\n",
        "import matplotlib.pyplot as plt\n",
        "from ortools.linear_solver import pywraplp"
      ],
      "metadata": {
        "id": "nzxHHZ0kwQQa"
      },
      "id": "nzxHHZ0kwQQa",
      "execution_count": null,
      "outputs": []
    },
    {
      "cell_type": "markdown",
      "source": [
        "## Definimos los datos del problema"
      ],
      "metadata": {
        "id": "HQMSbZ-g0lfP"
      },
      "id": "HQMSbZ-g0lfP"
    },
    {
      "cell_type": "code",
      "source": [
        "grafo = [\n",
        "    (\"Casa\", \"Lib1\", 3),\n",
        "    (\"Casa\", \"Lib2\", 6),\n",
        "    (\"Casa\", \"Lib3\", 5),\n",
        "    (\"Lib1\", \"Caf1\", 4),\n",
        "    (\"Lib1\", \"Caf2\", 8),\n",
        "    (\"Lib2\", \"Caf1\", 5),\n",
        "    (\"Lib2\", \"Caf2\", 6),\n",
        "    (\"Lib2\", \"Caf3\", 3),\n",
        "    (\"Lib3\", \"Caf3\", 3),\n",
        "    (\"Caf1\", \"Univ\", 7),\n",
        "    (\"Caf2\", \"Univ\", 5),\n",
        "    (\"Caf3\", \"Univ\", 3)\n",
        "]"
      ],
      "metadata": {
        "id": "irZctkbbwQxa"
      },
      "id": "irZctkbbwQxa",
      "execution_count": null,
      "outputs": []
    },
    {
      "cell_type": "code",
      "source": [
        "pos = {\n",
        "    'Casa': (-0.5, 1),\n",
        "    'Lib1': (1, 2),\n",
        "    'Lib2': (0.5, 1),\n",
        "    'Lib3': (1, 0),\n",
        "    'Caf1': (2, 2),\n",
        "    'Caf2': (2.5, 1),\n",
        "    'Caf3': (2, 0),\n",
        "    'Univ': (3.5, 1)\n",
        "}"
      ],
      "metadata": {
        "id": "VmzOSX1ywTHD"
      },
      "id": "VmzOSX1ywTHD",
      "execution_count": null,
      "outputs": []
    },
    {
      "cell_type": "code",
      "source": [
        "G = nx.DiGraph()\n",
        "for origen, destino, costo in grafo:\n",
        "    G.add_edge(origen, destino, weight=costo)"
      ],
      "metadata": {
        "id": "7lKhtaI8wWmh"
      },
      "id": "7lKhtaI8wWmh",
      "execution_count": null,
      "outputs": []
    },
    {
      "cell_type": "code",
      "source": [
        "nx.draw(G, pos, with_labels=True, node_color='skyblue', node_size=1500, font_size=16, font_weight='bold', arrows=True)\n",
        "labels = nx.get_edge_attributes(G, 'weight')\n",
        "nx.draw_networkx_edge_labels(G, pos, edge_labels=labels, font_size=14, font_weight='bold')\n",
        "\n",
        "plt.show()"
      ],
      "metadata": {
        "id": "THqDqTQjwXJb"
      },
      "id": "THqDqTQjwXJb",
      "execution_count": null,
      "outputs": []
    },
    {
      "cell_type": "markdown",
      "source": [
        "## Definimos el Solver"
      ],
      "metadata": {
        "id": "p-xrwoi00obJ"
      },
      "id": "p-xrwoi00obJ"
    },
    {
      "cell_type": "code",
      "source": [
        "solver = pywraplp.Solver.CreateSolver('CBC')"
      ],
      "metadata": {
        "id": "TuuzK34kwbAe"
      },
      "id": "TuuzK34kwbAe",
      "execution_count": null,
      "outputs": []
    },
    {
      "cell_type": "markdown",
      "source": [
        "## Variables de decisión"
      ],
      "metadata": {
        "id": "Q_-dTzaewfaF"
      },
      "id": "Q_-dTzaewfaF"
    },
    {
      "cell_type": "markdown",
      "source": [
        "\\begin{align*}\n",
        "x_{ij} =\n",
        "\\begin{cases}\n",
        "1, & \\text{si se toma el camino entre el nodo } i \\text{ y el nodo } j \\\\\n",
        "0, & \\text{en caso contrario}\n",
        "\\end{cases}\n",
        "\\end{align*}"
      ],
      "metadata": {
        "id": "Dgl9q8pEwitm"
      },
      "id": "Dgl9q8pEwitm"
    },
    {
      "cell_type": "code",
      "source": [
        "x = {}\n",
        "for origen, destino, costo in grafo:\n",
        "    x[origen, destino] = solver.BoolVar(f\"x_({origen},{destino})\")"
      ],
      "metadata": {
        "id": "zbEcdmwUwlde"
      },
      "id": "zbEcdmwUwlde",
      "execution_count": null,
      "outputs": []
    },
    {
      "cell_type": "markdown",
      "source": [
        "## Función objetivo"
      ],
      "metadata": {
        "id": "wAbS1rmtwpsc"
      },
      "id": "wAbS1rmtwpsc"
    },
    {
      "cell_type": "markdown",
      "source": [
        "\\begin{align*}\n",
        "\\text{Minimizar } \\quad & Z = 3 \\cdot x_{\\text{Casa,Lib1}} + 6 \\cdot x_{\\text{Casa,Lib2}} + 5 \\cdot x_{\\text{Casa,Lib3}} + 4 \\cdot x_{\\text{Lib1,Caf1}} + 8 \\cdot x_{\\text{Lib1,Caf2}} + 5 \\cdot x_{\\text{Lib2,Caf1}} \\\\\n",
        "& + 6 \\cdot x_{\\text{Lib2,Caf2}} + 3 \\cdot x_{\\text{Lib2,Caf3}} + 3 \\cdot x_{\\text{Lib3,Caf3}} + 7 \\cdot x_{\\text{Caf1,Univ}} + 5 \\cdot x_{\\text{Caf2,Univ}} + 3 \\cdot x_{\\text{Caf3,Univ}}\n",
        "\\end{align*}"
      ],
      "metadata": {
        "id": "AqGMc_DLwsvn"
      },
      "id": "AqGMc_DLwsvn"
    },
    {
      "cell_type": "code",
      "source": [
        "solver.Minimize(solver.Sum([costo * x[origen, destino] for origen, destino, costo in grafo]))"
      ],
      "metadata": {
        "id": "XbO140gAwtkB"
      },
      "id": "XbO140gAwtkB",
      "execution_count": null,
      "outputs": []
    },
    {
      "cell_type": "markdown",
      "source": [
        "## Restricciones"
      ],
      "metadata": {
        "id": "pSbUr-PdwvaR"
      },
      "id": "pSbUr-PdwvaR"
    },
    {
      "cell_type": "markdown",
      "source": [
        "**Restricciones de Flujo**\n",
        "\n",
        "1\\. Sólo puede salir una ruta desde Casa:\n",
        "\n",
        "\\begin{align*}\n",
        "x_{\\text{Casa,Lib1}} + x_{\\text{Casa,Lib2}} + x_{\\text{Casa,Lib3}} = 1\n",
        "\\end{align*}\n",
        "\n",
        "2\\. Sólo puede salir una ruta desde cualquier librería:\n",
        "\n",
        "\\begin{align*}\n",
        "x_{\\text{Lib1,Caf1}} + x_{\\text{Lib1,Caf2}} = x_{\\text{Casa,Lib1}}\n",
        "\\end{align*}\n",
        "\n",
        "\\begin{align*}\n",
        "x_{\\text{Lib2,Caf1}} + x_{\\text{Lib2,Caf2}} + x_{\\text{Lib2,Caf3}} = x_{\\text{Casa,Lib2}}\n",
        "\\end{align*}\n",
        "\n",
        "\\begin{align*}\n",
        "x_{\\text{Lib3,Caf3}} = x_{\\text{Casa,Lib3}}\n",
        "\\end{align*}\n",
        "\n",
        "3\\. Solo puede salir una ruta desde cualquier cafetería:\n",
        "\n",
        "\\begin{align*}\n",
        "x_{\\text{Caf1,Univ}} = x_{\\text{Lib1,Caf1}} + x_{\\text{Lib2,Caf1}}\n",
        "\\end{align*}\n",
        "\n",
        "\\begin{align*}\n",
        "x_{\\text{Caf2,Univ}} = x_{\\text{Lib1,Caf2}} + x_{\\text{Lib2,Caf2}}\n",
        "\\end{align*}\n",
        "\n",
        "\\begin{align*}\n",
        "x_{\\text{Caf3,Univ}} = x_{\\text{Lib2,Caf3}} + x_{\\text{Lib3,Caf3}}\n",
        "\\end{align*}"
      ],
      "metadata": {
        "id": "LSVDzfxSwzfz"
      },
      "id": "LSVDzfxSwzfz"
    },
    {
      "cell_type": "markdown",
      "source": [
        "**Restricciones de Integridad**\n",
        "\n",
        "\\begin{align*}\n",
        "\\text{Todas las variables } x_{ij} \\text{ son binarias.}\n",
        "\\end{align*}"
      ],
      "metadata": {
        "id": "_BSZO6-Jw0IN"
      },
      "id": "_BSZO6-Jw0IN"
    },
    {
      "cell_type": "code",
      "source": [
        "solver.Add(x['Casa', 'Lib1'] + x['Casa', 'Lib2'] + x['Casa', 'Lib3'] == 1)\n",
        "\n",
        "solver.Add(x['Lib1', 'Caf1'] + x['Lib1', 'Caf2'] == x['Casa', 'Lib1'])\n",
        "solver.Add(x['Lib2', 'Caf1'] + x['Lib2', 'Caf2'] + x['Lib2', 'Caf3'] == x['Casa', 'Lib2'])\n",
        "solver.Add(x['Lib3', 'Caf3'] == x['Casa', 'Lib3'])\n",
        "\n",
        "solver.Add(x['Caf1', 'Univ'] == x['Lib1', 'Caf1'] + x['Lib2', 'Caf1'])\n",
        "solver.Add(x['Caf2', 'Univ'] == x['Lib1', 'Caf2'] + x['Lib2', 'Caf2'])\n",
        "solver.Add(x['Caf3', 'Univ'] == x['Lib2', 'Caf3'] + x['Lib3', 'Caf3'])"
      ],
      "metadata": {
        "id": "Yh49OXgLw4df"
      },
      "id": "Yh49OXgLw4df",
      "execution_count": null,
      "outputs": []
    },
    {
      "cell_type": "markdown",
      "source": [
        "## Resolución del problema"
      ],
      "metadata": {
        "id": "rK4aqcnvw2Wv"
      },
      "id": "rK4aqcnvw2Wv"
    },
    {
      "cell_type": "code",
      "source": [
        "status = solver.Solve()"
      ],
      "metadata": {
        "id": "vpMHWxeZw94l"
      },
      "id": "vpMHWxeZw94l",
      "execution_count": null,
      "outputs": []
    },
    {
      "cell_type": "markdown",
      "source": [
        "## Resultados"
      ],
      "metadata": {
        "id": "s1fd8UWkw-bC"
      },
      "id": "s1fd8UWkw-bC"
    },
    {
      "cell_type": "code",
      "source": [
        "if status == pywraplp.Solver.OPTIMAL:\n",
        "    print(f\"Distancia total = {solver.Objective().Value()}\")\n",
        "    for origen, destino, _ in grafo:\n",
        "        print(f\"x_({origen}, {destino}) = {x[origen, destino].solution_value()}\")\n",
        "else:\n",
        "    print(\"El problema no tiene una solución óptima.\")"
      ],
      "metadata": {
        "id": "R6WQ0D-vxA1_"
      },
      "id": "R6WQ0D-vxA1_",
      "execution_count": null,
      "outputs": []
    },
    {
      "cell_type": "markdown",
      "source": [
        "## Forma con NetworkX"
      ],
      "metadata": {
        "id": "9mLYVMPoxDLf"
      },
      "id": "9mLYVMPoxDLf"
    },
    {
      "cell_type": "code",
      "source": [
        "shortest_path = nx.shortest_path(G, source='Casa', target='Univ',weight='weight')"
      ],
      "metadata": {
        "id": "U3o1H9VtxEN4"
      },
      "id": "U3o1H9VtxEN4",
      "execution_count": null,
      "outputs": []
    },
    {
      "cell_type": "code",
      "source": [
        "print(shortest_path)"
      ],
      "metadata": {
        "id": "fNeuSG88xF8V"
      },
      "id": "fNeuSG88xF8V",
      "execution_count": null,
      "outputs": []
    }
  ],
  "metadata": {
    "kernelspec": {
      "display_name": "Python 3 (ipykernel)",
      "language": "python",
      "name": "python3"
    },
    "language_info": {
      "codemirror_mode": {
        "name": "ipython",
        "version": 3
      },
      "file_extension": ".py",
      "mimetype": "text/x-python",
      "name": "python",
      "nbconvert_exporter": "python",
      "pygments_lexer": "ipython3",
      "version": "3.10.12"
    },
    "colab": {
      "provenance": []
    }
  },
  "nbformat": 4,
  "nbformat_minor": 5
}