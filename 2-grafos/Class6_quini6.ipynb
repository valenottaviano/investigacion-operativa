{
 "cells": [
  {
   "cell_type": "code",
   "execution_count": 2,
   "id": "6add7ed1",
   "metadata": {},
   "outputs": [],
   "source": [
    "import numpy as np\n",
    "from tqdm import tqdm"
   ]
  },
  {
   "cell_type": "markdown",
   "id": "e49e5fea",
   "metadata": {},
   "source": [
    "Ponemos los datos de los premios basados en los que hubo el 13 de septiembre de 2023"
   ]
  },
  {
   "cell_type": "code",
   "execution_count": 3,
   "id": "07112376",
   "metadata": {},
   "outputs": [],
   "source": [
    "elegido = np.array([6,23,17,7,32,14])\n",
    "premios = [0,0,0,0,1935.96,465168.75,125000000]\n",
    "precio = 100"
   ]
  },
  {
   "cell_type": "code",
   "execution_count": 4,
   "id": "01ca0bca",
   "metadata": {},
   "outputs": [],
   "source": [
    "def sortearQuini6():\n",
    "    \"\"\"\n",
    "    Sortea 6 números para un juego de Quini6.\n",
    "    \n",
    "    Genera un array de 6 números enteros aleatorios sin reemplazo, \n",
    "    cada uno de los cuales se encuentra en el rango de 0 a 45 (inclusive).\n",
    "    \n",
    "    Returns\n",
    "    -------\n",
    "    np.ndarray\n",
    "        Un array de NumPy que contiene 6 números enteros aleatorios.\n",
    "        \n",
    "    Examples\n",
    "    --------\n",
    "    >>> sortearQuini6()\n",
    "    array([12, 35, 8, 22, 14, 40])\n",
    "    \n",
    "    >>> sortearQuini6()\n",
    "    array([ 2, 31, 27,  9, 22,  7])\n",
    "    \n",
    "    Notes\n",
    "    -----\n",
    "    La función utiliza la biblioteca NumPy para generar números aleatorios.\n",
    "    \"\"\"\n",
    "    return np.random.choice(range(46), size = 6,replace = False)"
   ]
  },
  {
   "cell_type": "code",
   "execution_count": 10,
   "id": "d6a2d170",
   "metadata": {},
   "outputs": [],
   "source": [
    "ganador = sortearQuini6()"
   ]
  },
  {
   "cell_type": "code",
   "execution_count": 11,
   "id": "b8f5c3ab",
   "metadata": {},
   "outputs": [
    {
     "data": {
      "text/plain": [
       "array([14,  5, 19, 10, 15, 39])"
      ]
     },
     "execution_count": 11,
     "metadata": {},
     "output_type": "execute_result"
    }
   ],
   "source": [
    "ganador"
   ]
  },
  {
   "cell_type": "code",
   "execution_count": 12,
   "id": "3eb5c0d2",
   "metadata": {},
   "outputs": [],
   "source": [
    "def simularQuini6(elegido, n):\n",
    "    \"\"\"\n",
    "    Simula un número determinado de sorteos de Quini6 y cuenta los aciertos.\n",
    "    \n",
    "    Realiza `n` simulaciones de sorteos de Quini6 y compara cada resultado\n",
    "    con un conjunto de números `elegido`. Almacena el número de aciertos\n",
    "    en un contador.\n",
    "    \n",
    "    Parameters\n",
    "    ----------\n",
    "    elegido : list of int\n",
    "        Los números elegidos para comparar con los números sorteados.\n",
    "        \n",
    "    n : int\n",
    "        Número de simulaciones a realizar.\n",
    "        \n",
    "    Returns\n",
    "    -------\n",
    "    list of int\n",
    "        Una lista de 7 elementos, donde el elemento en el índice `i` \n",
    "        representa el número de sorteos en los que se acertaron exactamente \n",
    "        `i` números.\n",
    "        \n",
    "    Examples\n",
    "    --------\n",
    "    >>> simularQuini6([1, 2, 3, 4, 5, 6], 10000)\n",
    "    [9520, 420, 50, 8, 1, 0, 1]\n",
    "    \n",
    "    Notes\n",
    "    -----\n",
    "    Esta función utiliza la biblioteca tqdm para mostrar una barra de progreso,\n",
    "    así como NumPy para la generación de números aleatorios.\n",
    "    \n",
    "    \"\"\"\n",
    "    contador = [0,0,0,0,0,0,0]\n",
    "    for aux in tqdm(range(n)):\n",
    "        ganador = sortearQuini6()\n",
    "        contador[sum([True for x in elegido if x in ganador])] += 1\n",
    "    return contador"
   ]
  },
  {
   "cell_type": "code",
   "execution_count": 13,
   "id": "0fef32be",
   "metadata": {},
   "outputs": [
    {
     "name": "stderr",
     "output_type": "stream",
     "text": [
      "100%|███████████████████████████████████████| 100/100 [00:00<00:00, 6953.42it/s]\n"
     ]
    },
    {
     "data": {
      "text/plain": [
       "[41, 45, 14, 0, 0, 0, 0]"
      ]
     },
     "execution_count": 13,
     "metadata": {},
     "output_type": "execute_result"
    }
   ],
   "source": [
    "contador = simularQuini6(elegido, 100)\n",
    "\n",
    "contador"
   ]
  },
  {
   "cell_type": "code",
   "execution_count": 14,
   "id": "2a68df3a",
   "metadata": {},
   "outputs": [],
   "source": [
    "def calcularGanancias(contador, premios, precio):\n",
    "    \"\"\"\n",
    "    Calcula las ganancias totales a partir de un contador de aciertos, una lista de premios y el precio por juego.\n",
    "    \n",
    "    Multiplica cada elemento del contador por su premio correspondiente, suma estos productos\n",
    "    y resta el costo total de las jugadas para obtener las ganancias netas.\n",
    "    \n",
    "    Parameters\n",
    "    ----------\n",
    "    contador : list of int\n",
    "        Una lista de 7 elementos, donde el elemento en el índice `i`\n",
    "        representa el número de sorteos en los que se acertaron exactamente `i` números.\n",
    "        \n",
    "    premios : list of float\n",
    "        Una lista de 7 elementos, donde el elemento en el índice `i`\n",
    "        representa el premio en dinero por acertar exactamente `i` números.\n",
    "        \n",
    "    precio : float\n",
    "        El costo en dinero de una sola jugada de Quini6.\n",
    "        \n",
    "    Returns\n",
    "    -------\n",
    "    float\n",
    "        Las ganancias netas calculadas a partir del contador de aciertos, los premios y el precio por jugada.\n",
    "        \n",
    "    Examples\n",
    "    --------\n",
    "    >>> calcularGanancias([9520, 420, 50, 8, 1, 0, 1], [0, 10, 100, 1000, 10000, 100000, 1000000], 2)\n",
    "    94920.0\n",
    "    \n",
    "    Notes\n",
    "    -----\n",
    "    La función utiliza la biblioteca NumPy para operaciones vectorizadas.\n",
    "    \"\"\"\n",
    "    \n",
    "    return sum(contador * np.array(premios)) - sum(contador) * precio "
   ]
  },
  {
   "cell_type": "code",
   "execution_count": 22,
   "id": "5a47f0d8",
   "metadata": {},
   "outputs": [
    {
     "name": "stderr",
     "output_type": "stream",
     "text": [
      "100%|██████████████████████████████| 1000000/1000000 [01:13<00:00, 13680.79it/s]\n"
     ]
    },
    {
     "data": {
      "text/plain": [
       "[409133, 421798, 146618, 21149, 1266, 36, 0]"
      ]
     },
     "execution_count": 22,
     "metadata": {},
     "output_type": "execute_result"
    }
   ],
   "source": [
    "contador = simularQuini6(elegido, 1000000)\n",
    "\n",
    "contador"
   ]
  },
  {
   "cell_type": "code",
   "execution_count": 23,
   "id": "05f32168",
   "metadata": {},
   "outputs": [
    {
     "data": {
      "text/plain": [
       "-80802999.64"
      ]
     },
     "execution_count": 23,
     "metadata": {},
     "output_type": "execute_result"
    }
   ],
   "source": [
    "calcularGanancias(contador, premios, precio)"
   ]
  }
 ],
 "metadata": {
  "kernelspec": {
   "display_name": "Python 3 (ipykernel)",
   "language": "python",
   "name": "python3"
  },
  "language_info": {
   "codemirror_mode": {
    "name": "ipython",
    "version": 3
   },
   "file_extension": ".py",
   "mimetype": "text/x-python",
   "name": "python",
   "nbconvert_exporter": "python",
   "pygments_lexer": "ipython3",
   "version": "3.10.12"
  }
 },
 "nbformat": 4,
 "nbformat_minor": 5
}
