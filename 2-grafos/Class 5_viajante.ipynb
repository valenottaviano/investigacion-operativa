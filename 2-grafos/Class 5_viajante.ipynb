{
  "cells": [
    {
      "cell_type": "markdown",
      "id": "681bac2f",
      "metadata": {
        "id": "681bac2f"
      },
      "source": [
        "# Problema del viajante"
      ]
    },
    {
      "cell_type": "markdown",
      "source": [
        "## Importamos las librerías"
      ],
      "metadata": {
        "id": "DBZH4mHA0jjH"
      },
      "id": "DBZH4mHA0jjH"
    },
    {
      "cell_type": "code",
      "source": [
        "import pandas as pd\n",
        "import networkx as nx\n",
        "import matplotlib.pyplot as plt\n",
        "from ortools.linear_solver import pywraplp"
      ],
      "metadata": {
        "id": "nzxHHZ0kwQQa"
      },
      "id": "nzxHHZ0kwQQa",
      "execution_count": null,
      "outputs": []
    },
    {
      "cell_type": "markdown",
      "source": [
        "## Definimos los datos del problema"
      ],
      "metadata": {
        "id": "HQMSbZ-g0lfP"
      },
      "id": "HQMSbZ-g0lfP"
    },
    {
      "cell_type": "code",
      "source": [
        "data = {\n",
        "    'París': [0, 1054, 1274, 1421, 500, 1372, 1035],\n",
        "    'Berlín': [1054, 0, 2305, 1181, 649, 572, 280],\n",
        "    'Madrid': [1274, 2305, 0, 1960, 1486, 2955, 1992],\n",
        "    'Roma': [1421, 1181, 1960, 0, 1632, 1800, 1341],\n",
        "    'Ámsterdam': [500, 649, 1486, 1632, 0, 1097, 874],\n",
        "    'Varsovia': [1372, 572, 2955, 1800, 1097, 0, 517],\n",
        "    'Praga': [1035, 280, 1992, 1341, 874, 517, 0]\n",
        "}\n",
        "\n",
        "distancias = pd.DataFrame(data, index=['París', 'Berlín', 'Madrid', 'Roma', 'Ámsterdam', 'Varsovia', 'Praga'])\n",
        "\n",
        "G = nx.Graph()\n",
        "for ciudad1 in distancias.columns:\n",
        "    for ciudad2 in distancias.index:\n",
        "        if ciudad1 != ciudad2:\n",
        "            G.add_edge(ciudad1, ciudad2, weight=distancias.at[ciudad1, ciudad2])\n",
        "\n",
        "coordenadas = {\n",
        "    'París': (-0.5, 3),\n",
        "    'Berlín': (3, 4.5),\n",
        "    'Madrid': (-3, 0),\n",
        "    'Roma': (2, 0),\n",
        "    'Ámsterdam': (1, 4.5),\n",
        "    'Varsovia': (5, 4.2),\n",
        "    'Praga': (3.5, 3.5)\n",
        "}"
      ],
      "metadata": {
        "id": "irZctkbbwQxa"
      },
      "id": "irZctkbbwQxa",
      "execution_count": null,
      "outputs": []
    },
    {
      "cell_type": "code",
      "source": [
        "plt.figure(figsize=(12, 12))\n",
        "\n",
        "nx.draw(G, coordenadas, with_labels=True, node_color='lightblue', font_weight='bold', node_size=700, font_size=18)\n",
        "etiquetas = nx.get_edge_attributes(G, 'weight')\n",
        "nx.draw_networkx_edge_labels(G, coordenadas, edge_labels=etiquetas, label_pos=0.5, font_size=14)\n",
        "\n",
        "plt.show()"
      ],
      "metadata": {
        "id": "THqDqTQjwXJb"
      },
      "id": "THqDqTQjwXJb",
      "execution_count": null,
      "outputs": []
    },
    {
      "cell_type": "code",
      "source": [
        "distancias = distancias.astype(float)\n",
        "ciudades = distancias.index.tolist()\n",
        "\n",
        "distancias"
      ],
      "metadata": {
        "id": "ZQIN7d4clFUI"
      },
      "id": "ZQIN7d4clFUI",
      "execution_count": null,
      "outputs": []
    },
    {
      "cell_type": "markdown",
      "source": [
        "## Definimos el Solver"
      ],
      "metadata": {
        "id": "p-xrwoi00obJ"
      },
      "id": "p-xrwoi00obJ"
    },
    {
      "cell_type": "code",
      "source": [
        "solver = pywraplp.Solver.CreateSolver('CBC')"
      ],
      "metadata": {
        "id": "TuuzK34kwbAe"
      },
      "id": "TuuzK34kwbAe",
      "execution_count": null,
      "outputs": []
    },
    {
      "cell_type": "markdown",
      "source": [
        "## Variables de decisión"
      ],
      "metadata": {
        "id": "Q_-dTzaewfaF"
      },
      "id": "Q_-dTzaewfaF"
    },
    {
      "cell_type": "markdown",
      "source": [
        "\\begin{align*}\n",
        "x_{ij} =\n",
        "\\begin{cases}\n",
        "1, & \\text{si se viaja de la ciudad } i \\text{ a la ciudad } j \\\\\n",
        "0, & \\text{en otro caso}\n",
        "\\end{cases}\n",
        "\\end{align*}\n",
        "\n",
        "\\begin{align*}\n",
        "u_i = \\text{orden de visita de la ciudad } i\n",
        "\\end{align*}"
      ],
      "metadata": {
        "id": "Dgl9q8pEwitm"
      },
      "id": "Dgl9q8pEwitm"
    },
    {
      "cell_type": "code",
      "source": [
        "# Variables x\n",
        "x = {}\n",
        "for origen in ciudades:\n",
        "    for destino in ciudades:\n",
        "        if origen != destino:\n",
        "            x[origen, destino] = solver.IntVar(0, 1, f'x_{origen}_{destino}')\n",
        "\n",
        "# Variables u\n",
        "u = {}\n",
        "for ciudad in ciudades[1:]:  # Omitimos la primera ciudad\n",
        "    u[ciudad] = solver.IntVar(1, len(ciudades) - 1, f'u_{ciudad}')"
      ],
      "metadata": {
        "id": "zbEcdmwUwlde"
      },
      "id": "zbEcdmwUwlde",
      "execution_count": null,
      "outputs": []
    },
    {
      "cell_type": "markdown",
      "source": [
        "## Función objetivo"
      ],
      "metadata": {
        "id": "wAbS1rmtwpsc"
      },
      "id": "wAbS1rmtwpsc"
    },
    {
      "cell_type": "markdown",
      "source": [
        "\\begin{align*}\n",
        "\\text{Min } Z = \\sum_{i \\neq j} c_{ij} x_{ij}\n",
        "\\end{align*}"
      ],
      "metadata": {
        "id": "AqGMc_DLwsvn"
      },
      "id": "AqGMc_DLwsvn"
    },
    {
      "cell_type": "code",
      "source": [
        "objective = solver.Objective()\n",
        "for origen in ciudades:\n",
        "    for destino in ciudades:\n",
        "        if origen != destino:\n",
        "            objective.SetCoefficient(x[origen, destino], distancias.at[origen, destino])\n",
        "objective.SetMinimization()"
      ],
      "metadata": {
        "id": "XbO140gAwtkB"
      },
      "id": "XbO140gAwtkB",
      "execution_count": null,
      "outputs": []
    },
    {
      "cell_type": "markdown",
      "source": [
        "## Restricciones"
      ],
      "metadata": {
        "id": "pSbUr-PdwvaR"
      },
      "id": "pSbUr-PdwvaR"
    },
    {
      "cell_type": "markdown",
      "source": [
        "\\begin{align*}\n",
        "\\text{1. Cada ciudad debe ser visitada exactamente una vez:}\n",
        "\\end{align*}\n",
        "\n",
        "\\begin{align*}\n",
        "\\sum_{i \\neq j} x_{ij} = 1, \\quad \\forall j \\in \\text{Ciudades}\n",
        "\\\\\n",
        "\\sum_{i \\neq j} x_{ji} = 1, \\quad \\forall i \\in \\text{Ciudades}\n",
        "\\end{align*}"
      ],
      "metadata": {
        "id": "LSVDzfxSwzfz"
      },
      "id": "LSVDzfxSwzfz"
    },
    {
      "cell_type": "code",
      "source": [
        "for ciudad in ciudades:\n",
        "    solver.Add(sum(x[ciudad, destino] for destino in ciudades if ciudad != destino) == 1)\n",
        "    solver.Add(sum(x[origen, ciudad] for origen in ciudades if ciudad != origen) == 1)"
      ],
      "metadata": {
        "id": "YwrURvLSmsSC"
      },
      "id": "YwrURvLSmsSC",
      "execution_count": null,
      "outputs": []
    },
    {
      "cell_type": "markdown",
      "source": [
        "\\begin{align*}\n",
        "\\text{2. Eliminación de subtours:}\n",
        "\\\\\n",
        "u_i - u_j + 7 x_{ij} \\leq 6, \\quad \\forall i \\neq j\n",
        "\\end{align*}"
      ],
      "metadata": {
        "id": "_BSZO6-Jw0IN"
      },
      "id": "_BSZO6-Jw0IN"
    },
    {
      "cell_type": "code",
      "source": [
        "for origen in ciudades[1:]:\n",
        "    for destino in ciudades[1:]:\n",
        "        if origen != destino:\n",
        "            solver.Add(u[origen] - u[destino] + len(ciudades) * x[origen, destino] <= len(ciudades) - 1)"
      ],
      "metadata": {
        "id": "Yh49OXgLw4df"
      },
      "id": "Yh49OXgLw4df",
      "execution_count": null,
      "outputs": []
    },
    {
      "cell_type": "markdown",
      "source": [
        "## Resolución del problema"
      ],
      "metadata": {
        "id": "rK4aqcnvw2Wv"
      },
      "id": "rK4aqcnvw2Wv"
    },
    {
      "cell_type": "code",
      "source": [
        "status = solver.Solve()"
      ],
      "metadata": {
        "id": "vpMHWxeZw94l"
      },
      "id": "vpMHWxeZw94l",
      "execution_count": null,
      "outputs": []
    },
    {
      "cell_type": "markdown",
      "source": [
        "## Resultados"
      ],
      "metadata": {
        "id": "s1fd8UWkw-bC"
      },
      "id": "s1fd8UWkw-bC"
    },
    {
      "cell_type": "code",
      "source": [
        "if status == pywraplp.Solver.OPTIMAL:\n",
        "    print(f'Solución óptima encontrada con distancia total = {solver.Objective().Value()}')\n",
        "    for origen in ciudades:\n",
        "        for destino in ciudades:\n",
        "            if origen != destino and x[origen, destino].solution_value():\n",
        "                print(f'De {origen} a {destino}')\n",
        "else:\n",
        "    print('No se pudo encontrar una solución óptima.')"
      ],
      "metadata": {
        "id": "R6WQ0D-vxA1_"
      },
      "id": "R6WQ0D-vxA1_",
      "execution_count": null,
      "outputs": []
    },
    {
      "cell_type": "code",
      "source": [
        "for ciudad in ciudades[1:]:\n",
        "    print(ciudad, u[ciudad].solution_value())"
      ],
      "metadata": {
        "id": "1jcdBPyDnH5p"
      },
      "id": "1jcdBPyDnH5p",
      "execution_count": null,
      "outputs": []
    }
  ],
  "metadata": {
    "kernelspec": {
      "display_name": "Python 3 (ipykernel)",
      "language": "python",
      "name": "python3"
    },
    "language_info": {
      "codemirror_mode": {
        "name": "ipython",
        "version": 3
      },
      "file_extension": ".py",
      "mimetype": "text/x-python",
      "name": "python",
      "nbconvert_exporter": "python",
      "pygments_lexer": "ipython3",
      "version": "3.10.12"
    },
    "colab": {
      "provenance": []
    }
  },
  "nbformat": 4,
  "nbformat_minor": 5
}