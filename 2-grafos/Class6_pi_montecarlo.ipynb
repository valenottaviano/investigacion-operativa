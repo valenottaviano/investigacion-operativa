{
 "cells": [
  {
   "cell_type": "code",
   "execution_count": 4,
   "id": "bf8883ba",
   "metadata": {},
   "outputs": [],
   "source": [
    "import random\n",
    "import matplotlib.pyplot as plt\n",
    "from tqdm import tqdm"
   ]
  },
  {
   "cell_type": "markdown",
   "id": "65c57fb7",
   "metadata": {},
   "source": [
    "Intentaremos calcular Pi utilizando el método de Montecarlo"
   ]
  },
  {
   "cell_type": "markdown",
   "id": "856531b9",
   "metadata": {},
   "source": [
    "Creamos una función para elegir un número aleatorio en el plano cartesiano, entre (-1,-1) y (1,1)"
   ]
  },
  {
   "cell_type": "code",
   "execution_count": 5,
   "id": "8a4c7e37",
   "metadata": {},
   "outputs": [],
   "source": [
    "\n",
    "def elegir_punto_aleatorio():\n",
    "    \"\"\"\n",
    "    Genera un punto aleatorio (x, y) en el rango (-1, 1) para ambas coordenadas.\n",
    "\n",
    "    Returns\n",
    "    -------\n",
    "    tuple of float\n",
    "        Las coordenadas (x, y) del punto aleatorio.\n",
    "\n",
    "    Examples\n",
    "    --------\n",
    "    >>> elegir_punto_aleatorio()\n",
    "    (0.123456789, 0.987654321)\n",
    "\n",
    "    Notes\n",
    "    -----\n",
    "    La función utiliza la biblioteca `random` de Python para generar\n",
    "    las coordenadas aleatorias. La generación es uniforme sobre el rango (-1, 1).\n",
    "\n",
    "    \"\"\"\n",
    "    x = random.uniform(-1, 1)\n",
    "    y = random.uniform(-1, 1)\n",
    "    return x, y\n"
   ]
  },
  {
   "cell_type": "markdown",
   "id": "aefab171",
   "metadata": {},
   "source": [
    "Calculamos si el punto se encontraría dentro de un círculo de radio 1 con centro en (0,0)"
   ]
  },
  {
   "cell_type": "code",
   "execution_count": 6,
   "id": "6c83fdf0",
   "metadata": {},
   "outputs": [],
   "source": [
    "def calcular_dentro_del_circulo(x, y):\n",
    "    \"\"\"\n",
    "    Determina si un punto con coordenadas (x, y) está dentro de un círculo de radio 1 centrado en el origen.\n",
    "\n",
    "    Parameters\n",
    "    ----------\n",
    "    x : float\n",
    "        Coordenada x del punto.\n",
    "    y : float\n",
    "        Coordenada y del punto.\n",
    "\n",
    "    Returns\n",
    "    -------\n",
    "    bool\n",
    "        Devuelve True si el punto está dentro del círculo, y False de lo contrario.\n",
    "\n",
    "    Examples\n",
    "    --------\n",
    "    >>> calcular_dentro_del_circulo(0.5, 0.5)\n",
    "    True\n",
    "    >>> calcular_dentro_del_circulo(1, 1)\n",
    "    False\n",
    "\n",
    "    Notes\n",
    "    -----\n",
    "    La función calcula la distancia al origen del punto (x, y) y compara si esta distancia\n",
    "    es menor o igual a 1, que es el radio del círculo. \n",
    "    \"\"\"\n",
    "    distancia_al_origen = x ** 2 + y ** 2\n",
    "    if distancia_al_origen <= 1:\n",
    "        return True\n",
    "    else:\n",
    "        return False"
   ]
  },
  {
   "cell_type": "markdown",
   "id": "39143862",
   "metadata": {},
   "source": [
    "Ahora creamos la función para utilizar el método Montecarlo"
   ]
  },
  {
   "cell_type": "code",
   "execution_count": 7,
   "id": "84ce8d1a",
   "metadata": {},
   "outputs": [],
   "source": [
    "def simular_puntos_aleatorios(n_puntos, con_dibujo=False):\n",
    "    \"\"\"\n",
    "    Simula n_puntos aleatorios para estimar el valor de π utilizando el método de Montecarlo.\n",
    "\n",
    "    Parameters\n",
    "    ----------\n",
    "    n_puntos : int\n",
    "        Número de puntos aleatorios a generar para la simulación.\n",
    "    con_dibujo : bool, optional\n",
    "        Si es True, muestra un gráfico de los puntos y la aproximación de π. \n",
    "        Por defecto es False.\n",
    "\n",
    "    Returns\n",
    "    -------\n",
    "    list of float\n",
    "        Lista de aproximaciones de π basadas en la simulación de Montecarlo en cada iteración.\n",
    "\n",
    "    Examples\n",
    "    --------\n",
    "    >>> simular_puntos_aleatorios(1000)\n",
    "    [3.004, 3.112, ..., 3.128]\n",
    "    >>> simular_puntos_aleatorios(1000, con_dibujo=True)\n",
    "    # Muestra un gráfico y devuelve la lista de aproximaciones, por ejemplo, [3.004, 3.112, ..., 3.128]\n",
    "\n",
    "    Notes\n",
    "    -----\n",
    "    La función genera n_puntos aleatorios en el rango (-1, 1) para ambas coordenadas x y y.\n",
    "    Utiliza la función `calcular_dentro_del_circulo` para determinar si cada punto está dentro de \n",
    "    un círculo de radio 1 centrado en el origen.\n",
    "\n",
    "    Si `con_dibujo` es True, la función también produce un gráfico que muestra todos los puntos \n",
    "    aleatorios y su ubicación relativa al círculo, además de la aproximación de π.\n",
    "\n",
    "    La barra de progreso de la simulación se muestra gracias a la biblioteca `tqdm`.\n",
    "\n",
    "    La lista `aproximaciones_pi` contiene las estimaciones de π en cada iteración.\n",
    "    \"\"\"\n",
    "    puntos_dentro_del_circulo = 0\n",
    "    lista_pi_aproximados = []\n",
    "    \n",
    "    if con_dibujo:\n",
    "        plt.figure(figsize=(6, 6))\n",
    "        plt.xlim(-1, 1)\n",
    "        plt.ylim(-1, 1)\n",
    "        circulo = plt.Circle((0, 0), 1, fill=False, color='orange', linestyle='dotted')\n",
    "        plt.gca().add_artist(circulo)\n",
    "    \n",
    "    for iteracion in tqdm(range(n_puntos)):\n",
    "        x, y = elegir_punto_aleatorio()\n",
    "        \n",
    "        if calcular_dentro_del_circulo(x, y):\n",
    "            puntos_dentro_del_circulo += 1\n",
    "            if con_dibujo:\n",
    "                plt.scatter(x, y, c='blue')\n",
    "        else:\n",
    "            if con_dibujo:\n",
    "                plt.scatter(x, y, c='red')\n",
    "        \n",
    "        pi_aproximado = (puntos_dentro_del_circulo / (iteracion+1)) * 4\n",
    "        lista_pi_aproximados.append(pi_aproximado)\n",
    "    \n",
    "    if con_dibujo:\n",
    "        plt.show()\n",
    "    \n",
    "    return lista_pi_aproximados\n"
   ]
  },
  {
   "cell_type": "code",
   "execution_count": null,
   "id": "7674acd1",
   "metadata": {
    "scrolled": false
   },
   "outputs": [],
   "source": [
    "lista_pi_aproximados = simular_puntos_aleatorios(n_puntos=10000,con_dibujo=True)"
   ]
  },
  {
   "cell_type": "code",
   "execution_count": null,
   "id": "a27c8fec",
   "metadata": {},
   "outputs": [
    {
     "name": "stderr",
     "output_type": "stream",
     "text": [
      "100%|███████████████████████████████| 500000/500000 [00:00<00:00, 699834.95it/s]\n"
     ]
    }
   ],
   "source": [
    "lista_pi_aproximados = simular_puntos_aleatorios(n_puntos=500000,con_dibujo=False)"
   ]
  },
  {
   "cell_type": "code",
   "execution_count": null,
   "id": "43234218",
   "metadata": {},
   "outputs": [],
   "source": [
    "def graficar_aproximacion_pi(aproximaciones_pi):\n",
    "    # Graficar la aproximación de Pi en función de n_puntos\n",
    "    plt.figure(figsize=(10, 6))\n",
    "    \n",
    "    # Generar lista de índices, comenzando desde 1 hasta la longitud de aproximaciones_pi\n",
    "    indices = [i+1 for i in range(len(aproximaciones_pi))]\n",
    "    \n",
    "    plt.plot(indices, aproximaciones_pi, marker='.', label=\"Aproximación de π\")\n",
    "    plt.axhline(y=3.14159, color='r', linestyle='--', label=\"Valor verdadero de π\")\n",
    "    \n",
    "    plt.title(f\"Aproximación de π en función de n_puntos (Aproximado {round(aproximaciones_pi[-1], 4)})\")\n",
    "    plt.xlabel(\"Número de puntos\")\n",
    "    plt.ylabel(\"Aproximación de π\")\n",
    "    plt.legend()\n",
    "    plt.show()\n"
   ]
  },
  {
   "cell_type": "code",
   "execution_count": null,
   "id": "7e44f92b",
   "metadata": {},
   "outputs": [
    {
     "data": {
      "image/png": "[encoded data removed]",
      "text/plain": [
       "<Figure size 1000x600 with 1 Axes>"
      ]
     },
     "metadata": {},
     "output_type": "display_data"
    }
   ],
   "source": [
    "graficar_aproximacion_pi(lista_pi_aproximados)"
   ]
  }
 ],
 "metadata": {
  "kernelspec": {
   "display_name": "Python 3 (ipykernel)",
   "language": "python",
   "name": "python3"
  },
  "language_info": {
   "codemirror_mode": {
    "name": "ipython",
    "version": 3
   },
   "file_extension": ".py",
   "mimetype": "text/x-python",
   "name": "python",
   "nbconvert_exporter": "python",
   "pygments_lexer": "ipython3",
   "version": "3.10.12"
  }
 },
 "nbformat": 4,
 "nbformat_minor": 5
}
