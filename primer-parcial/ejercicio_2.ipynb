{
 "cells": [
  {
   "cell_type": "code",
   "execution_count": 267,
   "metadata": {},
   "outputs": [],
   "source": [
    "import pandas as pd\n",
    "from ortools.linear_solver import pywraplp"
   ]
  },
  {
   "cell_type": "code",
   "execution_count": 268,
   "metadata": {},
   "outputs": [
    {
     "data": {
      "text/html": [
       "<div>\n",
       "<style scoped>\n",
       "    .dataframe tbody tr th:only-of-type {\n",
       "        vertical-align: middle;\n",
       "    }\n",
       "\n",
       "    .dataframe tbody tr th {\n",
       "        vertical-align: top;\n",
       "    }\n",
       "\n",
       "    .dataframe thead th {\n",
       "        text-align: right;\n",
       "    }\n",
       "</style>\n",
       "<table border=\"1\" class=\"dataframe\">\n",
       "  <thead>\n",
       "    <tr style=\"text-align: right;\">\n",
       "      <th></th>\n",
       "      <th>cantidad</th>\n",
       "      <th>presa</th>\n",
       "    </tr>\n",
       "  </thead>\n",
       "  <tbody>\n",
       "    <tr>\n",
       "      <th>G</th>\n",
       "      <td>100</td>\n",
       "      <td>M</td>\n",
       "    </tr>\n",
       "    <tr>\n",
       "      <th>M</th>\n",
       "      <td>70</td>\n",
       "      <td>L</td>\n",
       "    </tr>\n",
       "    <tr>\n",
       "      <th>L</th>\n",
       "      <td>50</td>\n",
       "      <td>G</td>\n",
       "    </tr>\n",
       "  </tbody>\n",
       "</table>\n",
       "</div>"
      ],
      "text/plain": [
       "   cantidad presa\n",
       "G       100     M\n",
       "M        70     L\n",
       "L        50     G"
      ]
     },
     "execution_count": 268,
     "metadata": {},
     "output_type": "execute_result"
    }
   ],
   "source": [
    "data = pd.DataFrame({\n",
    "    'cantidad': [100, 70, 50],\n",
    "    'presa': ['M', 'L', 'G']\n",
    "},index=['G', 'M', 'L'])\n",
    "data"
   ]
  },
  {
   "cell_type": "code",
   "execution_count": 269,
   "metadata": {},
   "outputs": [],
   "source": [
    "solver = pywraplp.Solver.CreateSolver('CBC')"
   ]
  },
  {
   "cell_type": "code",
   "execution_count": 270,
   "metadata": {},
   "outputs": [],
   "source": [
    "variables = {}\n",
    "\n",
    "for viaje in range(1,9):\n",
    "    for pez, cols in data.iterrows():\n",
    "        variable = solver.IntVar(0, solver.infinity(), f'X_{pez}_{viaje}')\n",
    "        variables[(pez, viaje)] = variable\n",
    "\n",
    "# variables"
   ]
  },
  {
   "cell_type": "code",
   "execution_count": 271,
   "metadata": {},
   "outputs": [
    {
     "data": {
      "text/plain": [
       "{('G', 1): X_G_1,\n",
       " ('M', 1): X_M_1,\n",
       " ('L', 1): X_L_1,\n",
       " ('G', 2): X_G_2,\n",
       " ('M', 2): X_M_2,\n",
       " ('L', 2): X_L_2,\n",
       " ('G', 3): X_G_3,\n",
       " ('M', 3): X_M_3,\n",
       " ('L', 3): X_L_3,\n",
       " ('G', 4): X_G_4,\n",
       " ('M', 4): X_M_4,\n",
       " ('L', 4): X_L_4,\n",
       " ('G', 5): X_G_5,\n",
       " ('M', 5): X_M_5,\n",
       " ('L', 5): X_L_5,\n",
       " ('G', 6): X_G_6,\n",
       " ('M', 6): X_M_6,\n",
       " ('L', 6): X_L_6,\n",
       " ('G', 7): X_G_7,\n",
       " ('M', 7): X_M_7,\n",
       " ('L', 7): X_L_7,\n",
       " ('G', 8): X_G_8,\n",
       " ('M', 8): X_M_8,\n",
       " ('L', 8): X_L_8}"
      ]
     },
     "execution_count": 271,
     "metadata": {},
     "output_type": "execute_result"
    }
   ],
   "source": [
    "variables"
   ]
  },
  {
   "cell_type": "code",
   "execution_count": 272,
   "metadata": {},
   "outputs": [],
   "source": [
    "# Máxima cantidad de peces por viaje\n",
    "for viaje in range(1,9):\n",
    "    ct = solver.Constraint(0, 30, f'Máxima cantidad de peces para el viaje {viaje}')\n",
    "    for pez in data.index.values:\n",
    "        ct.SetCoefficient(variables[(pez, viaje)], 1)"
   ]
  },
  {
   "cell_type": "code",
   "execution_count": 273,
   "metadata": {},
   "outputs": [],
   "source": [
    "# Máxima cantidad de peces\n",
    "for pez, cols in data.iterrows():\n",
    "    ct2 = solver.Constraint(cols['cantidad'], cols['cantidad'], f'Maxima cantidad de peces totales {pez}')\n",
    "    for viaje in range(1,9):\n",
    "        ct2.SetCoefficient(variables[(pez, viaje)], 1)"
   ]
  },
  {
   "cell_type": "code",
   "execution_count": 274,
   "metadata": {},
   "outputs": [],
   "source": [
    "for viaje in range(1,9):\n",
    "    for pez, cols in data.iterrows():\n",
    "        depredador = variables[pez, viaje] \n",
    "        presa = variables[cols['presa'], viaje]\n",
    "        solver.Add(  depredador <= (2*presa + 1) )\n",
    "#     _ = solver.Add( variables['M', viaje] <= variables['G', viaje], f'Depredador G -> M para viaje: {viaje}')\n",
    "#     _ = solver.Add( variables['L', viaje] <= variables['M', viaje], f'Depredador M -> L para viaje: {viaje}')\n",
    "#     _ = solver.Add( variables['G', viaje] <= variables['L', viaje], f'Depredador L -> G para viaje: {viaje}')"
   ]
  },
  {
   "cell_type": "code",
   "execution_count": 275,
   "metadata": {},
   "outputs": [],
   "source": [
    "objective = solver.Objective()\n",
    "\n",
    "for pez, cols in data.iterrows():\n",
    "    for viaje in range(1,9):\n",
    "        objective.SetCoefficient(variables[(pez, viaje)],1)\n",
    "\n",
    "objective.SetMaximization()"
   ]
  },
  {
   "cell_type": "code",
   "execution_count": 276,
   "metadata": {},
   "outputs": [
    {
     "name": "stdout",
     "output_type": "stream",
     "text": [
      " Generated by MPModelProtoExporter\n",
      "   Name             : \n",
      "   Format           : Free\n",
      "   Constraints      : 35\n",
      "   Variables        : 24\n",
      "     Binary         : 0\n",
      "     Integer        : 24\n",
      "     Continuous     : 0\n",
      "Maximize\n",
      " Obj: +1 X_G_1 +1 X_M_1 +1 X_L_1 +1 X_G_2 +1 X_M_2 +1 X_L_2 +1 X_G_3 +1 X_M_3 +1 X_L_3 +1 X_G_4 +1 X_M_4 +1 X_L_4 +1 X_G_5 +1 X_M_5 +1 X_L_5 +1 X_G_6 +1 X_M_6 +1 X_L_6 +1 X_G_7 +1 X_M_7 +1 X_L_7 +1 X_G_8 +1 X_M_8 +1 X_L_8 \n",
      "Subject to\n",
      " Máxima_cantidad_de_peces_para_el_viaje_1_rhs: +1 X_G_1 +1 X_M_1 +1 X_L_1  <= 30\n",
      " Máxima_cantidad_de_peces_para_el_viaje_1_lhs: +1 X_G_1 +1 X_M_1 +1 X_L_1  >= 0\n",
      " Máxima_cantidad_de_peces_para_el_viaje_2_rhs: +1 X_G_2 +1 X_M_2 +1 X_L_2  <= 30\n",
      " Máxima_cantidad_de_peces_para_el_viaje_2_lhs: +1 X_G_2 +1 X_M_2 +1 X_L_2  >= 0\n",
      " Máxima_cantidad_de_peces_para_el_viaje_3_rhs: +1 X_G_3 +1 X_M_3 +1 X_L_3  <= 30\n",
      " Máxima_cantidad_de_peces_para_el_viaje_3_lhs: +1 X_G_3 +1 X_M_3 +1 X_L_3  >= 0\n",
      " Máxima_cantidad_de_peces_para_el_viaje_4_rhs: +1 X_G_4 +1 X_M_4 +1 X_L_4  <= 30\n",
      " Máxima_cantidad_de_peces_para_el_viaje_4_lhs: +1 X_G_4 +1 X_M_4 +1 X_L_4  >= 0\n",
      " Máxima_cantidad_de_peces_para_el_viaje_5_rhs: +1 X_G_5 +1 X_M_5 +1 X_L_5  <= 30\n",
      " Máxima_cantidad_de_peces_para_el_viaje_5_lhs: +1 X_G_5 +1 X_M_5 +1 X_L_5  >= 0\n",
      " Máxima_cantidad_de_peces_para_el_viaje_6_rhs: +1 X_G_6 +1 X_M_6 +1 X_L_6  <= 30\n",
      " Máxima_cantidad_de_peces_para_el_viaje_6_lhs: +1 X_G_6 +1 X_M_6 +1 X_L_6  >= 0\n",
      " Máxima_cantidad_de_peces_para_el_viaje_7_rhs: +1 X_G_7 +1 X_M_7 +1 X_L_7  <= 30\n",
      " Máxima_cantidad_de_peces_para_el_viaje_7_lhs: +1 X_G_7 +1 X_M_7 +1 X_L_7  >= 0\n",
      " Máxima_cantidad_de_peces_para_el_viaje_8_rhs: +1 X_G_8 +1 X_M_8 +1 X_L_8  <= 30\n",
      " Máxima_cantidad_de_peces_para_el_viaje_8_lhs: +1 X_G_8 +1 X_M_8 +1 X_L_8  >= 0\n",
      " Maxima_cantidad_de_peces_totales_G: +1 X_G_1 +1 X_G_2 +1 X_G_3 +1 X_G_4 +1 X_G_5 +1 X_G_6 +1 X_G_7 +1 X_G_8  = 100\n",
      " Maxima_cantidad_de_peces_totales_M: +1 X_M_1 +1 X_M_2 +1 X_M_3 +1 X_M_4 +1 X_M_5 +1 X_M_6 +1 X_M_7 +1 X_M_8  = 70\n",
      " Maxima_cantidad_de_peces_totales_L: +1 X_L_1 +1 X_L_2 +1 X_L_3 +1 X_L_4 +1 X_L_5 +1 X_L_6 +1 X_L_7 +1 X_L_8  = 50\n",
      " auto_c_000000011: +1 X_G_1 -2 X_M_1  <= 1\n",
      " auto_c_000000012: +1 X_M_1 -2 X_L_1  <= 1\n",
      " auto_c_000000013: -2 X_G_1 +1 X_L_1  <= 1\n",
      " auto_c_000000014: +1 X_G_2 -2 X_M_2  <= 1\n",
      " auto_c_000000015: +1 X_M_2 -2 X_L_2  <= 1\n",
      " auto_c_000000016: -2 X_G_2 +1 X_L_2  <= 1\n",
      " auto_c_000000017: +1 X_G_3 -2 X_M_3  <= 1\n",
      " auto_c_000000018: +1 X_M_3 -2 X_L_3  <= 1\n",
      " auto_c_000000019: -2 X_G_3 +1 X_L_3  <= 1\n",
      " auto_c_000000020: +1 X_G_4 -2 X_M_4  <= 1\n",
      " auto_c_000000021: +1 X_M_4 -2 X_L_4  <= 1\n",
      " auto_c_000000022: -2 X_G_4 +1 X_L_4  <= 1\n",
      " auto_c_000000023: +1 X_G_5 -2 X_M_5  <= 1\n",
      " auto_c_000000024: +1 X_M_5 -2 X_L_5  <= 1\n",
      " auto_c_000000025: -2 X_G_5 +1 X_L_5  <= 1\n",
      " auto_c_000000026: +1 X_G_6 -2 X_M_6  <= 1\n",
      " auto_c_000000027: +1 X_M_6 -2 X_L_6  <= 1\n",
      " auto_c_000000028: -2 X_G_6 +1 X_L_6  <= 1\n",
      " auto_c_000000029: +1 X_G_7 -2 X_M_7  <= 1\n",
      " auto_c_000000030: +1 X_M_7 -2 X_L_7  <= 1\n",
      " auto_c_000000031: -2 X_G_7 +1 X_L_7  <= 1\n",
      " auto_c_000000032: +1 X_G_8 -2 X_M_8  <= 1\n",
      " auto_c_000000033: +1 X_M_8 -2 X_L_8  <= 1\n",
      " auto_c_000000034: -2 X_G_8 +1 X_L_8  <= 1\n",
      "Bounds\n",
      " 0 <= X_G_1 <= inf\n",
      " 0 <= X_M_1 <= inf\n",
      " 0 <= X_L_1 <= inf\n",
      " 0 <= X_G_2 <= inf\n",
      " 0 <= X_M_2 <= inf\n",
      " 0 <= X_L_2 <= inf\n",
      " 0 <= X_G_3 <= inf\n",
      " 0 <= X_M_3 <= inf\n",
      " 0 <= X_L_3 <= inf\n",
      " 0 <= X_G_4 <= inf\n",
      " 0 <= X_M_4 <= inf\n",
      " 0 <= X_L_4 <= inf\n",
      " 0 <= X_G_5 <= inf\n",
      " 0 <= X_M_5 <= inf\n",
      " 0 <= X_L_5 <= inf\n",
      " 0 <= X_G_6 <= inf\n",
      " 0 <= X_M_6 <= inf\n",
      " 0 <= X_L_6 <= inf\n",
      " 0 <= X_G_7 <= inf\n",
      " 0 <= X_M_7 <= inf\n",
      " 0 <= X_L_7 <= inf\n",
      " 0 <= X_G_8 <= inf\n",
      " 0 <= X_M_8 <= inf\n",
      " 0 <= X_L_8 <= inf\n",
      "Generals\n",
      " X_G_1\n",
      " X_M_1\n",
      " X_L_1\n",
      " X_G_2\n",
      " X_M_2\n",
      " X_L_2\n",
      " X_G_3\n",
      " X_M_3\n",
      " X_L_3\n",
      " X_G_4\n",
      " X_M_4\n",
      " X_L_4\n",
      " X_G_5\n",
      " X_M_5\n",
      " X_L_5\n",
      " X_G_6\n",
      " X_M_6\n",
      " X_L_6\n",
      " X_G_7\n",
      " X_M_7\n",
      " X_L_7\n",
      " X_G_8\n",
      " X_M_8\n",
      " X_L_8\n",
      "End\n",
      "\n"
     ]
    }
   ],
   "source": [
    "print(solver.ExportModelAsLpFormat(False).replace('\\\\', '').replace(',_', ','), sep='\\n')"
   ]
  },
  {
   "cell_type": "code",
   "execution_count": 277,
   "metadata": {},
   "outputs": [
    {
     "name": "stdout",
     "output_type": "stream",
     "text": [
      "El problema tiene una solución óptima\n"
     ]
    }
   ],
   "source": [
    "status = solver.Solve()\n",
    "\n",
    "if status == pywraplp.Solver.OPTIMAL:\n",
    "    print('El problema tiene una solución óptima')\n",
    "else:\n",
    "    print('No se encontró una solución óptima')\n"
   ]
  },
  {
   "cell_type": "code",
   "execution_count": 278,
   "metadata": {},
   "outputs": [
    {
     "data": {
      "text/plain": [
       "220.0"
      ]
     },
     "execution_count": 278,
     "metadata": {},
     "output_type": "execute_result"
    }
   ],
   "source": [
    "solver.Objective().Value()"
   ]
  },
  {
   "cell_type": "code",
   "execution_count": 279,
   "metadata": {},
   "outputs": [
    {
     "data": {
      "text/html": [
       "<div>\n",
       "<style scoped>\n",
       "    .dataframe tbody tr th:only-of-type {\n",
       "        vertical-align: middle;\n",
       "    }\n",
       "\n",
       "    .dataframe tbody tr th {\n",
       "        vertical-align: top;\n",
       "    }\n",
       "\n",
       "    .dataframe thead th {\n",
       "        text-align: right;\n",
       "    }\n",
       "</style>\n",
       "<table border=\"1\" class=\"dataframe\">\n",
       "  <thead>\n",
       "    <tr style=\"text-align: right;\">\n",
       "      <th></th>\n",
       "      <th>1</th>\n",
       "      <th>2</th>\n",
       "      <th>3</th>\n",
       "      <th>4</th>\n",
       "      <th>5</th>\n",
       "      <th>6</th>\n",
       "      <th>7</th>\n",
       "      <th>8</th>\n",
       "    </tr>\n",
       "  </thead>\n",
       "  <tbody>\n",
       "    <tr>\n",
       "      <th>G</th>\n",
       "      <td>4</td>\n",
       "      <td>17</td>\n",
       "      <td>17</td>\n",
       "      <td>7</td>\n",
       "      <td>17</td>\n",
       "      <td>12</td>\n",
       "      <td>17</td>\n",
       "      <td>9</td>\n",
       "    </tr>\n",
       "    <tr>\n",
       "      <th>M</th>\n",
       "      <td>17</td>\n",
       "      <td>9</td>\n",
       "      <td>9</td>\n",
       "      <td>3</td>\n",
       "      <td>8</td>\n",
       "      <td>12</td>\n",
       "      <td>8</td>\n",
       "      <td>4</td>\n",
       "    </tr>\n",
       "    <tr>\n",
       "      <th>L</th>\n",
       "      <td>9</td>\n",
       "      <td>4</td>\n",
       "      <td>4</td>\n",
       "      <td>1</td>\n",
       "      <td>4</td>\n",
       "      <td>6</td>\n",
       "      <td>5</td>\n",
       "      <td>17</td>\n",
       "    </tr>\n",
       "  </tbody>\n",
       "</table>\n",
       "</div>"
      ],
      "text/plain": [
       "    1   2   3  4   5   6   7   8\n",
       "G   4  17  17  7  17  12  17   9\n",
       "M  17   9   9  3   8  12   8   4\n",
       "L   9   4   4  1   4   6   5  17"
      ]
     },
     "execution_count": 279,
     "metadata": {},
     "output_type": "execute_result"
    }
   ],
   "source": [
    "results = pd.DataFrame(\n",
    "    columns=[i for i in range(1,9)],\n",
    "    index = data.index.values,\n",
    "    data=0\n",
    ")\n",
    "\n",
    "for pez, cols in data.iterrows():\n",
    "    for viaje in range(1,9):\n",
    "        results.loc[pez, viaje] = variables[pez, viaje].solution_value()\n",
    "\n",
    "results\n"
   ]
  }
 ],
 "metadata": {
  "kernelspec": {
   "display_name": "venv",
   "language": "python",
   "name": "python3"
  },
  "language_info": {
   "codemirror_mode": {
    "name": "ipython",
    "version": 3
   },
   "file_extension": ".py",
   "mimetype": "text/x-python",
   "name": "python",
   "nbconvert_exporter": "python",
   "pygments_lexer": "ipython3",
   "version": "3.10.12"
  },
  "orig_nbformat": 4
 },
 "nbformat": 4,
 "nbformat_minor": 2
}
