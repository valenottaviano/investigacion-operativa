{
 "cells": [
  {
   "cell_type": "code",
   "execution_count": 1,
   "metadata": {},
   "outputs": [],
   "source": [
    "import pandas as pd\n",
    "from ortools.linear_solver import pywraplp\n",
    "import numpy as np\n"
   ]
  },
  {
   "cell_type": "code",
   "execution_count": 2,
   "metadata": {},
   "outputs": [],
   "source": [
    "solver = pywraplp.Solver.CreateSolver('CBC')"
   ]
  },
  {
   "cell_type": "markdown",
   "metadata": {},
   "source": [
    "## Variables de decisión"
   ]
  },
  {
   "cell_type": "code",
   "execution_count": 3,
   "metadata": {},
   "outputs": [],
   "source": [
    "variables = {}\n",
    "\n",
    "for i in range(1,6):\n",
    "    for j in range(1, 6):\n",
    "        for k in range(1,26):\n",
    "            variables[(i,j,k)] = solver.BoolVar(f'X_{i},{j},{k}')\n",
    "\n",
    "# variables"
   ]
  },
  {
   "cell_type": "markdown",
   "metadata": {},
   "source": [
    "## Restricciones"
   ]
  },
  {
   "cell_type": "code",
   "execution_count": 4,
   "metadata": {},
   "outputs": [
    {
     "data": {
      "text/plain": [
       "<ortools.linear_solver.pywraplp.Constraint; proxy of <Swig Object of type 'operations_research::MPConstraint *' at 0x7fd4f4a6cea0> >"
      ]
     },
     "execution_count": 4,
     "metadata": {},
     "output_type": "execute_result"
    }
   ],
   "source": [
    "# Cada número en la cuadricula tiene asociado solo un número de los disponibles\n",
    "for i in range(1,6):\n",
    "    for j in range(1,6):\n",
    "        solver.Add(solver.Sum([variables[i,j,k] for k in range(1,26)]) == 1)\n",
    "\n",
    "# Cada número disponible tiene que ir en un solo casillero de la cuadrícula\n",
    "for k in range(1,26):\n",
    "    k_variables = []\n",
    "    for i in range(1,6):\n",
    "        for j in range(1,6):\n",
    "            k_variables.append(variables[i,j,k])\n",
    "    solver.Add(solver.Sum([x for x in k_variables])== 1)\n",
    "\n",
    "\n",
    "# Restricción de suma horizontal y vertical\n",
    "\n",
    "for i in range(1,6):\n",
    "    row = []\n",
    "    for j in range(1,6):\n",
    "        for k in range(1,26):\n",
    "            row.append((variables[i,j,k], k))\n",
    "    \n",
    "    # Compara fila con columna\n",
    "    for j in range(1,6):\n",
    "        col = []\n",
    "        for i2 in range(1,6):\n",
    "            for k in range(1,26):\n",
    "                col.append((variables[i2,j,k], k))\n",
    "    \n",
    "        solver.Add(solver.Sum([r[0]*r[1] for r in row]) == solver.Sum(c[0]*c[1] for c in col))\n",
    "\n",
    "\n",
    "first_row = []\n",
    "for j in range(1,6):\n",
    "    for k in range(1,26):\n",
    "        first_row.append((variables[1,j,k], k))\n",
    "    \n",
    "diag1 = []\n",
    "diag2 = []\n",
    "for j in range(1,6):\n",
    "    for k in range(1,26):\n",
    "        diag1.append((variables[j,j,k], k))\n",
    "        diag2.append((variables[6-j,j,k], k))\n",
    "\n",
    "solver.Add(solver.Sum([r[0]*r[1] for r in first_row]) == solver.Sum(c[0]*c[1] for c in diag1))\n",
    "solver.Add(solver.Sum([r[0]*r[1] for r in first_row]) == solver.Sum(c[0]*c[1] for c in diag2))\n",
    "\n"
   ]
  },
  {
   "cell_type": "markdown",
   "metadata": {},
   "source": [
    "## Objective Function"
   ]
  },
  {
   "cell_type": "code",
   "execution_count": 5,
   "metadata": {},
   "outputs": [],
   "source": [
    "solver.Maximize(solver.Sum([x for x in variables.values()]))"
   ]
  },
  {
   "cell_type": "code",
   "execution_count": 6,
   "metadata": {},
   "outputs": [],
   "source": [
    "status = solver.Solve()"
   ]
  },
  {
   "cell_type": "code",
   "execution_count": null,
   "metadata": {},
   "outputs": [],
   "source": [
    "matrix = pd.DataFrame(\n",
    "    columns=[i for i in range(1,6)],\n",
    "    index=[j for j in range(1,6)],\n",
    "    data=0\n",
    ")"
   ]
  },
  {
   "cell_type": "code",
   "execution_count": null,
   "metadata": {},
   "outputs": [],
   "source": [
    "if status == pywraplp.Solver.OPTIMAL:\n",
    "    print(f\"Cantidad de valores = {solver.Objective().Value()}\")\n",
    "    for i in range(1,6):\n",
    "        for j in range(1, 6):\n",
    "            for k in range(1,26):\n",
    "                if variables[i,j,k].solution_value() == 1:\n",
    "                    matrix.loc[i,j] = k\n",
    "    for i, row in matrix.iterrows():\n",
    "        print(np.sum(row.values))\n",
    "else:\n",
    "    print(\"El problema no tiene una solución óptima.\")"
   ]
  },
  {
   "cell_type": "code",
   "execution_count": null,
   "metadata": {},
   "outputs": [],
   "source": [
    "matrix"
   ]
  }
 ],
 "metadata": {
  "kernelspec": {
   "display_name": "venv",
   "language": "python",
   "name": "python3"
  },
  "language_info": {
   "codemirror_mode": {
    "name": "ipython",
    "version": 3
   },
   "file_extension": ".py",
   "mimetype": "text/x-python",
   "name": "python",
   "nbconvert_exporter": "python",
   "pygments_lexer": "ipython3",
   "version": "3.10.12"
  },
  "orig_nbformat": 4
 },
 "nbformat": 4,
 "nbformat_minor": 2
}
