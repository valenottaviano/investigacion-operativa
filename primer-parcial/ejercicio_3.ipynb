{
 "cells": [
  {
   "cell_type": "code",
   "execution_count": 55,
   "metadata": {},
   "outputs": [],
   "source": [
    "import pandas as pd\n",
    "from ortools.linear_solver import pywraplp\n",
    "import numpy as np\n"
   ]
  },
  {
   "cell_type": "code",
   "execution_count": 56,
   "metadata": {},
   "outputs": [],
   "source": [
    "solver = pywraplp.Solver.CreateSolver('CBC')"
   ]
  },
  {
   "cell_type": "markdown",
   "metadata": {},
   "source": [
    "## Variables de decisión"
   ]
  },
  {
   "cell_type": "code",
   "execution_count": 57,
   "metadata": {},
   "outputs": [],
   "source": [
    "variables = {}\n",
    "\n",
    "for i in range(1,6):\n",
    "    for j in range(1, 6):\n",
    "        for k in range(1,26):\n",
    "            variables[(i,j,k)] = solver.BoolVar(f'X_{i},{j},{k}')\n",
    "\n",
    "# variables"
   ]
  },
  {
   "cell_type": "markdown",
   "metadata": {},
   "source": [
    "## Restricciones"
   ]
  },
  {
   "cell_type": "code",
   "execution_count": 59,
   "metadata": {},
   "outputs": [],
   "source": [
    "# Cada número en la cuadricula tiene asociado solo un número de los disponibles\n",
    "for i in range(1,6):\n",
    "    for j in range(1,6):\n",
    "        solver.Add(solver.Sum([variables[i,j,k] for k in range(1,26)]) == 1)\n",
    "\n",
    "# Cada número disponible tiene que ir en un solo casillero de la cuadrícula\n",
    "for k in range(1,26):\n",
    "    k_variables = []\n",
    "    for i in range(1,6):\n",
    "        for j in range(1,6):\n",
    "            k_variables.append(variables[i,j,k])\n",
    "    solver.Add(solver.Sum([x for x in k_variables])== 1)\n",
    "\n",
    "\n",
    "# Restricción de suma horizontal\n",
    "\n",
    "for i in range(1,6):\n",
    "    row = []\n",
    "    for j in range(1,6):\n",
    "        for k in range(1,26):\n",
    "            row.append(variables[i,j,k])\n",
    "    \n",
    "    for j in range(1,6):\n",
    "        col = []\n",
    "        for i2 in range(1,6):\n",
    "            for k in range(1,26):\n",
    "                col.append(variables[i2,j,k])\n"
   ]
  },
  {
   "cell_type": "markdown",
   "metadata": {},
   "source": [
    "## Objective Function"
   ]
  },
  {
   "cell_type": "code",
   "execution_count": 60,
   "metadata": {},
   "outputs": [],
   "source": [
    "solver.Maximize(solver.Sum([x for x in variables.values()]))"
   ]
  },
  {
   "cell_type": "code",
   "execution_count": 61,
   "metadata": {},
   "outputs": [],
   "source": [
    "status = solver.Solve()"
   ]
  },
  {
   "cell_type": "code",
   "execution_count": 62,
   "metadata": {},
   "outputs": [],
   "source": [
    "matrix = pd.DataFrame(\n",
    "    columns=[i for i in range(1,6)],\n",
    "    index=[j for j in range(1,6)],\n",
    "    data=0\n",
    ")"
   ]
  },
  {
   "cell_type": "code",
   "execution_count": 63,
   "metadata": {},
   "outputs": [
    {
     "name": "stdout",
     "output_type": "stream",
     "text": [
      "Cantidad de valores = 25.0\n"
     ]
    }
   ],
   "source": [
    "if status == pywraplp.Solver.OPTIMAL:\n",
    "    print(f\"Cantidad de valores = {solver.Objective().Value()}\")\n",
    "    for i in range(1,6):\n",
    "        for j in range(1, 6):\n",
    "            for k in range(1,26):\n",
    "                if variables[i,j,k].solution_value() == 1:\n",
    "                    matrix.loc[i,j] = k\n",
    "else:\n",
    "    print(\"El problema no tiene una solución óptima.\")"
   ]
  },
  {
   "cell_type": "code",
   "execution_count": 65,
   "metadata": {},
   "outputs": [],
   "source": []
  },
  {
   "cell_type": "code",
   "execution_count": 76,
   "metadata": {},
   "outputs": [
    {
     "name": "stdout",
     "output_type": "stream",
     "text": [
      "88\n",
      "62\n",
      "75\n",
      "48\n",
      "52\n"
     ]
    }
   ],
   "source": [
    "for i, row in matrix.iterrows():\n",
    "    print(np.sum(row.values))\n"
   ]
  }
 ],
 "metadata": {
  "kernelspec": {
   "display_name": "venv",
   "language": "python",
   "name": "python3"
  },
  "language_info": {
   "codemirror_mode": {
    "name": "ipython",
    "version": 3
   },
   "file_extension": ".py",
   "mimetype": "text/x-python",
   "name": "python",
   "nbconvert_exporter": "python",
   "pygments_lexer": "ipython3",
   "version": "3.10.12"
  },
  "orig_nbformat": 4
 },
 "nbformat": 4,
 "nbformat_minor": 2
}
