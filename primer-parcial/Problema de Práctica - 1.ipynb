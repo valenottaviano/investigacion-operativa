{
 "cells": [
  {
   "cell_type": "code",
   "execution_count": 10,
   "id": "9f8f1ba2",
   "metadata": {},
   "outputs": [],
   "source": [
    "from ortools.linear_solver import pywraplp\n",
    "solver = pywraplp.Solver.CreateSolver('GLOP')"
   ]
  },
  {
   "cell_type": "code",
   "execution_count": 11,
   "id": "76e40e65",
   "metadata": {},
   "outputs": [],
   "source": [
    "T = solver.NumVar(0, solver.infinity(), f'Cant TurboGizmo')\n",
    "\n",
    "M = solver.NumVar(0, solver.infinity(), f'Cant MegaWidget')\n",
    "\n",
    "U = solver.NumVar(0, solver.infinity(), f'Cant UltraThing')\n",
    "\n",
    "P = solver.NumVar(0, solver.infinity(), f'Cant PowerGadget')"
   ]
  },
  {
   "cell_type": "code",
   "execution_count": 12,
   "id": "ffbf0613",
   "metadata": {},
   "outputs": [
    {
     "name": "stdout",
     "output_type": "stream",
     "text": [
      "Objective value = 17000.0\n",
      "TurboGizmo = 266.66666666666674\n",
      "MegaWidget = 166.6666666666667\n",
      "UltraThing = 266.6666666666666\n",
      "PowerGadget = 0.0\n"
     ]
    }
   ],
   "source": [
    "# Definir la función objetivo: Maximizar 20*T + 30*M + 25*U + 35*P\n",
    "objective = solver.Objective()\n",
    "objective.SetCoefficient(T, 20)\n",
    "objective.SetCoefficient(M, 30)\n",
    "objective.SetCoefficient(U, 25)\n",
    "objective.SetCoefficient(P, 35)\n",
    "objective.SetMaximization()\n",
    "\n",
    "# Tiempo de máquina: 1*T + 2*M + 1.5*U + 2.5*P <= 1000\n",
    "constraint1 = solver.Constraint(0, 1000)\n",
    "constraint1.SetCoefficient(T, 1)\n",
    "constraint1.SetCoefficient(M, 2)\n",
    "constraint1.SetCoefficient(U, 1.5)\n",
    "constraint1.SetCoefficient(P, 2.5)\n",
    "\n",
    "# Material: 3*T + 4*M + 2*U + 5*P <= 2000\n",
    "constraint2 = solver.Constraint(0, 2000)\n",
    "constraint2.SetCoefficient(T, 3)\n",
    "constraint2.SetCoefficient(M, 4)\n",
    "constraint2.SetCoefficient(U, 2)\n",
    "constraint2.SetCoefficient(P, 5)\n",
    "\n",
    "# Mano de obra: 2*T + 1*M + 3*U + 2*P <= 1500\n",
    "constraint3 = solver.Constraint(0, 1500)\n",
    "constraint3.SetCoefficient(T, 2)\n",
    "constraint3.SetCoefficient(M, 1)\n",
    "constraint3.SetCoefficient(U, 3)\n",
    "constraint3.SetCoefficient(P, 2)\n",
    "\n",
    "# Resolver el problema\n",
    "status = solver.Solve()\n",
    "\n",
    "if status == pywraplp.Solver.OPTIMAL:\n",
    "    print('Objective value =', solver.Objective().Value())\n",
    "    print('TurboGizmo =', T.solution_value())\n",
    "    print('MegaWidget =', M.solution_value())\n",
    "    print('UltraThing =', U.solution_value())\n",
    "    print('PowerGadget =', P.solution_value())\n",
    "else:\n",
    "    print('El problema no tiene una solución óptima.')"
   ]
  },
  {
   "cell_type": "code",
   "execution_count": 15,
   "id": "5868f833",
   "metadata": {},
   "outputs": [
    {
     "data": {
      "text/plain": [
       "2.0"
      ]
     },
     "execution_count": 15,
     "metadata": {},
     "output_type": "execute_result"
    }
   ],
   "source": [
    "constraint3.dual_value()"
   ]
  }
 ],
 "metadata": {
  "kernelspec": {
   "display_name": "Python 3 (ipykernel)",
   "language": "python",
   "name": "python3"
  },
  "language_info": {
   "codemirror_mode": {
    "name": "ipython",
    "version": 3
   },
   "file_extension": ".py",
   "mimetype": "text/x-python",
   "name": "python",
   "nbconvert_exporter": "python",
   "pygments_lexer": "ipython3",
   "version": "3.8.10"
  }
 },
 "nbformat": 4,
 "nbformat_minor": 5
}
