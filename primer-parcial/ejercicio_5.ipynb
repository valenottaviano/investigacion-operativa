{
 "cells": [
  {
   "cell_type": "code",
   "execution_count": 81,
   "metadata": {},
   "outputs": [],
   "source": [
    "import random\n",
    "import pandas as pd\n",
    "from collections import Counter"
   ]
  },
  {
   "cell_type": "code",
   "execution_count": 82,
   "metadata": {},
   "outputs": [
    {
     "data": {
      "text/html": [
       "<div>\n",
       "<style scoped>\n",
       "    .dataframe tbody tr th:only-of-type {\n",
       "        vertical-align: middle;\n",
       "    }\n",
       "\n",
       "    .dataframe tbody tr th {\n",
       "        vertical-align: top;\n",
       "    }\n",
       "\n",
       "    .dataframe thead th {\n",
       "        text-align: right;\n",
       "    }\n",
       "</style>\n",
       "<table border=\"1\" class=\"dataframe\">\n",
       "  <thead>\n",
       "    <tr style=\"text-align: right;\">\n",
       "      <th></th>\n",
       "      <th>puntos</th>\n",
       "    </tr>\n",
       "  </thead>\n",
       "  <tbody>\n",
       "    <tr>\n",
       "      <th>boca</th>\n",
       "      <td>45</td>\n",
       "    </tr>\n",
       "    <tr>\n",
       "      <th>racing</th>\n",
       "      <td>47</td>\n",
       "    </tr>\n",
       "    <tr>\n",
       "      <th>atletico</th>\n",
       "      <td>50</td>\n",
       "    </tr>\n",
       "  </tbody>\n",
       "</table>\n",
       "</div>"
      ],
      "text/plain": [
       "          puntos\n",
       "boca          45\n",
       "racing        47\n",
       "atletico      50"
      ]
     },
     "execution_count": 82,
     "metadata": {},
     "output_type": "execute_result"
    }
   ],
   "source": [
    "data = pd.DataFrame(\n",
    "    data={'puntos': [45,47,50]},\n",
    "    index=['boca', 'racing', 'atletico']\n",
    ")\n",
    "data"
   ]
  },
  {
   "cell_type": "code",
   "execution_count": 83,
   "metadata": {},
   "outputs": [],
   "source": [
    "n_simulations = 10000"
   ]
  },
  {
   "cell_type": "code",
   "execution_count": 84,
   "metadata": {},
   "outputs": [],
   "source": [
    "def perform_match(table, equipo):\n",
    "    data = table.copy()\n",
    "    prev_puntos = data.loc[equipo]['puntos']\n",
    "    data.loc[equipo]['puntos'] = prev_puntos + random.choice([3,1,0])\n",
    "    return data\n",
    "\n",
    "\n",
    "def find_max_index(df):\n",
    "    max_value = df.iloc[:, 0].max()\n",
    "    max_indexes = df[df.iloc[:, 0] == max_value].index.tolist()\n",
    "    return max_indexes\n"
   ]
  },
  {
   "cell_type": "code",
   "execution_count": 85,
   "metadata": {},
   "outputs": [],
   "source": [
    "history = []\n",
    "winners_history = []\n",
    "winners_numbers_history = []\n",
    "for _ in range(n_simulations):\n",
    "    data_i = data.copy()\n",
    "    for team in data.index.values:\n",
    "        for _ in range(2):\n",
    "            data_i = perform_match(data_i,team)\n",
    "    winners = find_max_index(data_i)\n",
    "    winners_history.append(winners[0])\n",
    "    winners_numbers_history.append(len(winners))\n",
    "\n",
    "winners_numbers_history = Counter(winners_numbers_history)\n",
    "winners_history = Counter(winners_history)"
   ]
  },
  {
   "cell_type": "code",
   "execution_count": 88,
   "metadata": {},
   "outputs": [
    {
     "name": "stdout",
     "output_type": "stream",
     "text": [
      "atletico: 80.45 %\n",
      "racing: 16.52 %\n",
      "boca: 3.03 %\n"
     ]
    }
   ],
   "source": [
    "for key in winners_history.keys():\n",
    "    print(f'{key}: {winners_history[key]*100/n_simulations} %')"
   ]
  },
  {
   "cell_type": "code",
   "execution_count": 89,
   "metadata": {},
   "outputs": [
    {
     "name": "stdout",
     "output_type": "stream",
     "text": [
      "1: 89.0%\n",
      "2: 10.59%\n",
      "3: 0.41%\n"
     ]
    }
   ],
   "source": [
    "for key in winners_numbers_history.keys():\n",
    "    print(f'Cantidad de ganadores {key}: {winners_numbers_history[key]*100/n_simulations}%')"
   ]
  },
  {
   "cell_type": "code",
   "execution_count": null,
   "metadata": {},
   "outputs": [],
   "source": []
  }
 ],
 "metadata": {
  "kernelspec": {
   "display_name": "venv",
   "language": "python",
   "name": "python3"
  },
  "language_info": {
   "codemirror_mode": {
    "name": "ipython",
    "version": 3
   },
   "file_extension": ".py",
   "mimetype": "text/x-python",
   "name": "python",
   "nbconvert_exporter": "python",
   "pygments_lexer": "ipython3",
   "version": "3.10.12"
  },
  "orig_nbformat": 4
 },
 "nbformat": 4,
 "nbformat_minor": 2
}
