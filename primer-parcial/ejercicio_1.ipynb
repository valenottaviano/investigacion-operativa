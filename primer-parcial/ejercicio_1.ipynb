{
 "cells": [
  {
   "cell_type": "markdown",
   "metadata": {},
   "source": [
    "## Ejercicio 1"
   ]
  },
  {
   "cell_type": "code",
   "execution_count": 1,
   "metadata": {},
   "outputs": [],
   "source": [
    "import pandas as pd\n",
    "from ortools.linear_solver import pywraplp"
   ]
  },
  {
   "cell_type": "code",
   "execution_count": 2,
   "metadata": {},
   "outputs": [],
   "source": [
    "solver = pywraplp.Solver.CreateSolver('GLOP')"
   ]
  },
  {
   "cell_type": "markdown",
   "metadata": {},
   "source": [
    "## Variables de decisión"
   ]
  },
  {
   "cell_type": "code",
   "execution_count": 3,
   "metadata": {},
   "outputs": [],
   "source": [
    "turbo = solver.NumVar(0, solver.infinity(), 'Cantidad que debo producir del producto TurboGizmo') \n",
    "mega = solver.NumVar(0, solver.infinity(), 'Cantidad que debo producir del producto MegaWidget') \n",
    "ultra = solver.NumVar(0, solver.infinity(), 'Cantidad que debo producir del producto UltraThing') \n",
    "power = solver.NumVar(0, solver.infinity(), 'Cantidad que debo producir del producto PowerGadget') "
   ]
  },
  {
   "cell_type": "markdown",
   "metadata": {},
   "source": [
    "## Restricciones"
   ]
  },
  {
   "cell_type": "code",
   "execution_count": 4,
   "metadata": {},
   "outputs": [],
   "source": [
    "rest_tiempo_max = solver.Add(turbo + 2 * mega + 1.5 * ultra + 2.5 * power <= 1000, 'Máxima cantidad de tiempo disponible')\n",
    "rest_materia_max = solver.Add(3 * turbo + 4 * mega + 2 * ultra + 5 * power <= 2000, 'Máxima cantidad de materia prima disponible')\n",
    "rest_obra_max = solver.Add(2 * turbo + mega + 3 * ultra + 2 * power <= 1500, 'Máxima cantidad de mano de obra disponible')\n",
    "rest_min_power = solver.Add(power >= 100)"
   ]
  },
  {
   "cell_type": "markdown",
   "metadata": {},
   "source": [
    "## Función Objetivo"
   ]
  },
  {
   "cell_type": "code",
   "execution_count": 5,
   "metadata": {},
   "outputs": [],
   "source": [
    "solver.Maximize(20 * turbo + 30 * mega + 25 * ultra + 35 * power)\n",
    "status = solver.Solve()"
   ]
  },
  {
   "cell_type": "code",
   "execution_count": 6,
   "metadata": {},
   "outputs": [
    {
     "name": "stdout",
     "output_type": "stream",
     "text": [
      "El problema tiene una solución óptima\n"
     ]
    }
   ],
   "source": [
    "if status == pywraplp.Solver.OPTIMAL:\n",
    "    print('El problema tiene una solución óptima')\n",
    "else:\n",
    "    print('No se encontró una solución óptima')"
   ]
  },
  {
   "cell_type": "code",
   "execution_count": 7,
   "metadata": {},
   "outputs": [
    {
     "name": "stdout",
     "output_type": "stream",
     "text": [
      "246.66666666666677\n",
      "66.66666666666669\n",
      "246.66666666666657\n",
      "100.0\n"
     ]
    }
   ],
   "source": [
    "turbo_opt = turbo.SolutionValue()\n",
    "mega_opt = mega.SolutionValue()\n",
    "ultra_opt = ultra.SolutionValue()\n",
    "power_opt = power.SolutionValue()\n",
    "\n",
    "print(turbo_opt)\n",
    "print(mega_opt)\n",
    "print(ultra_opt)\n",
    "print(power_opt)\n",
    "\n"
   ]
  },
  {
   "cell_type": "code",
   "execution_count": 8,
   "metadata": {},
   "outputs": [
    {
     "name": "stdout",
     "output_type": "stream",
     "text": [
      "Ingreso máximo:  16600.0\n"
     ]
    }
   ],
   "source": [
    "print('Ingreso máximo: ', solver.Objective().Value())"
   ]
  },
  {
   "cell_type": "markdown",
   "metadata": {},
   "source": [
    "### Precios sombra"
   ]
  },
  {
   "cell_type": "code",
   "execution_count": 9,
   "metadata": {},
   "outputs": [
    {
     "data": {
      "text/plain": [
       "(10.000000000000002, 1.9999999999999998, 2.0)"
      ]
     },
     "execution_count": 9,
     "metadata": {},
     "output_type": "execute_result"
    }
   ],
   "source": [
    "rest_tiempo_max.dual_value(), rest_materia_max.dual_value(), rest_obra_max.dual_value()"
   ]
  }
 ],
 "metadata": {
  "kernelspec": {
   "display_name": "venv",
   "language": "python",
   "name": "python3"
  },
  "language_info": {
   "codemirror_mode": {
    "name": "ipython",
    "version": 3
   },
   "file_extension": ".py",
   "mimetype": "text/x-python",
   "name": "python",
   "nbconvert_exporter": "python",
   "pygments_lexer": "ipython3",
   "version": "3.10.12"
  },
  "orig_nbformat": 4
 },
 "nbformat": 4,
 "nbformat_minor": 2
}
