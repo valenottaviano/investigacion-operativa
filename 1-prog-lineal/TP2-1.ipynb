{
 "cells": [
  {
   "cell_type": "markdown",
   "metadata": {},
   "source": [
    "# Ejercicio 1\n",
    "\n",
    "Manuel tiene un local de pastas en Tafí Viejo. Acaba de firmar un presupuesto para\n",
    "vender pastas en un casamiento. Para ello necesita:\n",
    "- 20 kgs de carne\n",
    "- 50 kgs de harina\n",
    "- 30 kgs de tomate \n",
    "- 30 kgs de queso\n",
    "\n",
    "Tiene dos proveedores:\n",
    "- Distribuidora La Pedrera, que le puede vender \n",
    "    - Hasta 15 kgs de carne a $3000 el kg\n",
    "    - Harina a $650 el kg\n",
    "    - Tomate a $1300 el kg\n",
    "    - Queso a $1800 el kg\n",
    "- Distribuidora El Nogal, que le puede vender\n",
    "    - Carne a $3200 el kg\n",
    "    - Hasta 10kg de harina a $550 el kg\n",
    "    - Tomate a $1200 el kg\n",
    "    - Queso a $1900 el kg\n",
    "\n",
    "Por otro lado, la cantidad máxima que se puede comprar a un único proveedor está limitada a 80kg, debido a las restricciones de capacidad en los camiones que utilizan un solo viaje por proveedor.\n",
    "\n",
    "Además, tiene un acuerdo en el que por lo menos debe gastar $60000 en la distribuidora La Pedrera"
   ]
  },
  {
   "cell_type": "code",
   "execution_count": 1,
   "metadata": {},
   "outputs": [],
   "source": [
    "import pandas as pd\n",
    "from ortools.linear_solver import pywraplp"
   ]
  },
  {
   "cell_type": "markdown",
   "metadata": {},
   "source": [
    "# Con camión de 80 kg\n"
   ]
  },
  {
   "cell_type": "code",
   "execution_count": 2,
   "metadata": {},
   "outputs": [],
   "source": [
    "solver = pywraplp.Solver.CreateSolver('GLOP')"
   ]
  },
  {
   "cell_type": "markdown",
   "metadata": {},
   "source": [
    "### Variables de decisión"
   ]
  },
  {
   "cell_type": "markdown",
   "metadata": {},
   "source": [
    "Para este ejercicio, las variables de decisión son los kg de cada insumo en cada proveedor."
   ]
  },
  {
   "cell_type": "code",
   "execution_count": 3,
   "metadata": {},
   "outputs": [],
   "source": [
    "variables = {}\n",
    "for proveedor in ['La Pedrera', 'El Nogal']:\n",
    "    for insumo in ['carne', 'harina', 'tomate', 'queso']:\n",
    "        var = solver.NumVar(0, solver.infinity(), f'Cantidad de kilos de {insumo} del proveedor {proveedor}')\n",
    "        variables[(proveedor, insumo)] = var"
   ]
  },
  {
   "cell_type": "markdown",
   "metadata": {},
   "source": [
    "### Restricciones"
   ]
  },
  {
   "cell_type": "code",
   "execution_count": 4,
   "metadata": {},
   "outputs": [],
   "source": [
    "for proveedor in ['La Pedrera', 'El Nogal']:\n",
    "    solver.Add(\n",
    "        variables[(proveedor, 'carne')] + \n",
    "        variables[(proveedor, 'harina')] + \n",
    "        variables[(proveedor, 'tomate')] + \n",
    "        variables[(proveedor, 'queso')] <= 80, \n",
    "        f'Maxima cantidad que puedo comprar al proveedor {proveedor}'\n",
    "    ) \n",
    "\n",
    "\n",
    "solver.Add(variables[('La Pedrera', 'carne')] + variables[('El Nogal', 'carne')] == 20, 'Maxima cantidad de kg de carne total.')\n",
    "solver.Add(variables[('La Pedrera', 'harina')] + variables[('El Nogal', 'harina')] == 50, 'Maxima cantidad de kg de harina total.')\n",
    "solver.Add(variables[('La Pedrera', 'tomate')] + variables[('El Nogal', 'tomate')] == 30, 'Maxima cantidad de kg de tomate total.')\n",
    "solver.Add(variables[('La Pedrera', 'queso')] + variables[('El Nogal', 'queso')] == 30, 'Maxima cantidad de kg de queso total.')\n",
    "\n",
    "\n",
    "solver.Add(variables[('La Pedrera', 'carne')]  <= 15, 'Maxima cantidad de kg de carne de La Pedrera.')\n",
    "solver.Add(variables[('El Nogal', 'harina')]  <= 10, 'Maxima cantidad de kg de harina de El Nogal.')\n",
    "\n",
    "acuerdo_pedrera = solver.Add(\n",
    "    3000*variables[('La Pedrera', 'carne')] + \n",
    "    650*variables[('La Pedrera', 'harina')] + \n",
    "    1300*variables[('La Pedrera', 'tomate')] +\n",
    "    1800*variables[('La Pedrera', 'queso')] >= 60000, 'Acuerdo con La Pedrera')\n"
   ]
  },
  {
   "cell_type": "markdown",
   "metadata": {},
   "source": [
    "### Función objetivo"
   ]
  },
  {
   "cell_type": "markdown",
   "metadata": {},
   "source": [
    "La función objetivo es el costo total de todos los insumos."
   ]
  },
  {
   "cell_type": "code",
   "execution_count": 5,
   "metadata": {},
   "outputs": [],
   "source": [
    "solver.Minimize(\n",
    "    3000*variables[('La Pedrera', 'carne')] + \n",
    "    650*variables[('La Pedrera', 'harina')] + \n",
    "    1300*variables[('La Pedrera', 'tomate')] +\n",
    "    1800*variables[('La Pedrera', 'queso')] +\n",
    "    3200*variables[('El Nogal', 'carne')] + \n",
    "    550*variables[('El Nogal', 'harina')] + \n",
    "    1200*variables[('El Nogal', 'tomate')] +\n",
    "    1900*variables[('El Nogal', 'queso')])\n",
    "\n",
    "status = solver.Solve()"
   ]
  },
  {
   "cell_type": "code",
   "execution_count": 6,
   "metadata": {},
   "outputs": [
    {
     "name": "stdout",
     "output_type": "stream",
     "text": [
      "El problema tiene una solución óptima\n"
     ]
    }
   ],
   "source": [
    "if status == pywraplp.Solver.OPTIMAL:\n",
    "    print('El problema tiene una solución óptima')\n",
    "else:\n",
    "    print('No se encontró una solución óptima')"
   ]
  },
  {
   "cell_type": "code",
   "execution_count": null,
   "metadata": {},
   "outputs": [],
   "source": [
    "for proveedor in ['La Pedrera', 'El Nogal']:\n",
    "    for insumo in ['carne', 'harina', 'tomate', 'queso']:\n",
    "        print(f'{variables[(proveedor, insumo)].name()} = {variables[(proveedor, insumo)].solution_value()}')"
   ]
  },
  {
   "cell_type": "markdown",
   "metadata": {},
   "source": [
    "- Cantidad de kilos de carne del proveedor La Pedrera = 15.0\n",
    "- Cantidad de kilos de harina del proveedor La Pedrera = 40.0\n",
    "- Cantidad de kilos de tomate del proveedor La Pedrera = 0.0\n",
    "- Cantidad de kilos de queso del proveedor La Pedrera = 25.0\n",
    "- Cantidad de kilos de carne del proveedor El Nogal = 5.0\n",
    "- Cantidad de kilos de harina del proveedor El Nogal = 10.0\n",
    "- Cantidad de kilos de tomate del proveedor El Nogal = 30.0\n",
    "- Cantidad de kilos de queso del proveedor El Nogal = 5.0"
   ]
  },
  {
   "cell_type": "markdown",
   "metadata": {},
   "source": [
    "Costo total de los insumos con 80kg"
   ]
  },
  {
   "cell_type": "code",
   "execution_count": 8,
   "metadata": {},
   "outputs": [
    {
     "data": {
      "text/plain": [
       "138000.0"
      ]
     },
     "execution_count": 8,
     "metadata": {},
     "output_type": "execute_result"
    }
   ],
   "source": [
    "3000*variables[('La Pedrera', 'carne')].solution_value() +650*variables[('La Pedrera', 'harina')].solution_value() +1300*variables[('La Pedrera', 'tomate')].solution_value() +800*variables[('La Pedrera', 'queso')].solution_value() +200*variables[('El Nogal', 'carne')].solution_value() +550*variables[('El Nogal', 'harina')].solution_value() +1200*variables[('El Nogal', 'tomate')].solution_value() +900*variables[('El Nogal', 'queso')].solution_value()"
   ]
  },
  {
   "cell_type": "markdown",
   "metadata": {},
   "source": [
    "Precio sombra que fuerza gastar al menso $60.000 en la distribuidora La Pedrera"
   ]
  },
  {
   "cell_type": "code",
   "execution_count": 9,
   "metadata": {},
   "outputs": [
    {
     "data": {
      "text/plain": [
       "0.0"
      ]
     },
     "execution_count": 9,
     "metadata": {},
     "output_type": "execute_result"
    }
   ],
   "source": [
    "acuerdo_pedrera.dual_value()"
   ]
  },
  {
   "cell_type": "markdown",
   "metadata": {},
   "source": [
    "# Con camión de 100kg"
   ]
  },
  {
   "cell_type": "code",
   "execution_count": 11,
   "metadata": {},
   "outputs": [],
   "source": [
    "solver = pywraplp.Solver.CreateSolver('GLOP')"
   ]
  },
  {
   "cell_type": "code",
   "execution_count": 12,
   "metadata": {},
   "outputs": [],
   "source": [
    "variables = {}\n",
    "for proveedor in ['La Pedrera', 'El Nogal']:\n",
    "    for insumo in ['carne', 'harina', 'tomate', 'queso']:\n",
    "        var = solver.NumVar(0, solver.infinity(), f'Cantidad de kilos de {insumo} del proveedor {proveedor}')\n",
    "        variables[(proveedor, insumo)] = var"
   ]
  },
  {
   "cell_type": "code",
   "execution_count": 13,
   "metadata": {},
   "outputs": [],
   "source": [
    "for proveedor in ['La Pedrera', 'El Nogal']:\n",
    "    solver.Add(\n",
    "        variables[(proveedor, 'carne')] + \n",
    "        variables[(proveedor, 'harina')] + \n",
    "        variables[(proveedor, 'tomate')] + \n",
    "        variables[(proveedor, 'queso')] <= 100, \n",
    "        f'Maxima cantidad que puedo comprar al proveedor {proveedor}'\n",
    "    ) \n",
    "\n",
    "\n",
    "solver.Add(variables[('La Pedrera', 'carne')] + variables[('El Nogal', 'carne')] == 20, 'Maxima cantidad de kg de carne total.')\n",
    "solver.Add(variables[('La Pedrera', 'harina')] + variables[('El Nogal', 'harina')] == 50, 'Maxima cantidad de kg de harina total.')\n",
    "solver.Add(variables[('La Pedrera', 'tomate')] + variables[('El Nogal', 'tomate')] == 30, 'Maxima cantidad de kg de tomate total.')\n",
    "solver.Add(variables[('La Pedrera', 'queso')] + variables[('El Nogal', 'queso')] == 30, 'Maxima cantidad de kg de queso total.')\n",
    "\n",
    "\n",
    "solver.Add(variables[('La Pedrera', 'carne')]  <= 15, 'Maxima cantidad de kg de carne de La Pedrera.')\n",
    "solver.Add(variables[('El Nogal', 'harina')]  <= 10, 'Maxima cantidad de kg de harina de El Nogal.')\n",
    "\n",
    "acuerdo_pedrera = solver.Add(\n",
    "    3000*variables[('La Pedrera', 'carne')] + \n",
    "    650*variables[('La Pedrera', 'harina')] + \n",
    "    1300*variables[('La Pedrera', 'tomate')] +\n",
    "    1800*variables[('La Pedrera', 'queso')] >= 60000, \n",
    "    'Acuerdo con La Pedrera')"
   ]
  },
  {
   "cell_type": "code",
   "execution_count": 14,
   "metadata": {},
   "outputs": [],
   "source": [
    "solver.Minimize(\n",
    "    3000*variables[('La Pedrera', 'carne')] + \n",
    "    650*variables[('La Pedrera', 'harina')] + \n",
    "    1300*variables[('La Pedrera', 'tomate')] +\n",
    "    1800*variables[('La Pedrera', 'queso')] +\n",
    "    3200*variables[('El Nogal', 'carne')] + \n",
    "    550*variables[('El Nogal', 'harina')] + \n",
    "    1200*variables[('El Nogal', 'tomate')] +\n",
    "    1900*variables[('El Nogal', 'queso')]\n",
    "    )\n",
    "\n",
    "status = solver.Solve()"
   ]
  },
  {
   "cell_type": "code",
   "execution_count": null,
   "metadata": {},
   "outputs": [],
   "source": [
    "for proveedor in ['La Pedrera', 'El Nogal']:\n",
    "    for insumo in ['carne', 'harina', 'tomate', 'queso']:\n",
    "        print(f'{variables[(proveedor, insumo)].name()} = {variables[(proveedor, insumo)].solution_value()}')"
   ]
  },
  {
   "cell_type": "markdown",
   "metadata": {},
   "source": [
    "- Cantidad de kilos de carne del proveedor La Pedrera = 15.0\n",
    "- Cantidad de kilos de harina del proveedor La Pedrera = 40.0\n",
    "- Cantidad de kilos de tomate del proveedor La Pedrera = 0.0\n",
    "- Cantidad de kilos de queso del proveedor La Pedrera = 30.0\n",
    "- Cantidad de kilos de carne del proveedor El Nogal = 5.0\n",
    "- Cantidad de kilos de harina del proveedor El Nogal = 10.0\n",
    "- Cantidad de kilos de tomate del proveedor El Nogal = 30.0\n",
    "- Cantidad de kilos de queso del proveedor El Nogal = 0.0"
   ]
  },
  {
   "cell_type": "markdown",
   "metadata": {},
   "source": [
    "Costo total de los insumos con el camión de 100kg."
   ]
  },
  {
   "cell_type": "code",
   "execution_count": 15,
   "metadata": {},
   "outputs": [
    {
     "data": {
      "text/plain": [
       "137500.0"
      ]
     },
     "execution_count": 15,
     "metadata": {},
     "output_type": "execute_result"
    }
   ],
   "source": [
    "3000*variables[('La Pedrera', 'carne')].solution_value() +650*variables[('La Pedrera', 'harina')].solution_value() +1300*variables[('La Pedrera', 'tomate')].solution_value() +800*variables[('La Pedrera', 'queso')].solution_value() +200*variables[('El Nogal', 'carne')].solution_value() +550*variables[('El Nogal', 'harina')].solution_value() +1200*variables[('El Nogal', 'tomate')].solution_value() +900*variables[('El Nogal', 'queso')].solution_value()"
   ]
  },
  {
   "cell_type": "markdown",
   "metadata": {},
   "source": [
    "Al aumentar el tamaño del camión, logramos reducir el costo total en $2500. Puesto que el alquiler del camión cuesta $10000, no es recomendable alquilar el camión de mayor tamaño."
   ]
  }
 ],
 "metadata": {
  "kernelspec": {
   "display_name": "venv",
   "language": "python",
   "name": "python3"
  },
  "language_info": {
   "codemirror_mode": {
    "name": "ipython",
    "version": 3
   },
   "file_extension": ".py",
   "mimetype": "text/x-python",
   "name": "python",
   "nbconvert_exporter": "python",
   "pygments_lexer": "ipython3",
   "version": "3.10.12"
  },
  "orig_nbformat": 4
 },
 "nbformat": 4,
 "nbformat_minor": 2
}
