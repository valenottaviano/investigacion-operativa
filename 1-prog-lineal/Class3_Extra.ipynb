{
 "cells": [
  {
   "cell_type": "code",
   "execution_count": 1,
   "metadata": {},
   "outputs": [],
   "source": [
    "from ortools.linear_solver import pywraplp"
   ]
  },
  {
   "cell_type": "code",
   "execution_count": 2,
   "metadata": {},
   "outputs": [],
   "source": [
    "solver = pywraplp.Solver.CreateSolver('CBC')"
   ]
  },
  {
   "cell_type": "markdown",
   "metadata": {},
   "source": [
    "### Variables de Decisión"
   ]
  },
  {
   "cell_type": "code",
   "execution_count": 3,
   "metadata": {},
   "outputs": [],
   "source": [
    "choco = solver.IntVar(0, solver.infinity(), 'Cajas de chocolates')\n",
    "mapu = solver.IntVar(0, solver.infinity(), 'Artesanías mapuches')\n",
    "dulces = solver.IntVar(0, solver.infinity(), 'Dulces de Calafate')\n",
    "sueteres = solver.IntVar(0, solver.infinity(), 'Suéteres de Lana')"
   ]
  },
  {
   "cell_type": "markdown",
   "metadata": {},
   "source": [
    "### Restricciones"
   ]
  },
  {
   "cell_type": "code",
   "execution_count": 15,
   "metadata": {},
   "outputs": [],
   "source": [
    "res_choco = solver.Add(choco <= 7)\n",
    "res_mapu = solver.Add(mapu <= 3)\n",
    "res_dulces = solver.Add(dulces <= 4)\n",
    "\n",
    "res_sueteres_max = solver.Add(sueteres <= 3)\n",
    "res_sueteres_min = solver.Add(sueteres >= 1)\n",
    "\n",
    "res_total_peso = solver.Add(0.2*choco + 1.2*mapu + 0.4*dulces + 1.3*sueteres <= 8)"
   ]
  },
  {
   "cell_type": "markdown",
   "metadata": {},
   "source": [
    "### Función Objetivo"
   ]
  },
  {
   "cell_type": "code",
   "execution_count": 19,
   "metadata": {},
   "outputs": [],
   "source": [
    "solver.Maximize(3*choco + 6*mapu + 3*dulces + 7*sueteres)\n",
    "status = solver.Solve()"
   ]
  },
  {
   "cell_type": "code",
   "execution_count": 20,
   "metadata": {},
   "outputs": [
    {
     "name": "stdout",
     "output_type": "stream",
     "text": [
      "El problema tiene una solución óptima\n"
     ]
    }
   ],
   "source": [
    "if status == pywraplp.Solver.OPTIMAL:\n",
    "    print('El problema tiene una solución óptima')\n",
    "else:\n",
    "    print('No se encontró una solución óptima')"
   ]
  },
  {
   "cell_type": "code",
   "execution_count": 21,
   "metadata": {},
   "outputs": [
    {
     "name": "stdout",
     "output_type": "stream",
     "text": [
      "La solución óptima de cajas de chocolates: 7.0\n",
      "La solución óptima de artesanias de mapuches: 2.0\n",
      "La solución óptima de dulces de Calafate: 4.0\n",
      "La solución óptima de Sueteres de lana: 2.0\n"
     ]
    }
   ],
   "source": [
    "choco_opt = choco.solution_value()\n",
    "mapu_opt = mapu.solution_value()\n",
    "dulces_opt = dulces.solution_value()\n",
    "sueteres_opt = sueteres.solution_value()\n",
    "\n",
    "print(f'La solución óptima de cajas de chocolates: {choco_opt}')\n",
    "print(f'La solución óptima de artesanias de mapuches: {mapu_opt}')\n",
    "print(f'La solución óptima de dulces de Calafate: {dulces_opt}')\n",
    "print(f'La solución óptima de Sueteres de lana: {sueteres_opt}')"
   ]
  },
  {
   "cell_type": "code",
   "execution_count": 24,
   "metadata": {},
   "outputs": [
    {
     "name": "stdout",
     "output_type": "stream",
     "text": [
      "El nivel máximo de felcidiad conseguido es: 59.0 🥳\n"
     ]
    }
   ],
   "source": [
    "print(f'El nivel máximo de felcidiad conseguido es: {solver.Objective().Value()} 🥳')"
   ]
  }
 ],
 "metadata": {
  "kernelspec": {
   "display_name": "venv",
   "language": "python",
   "name": "python3"
  },
  "language_info": {
   "codemirror_mode": {
    "name": "ipython",
    "version": 3
   },
   "file_extension": ".py",
   "mimetype": "text/x-python",
   "name": "python",
   "nbconvert_exporter": "python",
   "pygments_lexer": "ipython3",
   "version": "3.10.12"
  },
  "orig_nbformat": 4
 },
 "nbformat": 4,
 "nbformat_minor": 2
}
