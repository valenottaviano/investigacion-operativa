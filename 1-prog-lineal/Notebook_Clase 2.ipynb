{
 "cells": [
  {
   "cell_type": "markdown",
   "id": "681bac2f",
   "metadata": {},
   "source": [
    "# Optimización de Tiempo de Estudio para Trabajos Prácticos"
   ]
  },
  {
   "cell_type": "markdown",
   "id": "a1215a05",
   "metadata": {},
   "source": [
    "Clase del día 17/08/2023"
   ]
  },
  {
   "cell_type": "markdown",
   "id": "fd13a92b",
   "metadata": {},
   "source": [
    "## Problema"
   ]
  },
  {
   "cell_type": "markdown",
   "id": "5f21016a",
   "metadata": {},
   "source": [
    "Tengo 2 trabajos prácticos que me vencen en 4 horas. Un TP de Investigación Operativa, y uno de derecho. \n",
    "Quiero maximizar la suma de las notas de los prácticos, pero asegurándome de aprobar ambos prácticos.\n",
    "Para el trabajo práctico de IO, en promedio sumo 30 puntos por cada hora que le dedico. Para el de derecho, sumo en promedio 40 puntos por cada hora que le dedico.\n",
    "En ambas materias se aprueba con 60, y la máxima nota es 100.\n",
    "Cuánto tiempo le debería dedicar a cada materia?\n"
   ]
  },
  {
   "cell_type": "markdown",
   "id": "3528958d",
   "metadata": {},
   "source": [
    "#### Importamos las librerías"
   ]
  },
  {
   "cell_type": "code",
   "execution_count": 1,
   "id": "2e0e2a67",
   "metadata": {},
   "outputs": [],
   "source": [
    "from ortools.linear_solver import pywraplp"
   ]
  },
  {
   "cell_type": "markdown",
   "id": "78028e4a",
   "metadata": {},
   "source": [
    "Definimos el Solver"
   ]
  },
  {
   "cell_type": "markdown",
   "id": "261d524f",
   "metadata": {},
   "source": [
    "Creamos el Solver. Para modelos de programación lineal no entera, el solver GLOP es el más eficiente."
   ]
  },
  {
   "cell_type": "code",
   "execution_count": 2,
   "id": "851cf9c3",
   "metadata": {},
   "outputs": [],
   "source": [
    "solver = pywraplp.Solver.CreateSolver('GLOP')"
   ]
  },
  {
   "cell_type": "markdown",
   "id": "42c5355c",
   "metadata": {},
   "source": [
    "## Variables"
   ]
  },
  {
   "cell_type": "markdown",
   "id": "7ac26fc3",
   "metadata": {},
   "source": [
    "#### Definimos las variables"
   ]
  },
  {
   "cell_type": "markdown",
   "id": "93771608",
   "metadata": {},
   "source": [
    "$$\\text{Horas IO: Horas dedicadas al trabajo de Investigación Operativa.}$$\n",
    "$$\\text{Horas Der: Horas dedicadas al trabajo de Derecho.}$$\n"
   ]
  },
  {
   "cell_type": "markdown",
   "id": "24148b49",
   "metadata": {},
   "source": [
    "Para crear las variables en Python, utilizaremos la función NumVar, formada en el objeto Solver."
   ]
  },
  {
   "cell_type": "markdown",
   "id": "f3ebad57",
   "metadata": {},
   "source": [
    "La sintáxis es: <br>\n",
    "variable = solver.NumVar(min_value, max_value, name)<br>\n",
    "Parámetros:<br>\n",
    "- min_value: El valor mínimo que puede tomar la variable. Puede ser cualquier número real o -solver.infinity() si no hay límite inferior.\n",
    "- max_value: El valor máximo que puede tomar la variable. Puede ser cualquier número real o solver.infinity() si no hay límite superior.\n",
    "- name: Nombre opcional para la variable. Puede servir para depurar errores y para interepretación de las soluciones."
   ]
  },
  {
   "cell_type": "code",
   "execution_count": 3,
   "id": "7a992cbd",
   "metadata": {},
   "outputs": [],
   "source": [
    "horas_io = solver.NumVar(0, solver.infinity(), 'Horas dedicadas al trabajo de Investigación Operativa') \n",
    "horas_der = solver.NumVar(0, solver.infinity(), 'Horas dedicadas al trabajo de Derecho')"
   ]
  },
  {
   "cell_type": "markdown",
   "id": "20579dcd",
   "metadata": {},
   "source": [
    "Atributos de la función NumVar:<br>\n",
    "- lb(): Devuelve el límite inferior de la variable. (Esto ya lo establecimos en la celda anterior)\n",
    "- ub(): Devuelve el límite superior de la variable. (Esto ya lo establecimos en la celda anterior)\n",
    "- name(): Devuelve el nombre de la variable. (Esto ya lo establecimos en la celda anterior)\n",
    "- solution_value(): Devuelve el valor de la variable en la solución óptima. Esto lo podemos hacer una vez que se haya resuelto el problema solamente."
   ]
  },
  {
   "cell_type": "code",
   "execution_count": 4,
   "id": "8a3ff0f9",
   "metadata": {},
   "outputs": [
    {
     "data": {
      "text/plain": [
       "'Horas dedicadas al trabajo de Investigación Operativa'"
      ]
     },
     "execution_count": 4,
     "metadata": {},
     "output_type": "execute_result"
    }
   ],
   "source": [
    "horas_io.name()"
   ]
  },
  {
   "cell_type": "code",
   "execution_count": 5,
   "id": "0588ba1c",
   "metadata": {},
   "outputs": [
    {
     "data": {
      "text/plain": [
       "0.0"
      ]
     },
     "execution_count": 5,
     "metadata": {},
     "output_type": "execute_result"
    }
   ],
   "source": [
    "horas_io.lb()"
   ]
  },
  {
   "cell_type": "code",
   "execution_count": 6,
   "id": "a530a8a8",
   "metadata": {},
   "outputs": [
    {
     "data": {
      "text/plain": [
       "inf"
      ]
     },
     "execution_count": 6,
     "metadata": {},
     "output_type": "execute_result"
    }
   ],
   "source": [
    "horas_io.ub()"
   ]
  },
  {
   "cell_type": "markdown",
   "id": "35652643",
   "metadata": {},
   "source": [
    "## Restricciones"
   ]
  },
  {
   "cell_type": "markdown",
   "id": "6715bde5",
   "metadata": {},
   "source": [
    "Las restricciones son las siguientes:\n",
    "$$\n",
    "\\begin{align*}\n",
    "\\quad & 30 \\cdot \\text{HorasIO} \\geq 60 \\\\\n",
    "& 40 \\cdot \\text{HorasDer} \\geq 60 \\\\\n",
    "& 30 \\cdot \\text{HorasIO} \\leq 100 \\\\\n",
    "& 40 \\cdot \\text{HorasDer} \\leq 100 \\\\\n",
    "& \\text{HorasIO} + \\text{HorasDer} \\leq 3 \\\\\n",
    "& \\text{HorasIO} \\geq 0 \n",
    ",  \\text{HorasDer} \\geq 0\n",
    "\\end{align*}\n",
    "$$"
   ]
  },
  {
   "cell_type": "code",
   "execution_count": 7,
   "id": "4db7def7",
   "metadata": {},
   "outputs": [],
   "source": [
    "# Mínima nota para aprobar IO\n",
    "rest_aprobar_io = solver.Add(30 * horas_io >= 60, 'Mínima nota para aprobar IO')\n",
    "\n",
    "# Mínima nota para aprobar Derecho\n",
    "rest_aprobar_der = solver.Add(40 * horas_der >= 60, 'Mínima nota para aprobar Derecho')\n",
    "\n",
    "# Máxima nota posible en IO\n",
    "rest_max_nota_io = solver.Add(30 * horas_io <= 100, 'Máxima nota posible en IO')\n",
    "\n",
    "# Máxima nota posible en Derecho\n",
    "rest_max_nota_der = solver.Add(40 * horas_der <= 100, 'Máxima nota posible en Derecho')\n",
    "\n",
    "# 4 horas de tiempo disponible\n",
    "rest_tiempo = solver.Add(horas_io + horas_der <= 4, 'Tiempo disponible')\n",
    "\n",
    "# Las restricciones de no negatividad ya están puestas en la definición de variables"
   ]
  },
  {
   "cell_type": "markdown",
   "id": "14fdef36",
   "metadata": {},
   "source": [
    "Atributos:\n",
    "- restriccion.name(): Nombre de la restricción.\n",
    "- restriccion.lb(): Valor mínimo que puede tomar el RHS.\n",
    "- restriccion.ub(): Valor máximo que puede tomar el RHS.\n",
    "- restriccion.GetCoefficient(variable): Ver cuál es el valor del coeficiente que acompaña a tal variable."
   ]
  },
  {
   "cell_type": "code",
   "execution_count": 8,
   "id": "b844ddaf",
   "metadata": {},
   "outputs": [
    {
     "data": {
      "text/plain": [
       "'Mínima nota para aprobar IO'"
      ]
     },
     "execution_count": 8,
     "metadata": {},
     "output_type": "execute_result"
    }
   ],
   "source": [
    "rest_aprobar_io.name()"
   ]
  },
  {
   "cell_type": "code",
   "execution_count": 9,
   "id": "101dbeff",
   "metadata": {},
   "outputs": [
    {
     "data": {
      "text/plain": [
       "30.0"
      ]
     },
     "execution_count": 9,
     "metadata": {},
     "output_type": "execute_result"
    }
   ],
   "source": [
    "rest_aprobar_io.GetCoefficient(horas_io)"
   ]
  },
  {
   "cell_type": "code",
   "execution_count": 10,
   "id": "bf561688",
   "metadata": {},
   "outputs": [
    {
     "data": {
      "text/plain": [
       "60.0"
      ]
     },
     "execution_count": 10,
     "metadata": {},
     "output_type": "execute_result"
    }
   ],
   "source": [
    "rest_aprobar_io.lb()"
   ]
  },
  {
   "cell_type": "code",
   "execution_count": 11,
   "id": "26f9e440",
   "metadata": {},
   "outputs": [
    {
     "data": {
      "text/plain": [
       "inf"
      ]
     },
     "execution_count": 11,
     "metadata": {},
     "output_type": "execute_result"
    }
   ],
   "source": [
    "rest_aprobar_io.ub()"
   ]
  },
  {
   "cell_type": "markdown",
   "id": "847062f9",
   "metadata": {},
   "source": [
    "## Función Objetivo"
   ]
  },
  {
   "cell_type": "markdown",
   "id": "b04c0709",
   "metadata": {},
   "source": [
    "\n",
    "$$\n",
    "\\text{Maximizar} \\quad  30 \\cdot \\text{HorasIO} + 40 \\cdot \\text{HorasDer} \n",
    "$$"
   ]
  },
  {
   "cell_type": "code",
   "execution_count": 12,
   "id": "defa76cb",
   "metadata": {},
   "outputs": [],
   "source": [
    "solver.Maximize(30 * horas_io + 40 * horas_der)"
   ]
  },
  {
   "cell_type": "markdown",
   "id": "a2ca194e",
   "metadata": {},
   "source": [
    "## Resolver el problema"
   ]
  },
  {
   "cell_type": "code",
   "execution_count": 13,
   "id": "b4e9ddb7",
   "metadata": {},
   "outputs": [],
   "source": [
    "status = solver.Solve()"
   ]
  },
  {
   "cell_type": "markdown",
   "id": "f500876a",
   "metadata": {},
   "source": [
    "## Resultados"
   ]
  },
  {
   "cell_type": "code",
   "execution_count": 14,
   "id": "e6ebddad",
   "metadata": {},
   "outputs": [
    {
     "name": "stdout",
     "output_type": "stream",
     "text": [
      "El problema tiene una solución óptima\n"
     ]
    }
   ],
   "source": [
    "if status == pywraplp.Solver.OPTIMAL:\n",
    "    print('El problema tiene una solución óptima')\n",
    "else:\n",
    "    print('No se encontró una solución óptima')"
   ]
  },
  {
   "cell_type": "code",
   "execution_count": 15,
   "id": "bb0074a4",
   "metadata": {},
   "outputs": [
    {
     "name": "stdout",
     "output_type": "stream",
     "text": [
      "La cantidad de horas óptimas de IO son 2.0\n",
      "La cantidad de horas óptimas de Der son 2.0\n",
      "La nota de IO será 60.0\n",
      "La nota de Derecho será 80.0\n",
      "La suma de notas será 140.0\n"
     ]
    }
   ],
   "source": [
    "horas_optimas_io = horas_io.solution_value()\n",
    "horas_optimas_der = horas_der.solution_value()\n",
    "suma_notas = solver.Objective().Value()\n",
    "nota_io = horas_optimas_io * 30\n",
    "nota_der = horas_optimas_der * 40\n",
    "\n",
    "print(f'La cantidad de horas óptimas de IO son {horas_optimas_io}')\n",
    "print(f'La cantidad de horas óptimas de Der son {horas_optimas_der}')\n",
    "print(f'La nota de IO será {nota_io}')\n",
    "print(f'La nota de Derecho será {nota_der}')\n",
    "print(f'La suma de notas será {suma_notas}')"
   ]
  },
  {
   "cell_type": "markdown",
   "id": "41b18b29",
   "metadata": {},
   "source": [
    "## Para resolver:"
   ]
  },
  {
   "cell_type": "markdown",
   "id": "6aec4be2",
   "metadata": {},
   "source": [
    "Y si ahora ya no me interesa obtener la máxima suma de notas, sino que quiero minimizar la cantidad de tiempo haciendo los prácticos. Cuánto tiempo debería dedicarle a cada materia?"
   ]
  },
  {
   "cell_type": "code",
   "execution_count": 16,
   "id": "122d94ee",
   "metadata": {},
   "outputs": [],
   "source": [
    "solver.Minimize(horas_io + horas_der)\n",
    "status = solver.Solve()"
   ]
  },
  {
   "cell_type": "code",
   "execution_count": 18,
   "id": "71947b66",
   "metadata": {},
   "outputs": [
    {
     "data": {
      "text/plain": [
       "2.0"
      ]
     },
     "execution_count": 18,
     "metadata": {},
     "output_type": "execute_result"
    }
   ],
   "source": [
    "horas_io.solution_value()"
   ]
  },
  {
   "cell_type": "code",
   "execution_count": 17,
   "id": "e6945414",
   "metadata": {},
   "outputs": [
    {
     "data": {
      "text/plain": [
       "1.5"
      ]
     },
     "execution_count": 17,
     "metadata": {},
     "output_type": "execute_result"
    }
   ],
   "source": [
    "horas_der.solution_value()\n"
   ]
  }
 ],
 "metadata": {
  "kernelspec": {
   "display_name": "Python 3 (ipykernel)",
   "language": "python",
   "name": "python3"
  },
  "language_info": {
   "codemirror_mode": {
    "name": "ipython",
    "version": 3
   },
   "file_extension": ".py",
   "mimetype": "text/x-python",
   "name": "python",
   "nbconvert_exporter": "python",
   "pygments_lexer": "ipython3",
   "version": "3.10.12"
  }
 },
 "nbformat": 4,
 "nbformat_minor": 5
}
