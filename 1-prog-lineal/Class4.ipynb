{
 "cells": [
  {
   "cell_type": "markdown",
   "id": "443b1114",
   "metadata": {},
   "source": [
    "<img src=\"UNSTA Ingeniería.jpeg\" style=\"height:100px\">"
   ]
  },
  {
   "cell_type": "markdown",
   "id": "681bac2f",
   "metadata": {},
   "source": [
    "# Problema de Asignación"
   ]
  },
  {
   "cell_type": "markdown",
   "id": "3528958d",
   "metadata": {},
   "source": [
    "#### Importamos las librerías"
   ]
  },
  {
   "cell_type": "code",
   "execution_count": 1,
   "id": "5dca2dbb",
   "metadata": {},
   "outputs": [],
   "source": [
    "import pandas as pd\n",
    "from ortools.linear_solver import pywraplp"
   ]
  },
  {
   "cell_type": "markdown",
   "id": "fd13a92b",
   "metadata": {},
   "source": [
    "## Problema"
   ]
  },
  {
   "cell_type": "markdown",
   "id": "5f21016a",
   "metadata": {},
   "source": [
    "Tengo una consultora en data science y tengo 5 analistas de datos. Necesito asignar cada uno de ellos a un proyecto en particular de modo de maximizar su eficiencia. Cada analista tiene una eficiencia distinta para cada proyecto debido a sus habilidades, gustos y experiencia. Aquí una tabla.\n"
   ]
  },
  {
   "cell_type": "code",
   "execution_count": 2,
   "id": "41570bea",
   "metadata": {},
   "outputs": [
    {
     "data": {
      "text/html": [
       "<div>\n",
       "<style scoped>\n",
       "    .dataframe tbody tr th:only-of-type {\n",
       "        vertical-align: middle;\n",
       "    }\n",
       "\n",
       "    .dataframe tbody tr th {\n",
       "        vertical-align: top;\n",
       "    }\n",
       "\n",
       "    .dataframe thead th {\n",
       "        text-align: right;\n",
       "    }\n",
       "</style>\n",
       "<table border=\"1\" class=\"dataframe\">\n",
       "  <thead>\n",
       "    <tr style=\"text-align: right;\">\n",
       "      <th></th>\n",
       "      <th>Proyecto</th>\n",
       "      <th>Álvaro</th>\n",
       "      <th>Barbi</th>\n",
       "      <th>Carlos</th>\n",
       "      <th>Diana</th>\n",
       "      <th>Elena</th>\n",
       "    </tr>\n",
       "  </thead>\n",
       "  <tbody>\n",
       "    <tr>\n",
       "      <th>0</th>\n",
       "      <td>1</td>\n",
       "      <td>9</td>\n",
       "      <td>6</td>\n",
       "      <td>5</td>\n",
       "      <td>7</td>\n",
       "      <td>7</td>\n",
       "    </tr>\n",
       "    <tr>\n",
       "      <th>1</th>\n",
       "      <td>2</td>\n",
       "      <td>2</td>\n",
       "      <td>4</td>\n",
       "      <td>8</td>\n",
       "      <td>6</td>\n",
       "      <td>5</td>\n",
       "    </tr>\n",
       "    <tr>\n",
       "      <th>2</th>\n",
       "      <td>3</td>\n",
       "      <td>7</td>\n",
       "      <td>3</td>\n",
       "      <td>7</td>\n",
       "      <td>5</td>\n",
       "      <td>6</td>\n",
       "    </tr>\n",
       "    <tr>\n",
       "      <th>3</th>\n",
       "      <td>4</td>\n",
       "      <td>8</td>\n",
       "      <td>7</td>\n",
       "      <td>6</td>\n",
       "      <td>9</td>\n",
       "      <td>8</td>\n",
       "    </tr>\n",
       "    <tr>\n",
       "      <th>4</th>\n",
       "      <td>5</td>\n",
       "      <td>6</td>\n",
       "      <td>7</td>\n",
       "      <td>5</td>\n",
       "      <td>8</td>\n",
       "      <td>9</td>\n",
       "    </tr>\n",
       "  </tbody>\n",
       "</table>\n",
       "</div>"
      ],
      "text/plain": [
       "   Proyecto  Álvaro  Barbi  Carlos  Diana  Elena\n",
       "0         1       9      6       5      7      7\n",
       "1         2       2      4       8      6      5\n",
       "2         3       7      3       7      5      6\n",
       "3         4       8      7       6      9      8\n",
       "4         5       6      7       5      8      9"
      ]
     },
     "execution_count": 2,
     "metadata": {},
     "output_type": "execute_result"
    }
   ],
   "source": [
    "tabla_eficiencias = pd.DataFrame(data={'Proyecto': [1,2,3,4,5],\n",
    "                   'Álvaro': [9,2,7,8,6],\n",
    "                   'Barbi': [6,4,3,7,7],\n",
    "                   'Carlos': [5,8,7,6,5],\n",
    "                   'Diana': [7,6,5,9,8],\n",
    "                   'Elena': [7,5,6,8,9]})\n",
    "tabla_eficiencias"
   ]
  },
  {
   "cell_type": "markdown",
   "id": "78028e4a",
   "metadata": {},
   "source": [
    "#### Definimos el Solver"
   ]
  },
  {
   "cell_type": "markdown",
   "id": "261d524f",
   "metadata": {},
   "source": [
    "Creamos el Solver. Para modelos de programación lineal entera, esta vez usaremos CBC."
   ]
  },
  {
   "cell_type": "code",
   "execution_count": 3,
   "id": "851cf9c3",
   "metadata": {},
   "outputs": [],
   "source": [
    "solver = pywraplp.Solver.CreateSolver('CBC')"
   ]
  },
  {
   "cell_type": "markdown",
   "id": "42c5355c",
   "metadata": {},
   "source": [
    "## Variables"
   ]
  },
  {
   "cell_type": "markdown",
   "id": "7ac26fc3",
   "metadata": {},
   "source": [
    "#### Definimos las variables"
   ]
  },
  {
   "cell_type": "markdown",
   "id": "93771608",
   "metadata": {},
   "source": [
    "$$x_{ij} \\text{:Variable dicotómica (dummy) que equivale 1 si el empleado i está en el proyecto j, de lo contrario 0}$$\n",
    "\n",
    "\n"
   ]
  },
  {
   "cell_type": "markdown",
   "id": "24148b49",
   "metadata": {},
   "source": [
    "Para crear las variables en Python, como son enteras, utilizaremos la función BoolVar, formada en el objeto Solver. Las crearemos con un bucle for."
   ]
  },
  {
   "cell_type": "code",
   "execution_count": 4,
   "id": "e60d8007",
   "metadata": {},
   "outputs": [],
   "source": [
    "empleados = tabla_eficiencias.columns[1:].tolist()\n",
    "cantidad_empleados = len(empleados) # Esto es n\n",
    "\n",
    "proyectos = tabla_eficiencias['Proyecto'].tolist()\n",
    "cantidad_proyectos = len(proyectos) # Esto es m"
   ]
  },
  {
   "cell_type": "code",
   "execution_count": 5,
   "id": "7a992cbd",
   "metadata": {},
   "outputs": [],
   "source": [
    "variables = {}\n",
    "for empleado in empleados:\n",
    "    for proyecto in proyectos:\n",
    "        variable = solver.BoolVar(f'X_{empleado}_{proyecto}')\n",
    "        variables[(empleado, proyecto)] = variable"
   ]
  },
  {
   "cell_type": "markdown",
   "id": "35652643",
   "metadata": {},
   "source": [
    "## Restricciones"
   ]
  },
  {
   "cell_type": "markdown",
   "id": "6715bde5",
   "metadata": {},
   "source": [
    "Las restricciones son las siguientes:\n",
    "\n",
    "- Máxima cantidad de empleados por proyecto\n",
    "$$ \\sum_{i=1}^{n} x_{ij} = 1 \\qquad \\forall j \\in \\{1, 2, 3, 4, 5\\} $$\n",
    "\n",
    "- Máxima cantidad de proyectos por empleado\n",
    "$$ \\sum_{j=1}^{m} x_{ij} = 1 \\qquad \\forall i \\in \\{1, 2, 3, 4, 5\\} $$\n"
   ]
  },
  {
   "cell_type": "code",
   "execution_count": 6,
   "id": "4db7def7",
   "metadata": {},
   "outputs": [],
   "source": [
    "#Máxima cantidad de empleados por proyecto\n",
    "for proyecto in proyectos:\n",
    "    ct = solver.Constraint(1, 1, f'Máxima cantidad de empleados para el proyecto {proyecto}')\n",
    "    for empleado in empleados:\n",
    "        ct.SetCoefficient(variables[(empleado, proyecto)], 1)\n",
    "        "
   ]
  },
  {
   "cell_type": "code",
   "execution_count": 7,
   "id": "882b14bb",
   "metadata": {},
   "outputs": [],
   "source": [
    "#Máxima cantidad de proyectos por empleado\n",
    "for empleado in empleados:\n",
    "    ct = solver.Constraint(1, 1, f'Máxima cantidad de proyectos para el empleado {empleado}')\n",
    "    for proyecto in proyectos:\n",
    "        ct.SetCoefficient(variables[(empleado, proyecto)], 1)"
   ]
  },
  {
   "cell_type": "markdown",
   "id": "847062f9",
   "metadata": {},
   "source": [
    "## Función Objetivo"
   ]
  },
  {
   "cell_type": "markdown",
   "id": "b04c0709",
   "metadata": {},
   "source": [
    "\n",
    "\\begin{align*}\n",
    "\\text{Maximizar} \\sum_{i=1}^{n}\\sum_{j=1}^{m} c_{ij} \\cdot x_{ij}\\\\\n",
    "\\end{align*}\n"
   ]
  },
  {
   "cell_type": "code",
   "execution_count": 8,
   "id": "80cf1015",
   "metadata": {},
   "outputs": [],
   "source": [
    "# Diccionario de eficiencias para acceder mejor a los valores de cada celda\n",
    "eficiencias = {}\n",
    "for empleado in empleados:\n",
    "    for proyecto in proyectos:\n",
    "        eficiencias[(empleado, proyecto)] = int(tabla_eficiencias.loc[tabla_eficiencias['Proyecto'] == proyecto, empleado].values[0])"
   ]
  },
  {
   "cell_type": "code",
   "execution_count": 9,
   "id": "defa76cb",
   "metadata": {},
   "outputs": [],
   "source": [
    "objective = solver.Objective()\n",
    "for empleado in empleados:\n",
    "    for proyecto in proyectos:\n",
    "        objective.SetCoefficient(variables[(empleado, proyecto)], eficiencias[(empleado, proyecto)])\n",
    "objective.SetMaximization()"
   ]
  },
  {
   "cell_type": "markdown",
   "id": "94d30cc5",
   "metadata": {},
   "source": [
    "## Resumen"
   ]
  },
  {
   "cell_type": "code",
   "execution_count": 10,
   "id": "e9ab56e7",
   "metadata": {},
   "outputs": [
    {
     "name": "stdout",
     "output_type": "stream",
     "text": [
      " Generated by MPModelProtoExporter\n",
      "   Name             : \n",
      "   Format           : Free\n",
      "   Constraints      : 10\n",
      "   Variables        : 25\n",
      "     Binary         : 25\n",
      "     Integer        : 0\n",
      "     Continuous     : 0\n",
      "Maximize\n",
      " Obj: +9 X_Álvaro_1 +2 X_Álvaro_2 +7 X_Álvaro_3 +8 X_Álvaro_4 +6 X_Álvaro_5 +6 X_Barbi_1 +4 X_Barbi_2 +3 X_Barbi_3 +7 X_Barbi_4 +7 X_Barbi_5 +5 X_Carlos_1 +8 X_Carlos_2 +7 X_Carlos_3 +6 X_Carlos_4 +5 X_Carlos_5 +7 X_Diana_1 +6 X_Diana_2 +5 X_Diana_3 +9 X_Diana_4 +8 X_Diana_5 +7 X_Elena_1 +5 X_Elena_2 +6 X_Elena_3 +8 X_Elena_4 +9 X_Elena_5 \n",
      "Subject to\n",
      " Máxima_cantidad_de_empleados_para_el_proyecto_1: +1 X_Álvaro_1 +1 X_Barbi_1 +1 X_Carlos_1 +1 X_Diana_1 +1 X_Elena_1  = 1\n",
      " Máxima_cantidad_de_empleados_para_el_proyecto_2: +1 X_Álvaro_2 +1 X_Barbi_2 +1 X_Carlos_2 +1 X_Diana_2 +1 X_Elena_2  = 1\n",
      " Máxima_cantidad_de_empleados_para_el_proyecto_3: +1 X_Álvaro_3 +1 X_Barbi_3 +1 X_Carlos_3 +1 X_Diana_3 +1 X_Elena_3  = 1\n",
      " Máxima_cantidad_de_empleados_para_el_proyecto_4: +1 X_Álvaro_4 +1 X_Barbi_4 +1 X_Carlos_4 +1 X_Diana_4 +1 X_Elena_4  = 1\n",
      " Máxima_cantidad_de_empleados_para_el_proyecto_5: +1 X_Álvaro_5 +1 X_Barbi_5 +1 X_Carlos_5 +1 X_Diana_5 +1 X_Elena_5  = 1\n",
      " Máxima_cantidad_de_proyectos_para_el_empleado_Álvaro: +1 X_Álvaro_1 +1 X_Álvaro_2 +1 X_Álvaro_3 +1 X_Álvaro_4 +1 X_Álvaro_5  = 1\n",
      " Máxima_cantidad_de_proyectos_para_el_empleado_Barbi: +1 X_Barbi_1 +1 X_Barbi_2 +1 X_Barbi_3 +1 X_Barbi_4 +1 X_Barbi_5  = 1\n",
      " Máxima_cantidad_de_proyectos_para_el_empleado_Carlos: +1 X_Carlos_1 +1 X_Carlos_2 +1 X_Carlos_3 +1 X_Carlos_4 +1 X_Carlos_5  = 1\n",
      " Máxima_cantidad_de_proyectos_para_el_empleado_Diana: +1 X_Diana_1 +1 X_Diana_2 +1 X_Diana_3 +1 X_Diana_4 +1 X_Diana_5  = 1\n",
      " Máxima_cantidad_de_proyectos_para_el_empleado_Elena: +1 X_Elena_1 +1 X_Elena_2 +1 X_Elena_3 +1 X_Elena_4 +1 X_Elena_5  = 1\n",
      "Bounds\n",
      " 0 <= X_Álvaro_1 <= 1\n",
      " 0 <= X_Álvaro_2 <= 1\n",
      " 0 <= X_Álvaro_3 <= 1\n",
      " 0 <= X_Álvaro_4 <= 1\n",
      " 0 <= X_Álvaro_5 <= 1\n",
      " 0 <= X_Barbi_1 <= 1\n",
      " 0 <= X_Barbi_2 <= 1\n",
      " 0 <= X_Barbi_3 <= 1\n",
      " 0 <= X_Barbi_4 <= 1\n",
      " 0 <= X_Barbi_5 <= 1\n",
      " 0 <= X_Carlos_1 <= 1\n",
      " 0 <= X_Carlos_2 <= 1\n",
      " 0 <= X_Carlos_3 <= 1\n",
      " 0 <= X_Carlos_4 <= 1\n",
      " 0 <= X_Carlos_5 <= 1\n",
      " 0 <= X_Diana_1 <= 1\n",
      " 0 <= X_Diana_2 <= 1\n",
      " 0 <= X_Diana_3 <= 1\n",
      " 0 <= X_Diana_4 <= 1\n",
      " 0 <= X_Diana_5 <= 1\n",
      " 0 <= X_Elena_1 <= 1\n",
      " 0 <= X_Elena_2 <= 1\n",
      " 0 <= X_Elena_3 <= 1\n",
      " 0 <= X_Elena_4 <= 1\n",
      " 0 <= X_Elena_5 <= 1\n",
      "Binaries\n",
      " X_Álvaro_1\n",
      " X_Álvaro_2\n",
      " X_Álvaro_3\n",
      " X_Álvaro_4\n",
      " X_Álvaro_5\n",
      " X_Barbi_1\n",
      " X_Barbi_2\n",
      " X_Barbi_3\n",
      " X_Barbi_4\n",
      " X_Barbi_5\n",
      " X_Carlos_1\n",
      " X_Carlos_2\n",
      " X_Carlos_3\n",
      " X_Carlos_4\n",
      " X_Carlos_5\n",
      " X_Diana_1\n",
      " X_Diana_2\n",
      " X_Diana_3\n",
      " X_Diana_4\n",
      " X_Diana_5\n",
      " X_Elena_1\n",
      " X_Elena_2\n",
      " X_Elena_3\n",
      " X_Elena_4\n",
      " X_Elena_5\n",
      "End\n",
      "\n"
     ]
    }
   ],
   "source": [
    "print(solver.ExportModelAsLpFormat(False).replace('\\\\', '').replace(',_', ','), sep='\\n')"
   ]
  },
  {
   "cell_type": "markdown",
   "id": "a2ca194e",
   "metadata": {},
   "source": [
    "## Resolver el problema"
   ]
  },
  {
   "cell_type": "code",
   "execution_count": 11,
   "id": "b4e9ddb7",
   "metadata": {},
   "outputs": [],
   "source": [
    "status = solver.Solve()"
   ]
  },
  {
   "cell_type": "markdown",
   "id": "f500876a",
   "metadata": {},
   "source": [
    "## Resultados"
   ]
  },
  {
   "cell_type": "code",
   "execution_count": 12,
   "id": "e6ebddad",
   "metadata": {},
   "outputs": [
    {
     "name": "stdout",
     "output_type": "stream",
     "text": [
      "El problema tiene una solución óptima\n"
     ]
    }
   ],
   "source": [
    "if status == pywraplp.Solver.OPTIMAL:\n",
    "    print('El problema tiene una solución óptima')\n",
    "else:\n",
    "    print('No se encontró una solución óptima')"
   ]
  },
  {
   "cell_type": "code",
   "execution_count": 13,
   "id": "9cbb93a2",
   "metadata": {},
   "outputs": [
    {
     "name": "stdout",
     "output_type": "stream",
     "text": [
      "La eficiencia total es 39.0\n"
     ]
    }
   ],
   "source": [
    "eficiencia_total = solver.Objective().Value()\n",
    "print(f'La eficiencia total es {eficiencia_total}')"
   ]
  },
  {
   "cell_type": "code",
   "execution_count": 14,
   "id": "88d8720a",
   "metadata": {},
   "outputs": [
    {
     "name": "stdout",
     "output_type": "stream",
     "text": [
      "X_Álvaro_1\n",
      "X_Barbi_5\n",
      "X_Carlos_2\n",
      "X_Diana_4\n",
      "X_Elena_3\n"
     ]
    }
   ],
   "source": [
    "# Imprimo las variables con valor a 1 en la solución óptima:\n",
    "for variable in solver.variables():\n",
    "    if variable.solution_value() == 1:\n",
    "        print(variable)"
   ]
  },
  {
   "cell_type": "code",
   "execution_count": 15,
   "id": "f0f73160",
   "metadata": {},
   "outputs": [
    {
     "data": {
      "text/html": [
       "<div>\n",
       "<style scoped>\n",
       "    .dataframe tbody tr th:only-of-type {\n",
       "        vertical-align: middle;\n",
       "    }\n",
       "\n",
       "    .dataframe tbody tr th {\n",
       "        vertical-align: top;\n",
       "    }\n",
       "\n",
       "    .dataframe thead th {\n",
       "        text-align: right;\n",
       "    }\n",
       "</style>\n",
       "<table border=\"1\" class=\"dataframe\">\n",
       "  <thead>\n",
       "    <tr style=\"text-align: right;\">\n",
       "      <th></th>\n",
       "      <th>Proyecto</th>\n",
       "      <th>Álvaro</th>\n",
       "      <th>Barbi</th>\n",
       "      <th>Carlos</th>\n",
       "      <th>Diana</th>\n",
       "      <th>Elena</th>\n",
       "    </tr>\n",
       "  </thead>\n",
       "  <tbody>\n",
       "    <tr>\n",
       "      <th>0</th>\n",
       "      <td>1</td>\n",
       "      <td>9</td>\n",
       "      <td>6</td>\n",
       "      <td>5</td>\n",
       "      <td>7</td>\n",
       "      <td>7</td>\n",
       "    </tr>\n",
       "    <tr>\n",
       "      <th>1</th>\n",
       "      <td>2</td>\n",
       "      <td>2</td>\n",
       "      <td>4</td>\n",
       "      <td>8</td>\n",
       "      <td>6</td>\n",
       "      <td>5</td>\n",
       "    </tr>\n",
       "    <tr>\n",
       "      <th>2</th>\n",
       "      <td>3</td>\n",
       "      <td>7</td>\n",
       "      <td>3</td>\n",
       "      <td>7</td>\n",
       "      <td>5</td>\n",
       "      <td>6</td>\n",
       "    </tr>\n",
       "    <tr>\n",
       "      <th>3</th>\n",
       "      <td>4</td>\n",
       "      <td>8</td>\n",
       "      <td>7</td>\n",
       "      <td>6</td>\n",
       "      <td>9</td>\n",
       "      <td>8</td>\n",
       "    </tr>\n",
       "    <tr>\n",
       "      <th>4</th>\n",
       "      <td>5</td>\n",
       "      <td>6</td>\n",
       "      <td>7</td>\n",
       "      <td>5</td>\n",
       "      <td>8</td>\n",
       "      <td>9</td>\n",
       "    </tr>\n",
       "  </tbody>\n",
       "</table>\n",
       "</div>"
      ],
      "text/plain": [
       "   Proyecto  Álvaro  Barbi  Carlos  Diana  Elena\n",
       "0         1       9      6       5      7      7\n",
       "1         2       2      4       8      6      5\n",
       "2         3       7      3       7      5      6\n",
       "3         4       8      7       6      9      8\n",
       "4         5       6      7       5      8      9"
      ]
     },
     "execution_count": 15,
     "metadata": {},
     "output_type": "execute_result"
    }
   ],
   "source": [
    "tabla_eficiencias"
   ]
  }
 ],
 "metadata": {
  "kernelspec": {
   "display_name": "Python 3 (ipykernel)",
   "language": "python",
   "name": "python3"
  },
  "language_info": {
   "codemirror_mode": {
    "name": "ipython",
    "version": 3
   },
   "file_extension": ".py",
   "mimetype": "text/x-python",
   "name": "python",
   "nbconvert_exporter": "python",
   "pygments_lexer": "ipython3",
   "version": "3.10.12"
  }
 },
 "nbformat": 4,
 "nbformat_minor": 5
}
