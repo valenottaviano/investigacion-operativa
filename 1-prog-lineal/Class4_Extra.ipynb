{
 "cells": [
  {
   "cell_type": "markdown",
   "metadata": {},
   "source": [
    "Un entrenador de fútbol 5 tine que elegir a su formación titular para jugar la final del torneo Las Cañas. Siempre juega con 1 arquera, 2 defensoras y 2 delanteras.\n",
    "La lista de jugadoras disponibles, junto con su calidad en cada posición, se encuentran en la sigiuente tabla"
   ]
  },
  {
   "cell_type": "code",
   "execution_count": 1,
   "metadata": {},
   "outputs": [],
   "source": [
    "import pandas as pd\n",
    "from ortools.linear_solver import pywraplp"
   ]
  },
  {
   "cell_type": "markdown",
   "metadata": {},
   "source": [
    "## Dataset"
   ]
  },
  {
   "cell_type": "code",
   "execution_count": 2,
   "metadata": {},
   "outputs": [
    {
     "data": {
      "text/html": [
       "<div>\n",
       "<style scoped>\n",
       "    .dataframe tbody tr th:only-of-type {\n",
       "        vertical-align: middle;\n",
       "    }\n",
       "\n",
       "    .dataframe tbody tr th {\n",
       "        vertical-align: top;\n",
       "    }\n",
       "\n",
       "    .dataframe thead th {\n",
       "        text-align: right;\n",
       "    }\n",
       "</style>\n",
       "<table border=\"1\" class=\"dataframe\">\n",
       "  <thead>\n",
       "    <tr style=\"text-align: right;\">\n",
       "      <th></th>\n",
       "      <th>Arquera</th>\n",
       "      <th>Defensora</th>\n",
       "      <th>Delantera</th>\n",
       "    </tr>\n",
       "  </thead>\n",
       "  <tbody>\n",
       "    <tr>\n",
       "      <th>Ana</th>\n",
       "      <td>3</td>\n",
       "      <td>8</td>\n",
       "      <td>8</td>\n",
       "    </tr>\n",
       "    <tr>\n",
       "      <th>Belén</th>\n",
       "      <td>5</td>\n",
       "      <td>5</td>\n",
       "      <td>6</td>\n",
       "    </tr>\n",
       "    <tr>\n",
       "      <th>Carla</th>\n",
       "      <td>6</td>\n",
       "      <td>5</td>\n",
       "      <td>4</td>\n",
       "    </tr>\n",
       "    <tr>\n",
       "      <th>Daniela</th>\n",
       "      <td>4</td>\n",
       "      <td>7</td>\n",
       "      <td>6</td>\n",
       "    </tr>\n",
       "    <tr>\n",
       "      <th>Erica</th>\n",
       "      <td>6</td>\n",
       "      <td>7</td>\n",
       "      <td>6</td>\n",
       "    </tr>\n",
       "    <tr>\n",
       "      <th>Francisca</th>\n",
       "      <td>6</td>\n",
       "      <td>5</td>\n",
       "      <td>3</td>\n",
       "    </tr>\n",
       "    <tr>\n",
       "      <th>Gabriela</th>\n",
       "      <td>8</td>\n",
       "      <td>10</td>\n",
       "      <td>5</td>\n",
       "    </tr>\n",
       "    <tr>\n",
       "      <th>Hilda</th>\n",
       "      <td>4</td>\n",
       "      <td>9</td>\n",
       "      <td>9</td>\n",
       "    </tr>\n",
       "  </tbody>\n",
       "</table>\n",
       "</div>"
      ],
      "text/plain": [
       "           Arquera  Defensora  Delantera\n",
       "Ana              3          8          8\n",
       "Belén            5          5          6\n",
       "Carla            6          5          4\n",
       "Daniela          4          7          6\n",
       "Erica            6          7          6\n",
       "Francisca        6          5          3\n",
       "Gabriela         8         10          5\n",
       "Hilda            4          9          9"
      ]
     },
     "execution_count": 2,
     "metadata": {},
     "output_type": "execute_result"
    }
   ],
   "source": [
    "dataset = pd.DataFrame({\n",
    "    'Arquera': [3,5,6,4,6,6,8,4],\n",
    "    'Defensora': [8,5,5,7,7,5,10,9],\n",
    "    'Delantera': [8,6,4,6,6,3,5,9]\n",
    "})\n",
    "dataset.index = ['Ana', 'Belén', 'Carla', 'Daniela', 'Erica', 'Francisca', 'Gabriela', 'Hilda']\n",
    "dataset"
   ]
  },
  {
   "cell_type": "code",
   "execution_count": 3,
   "metadata": {},
   "outputs": [],
   "source": [
    "solver = pywraplp.Solver.CreateSolver('CBC')"
   ]
  },
  {
   "cell_type": "markdown",
   "metadata": {},
   "source": [
    "## Variables"
   ]
  },
  {
   "cell_type": "code",
   "execution_count": 4,
   "metadata": {},
   "outputs": [
    {
     "data": {
      "text/plain": [
       "['Defensora', 'Delantera']"
      ]
     },
     "execution_count": 4,
     "metadata": {},
     "output_type": "execute_result"
    }
   ],
   "source": [
    "dataset.columns[1:].tolist()"
   ]
  },
  {
   "cell_type": "code",
   "execution_count": 5,
   "metadata": {},
   "outputs": [],
   "source": [
    "posiciones = [('Arquera', 1), ('Defensora', 2), ('Delantera', 2)]\n",
    "jugadoras = dataset.index.tolist()"
   ]
  },
  {
   "cell_type": "code",
   "execution_count": 6,
   "metadata": {},
   "outputs": [],
   "source": [
    "variables = {}\n",
    "\n",
    "for pos in posiciones:\n",
    "    for jug in jugadoras:\n",
    "        variable = solver.BoolVar(f'X_{pos[0]}_{jug}')\n",
    "        variables[(pos[0], jug)] = variable"
   ]
  },
  {
   "cell_type": "code",
   "execution_count": 7,
   "metadata": {},
   "outputs": [
    {
     "data": {
      "text/plain": [
       "{('Arquera', 'Ana'): X_Arquera_Ana,\n",
       " ('Arquera', 'Belén'): X_Arquera_Belén,\n",
       " ('Arquera', 'Carla'): X_Arquera_Carla,\n",
       " ('Arquera', 'Daniela'): X_Arquera_Daniela,\n",
       " ('Arquera', 'Erica'): X_Arquera_Erica,\n",
       " ('Arquera', 'Francisca'): X_Arquera_Francisca,\n",
       " ('Arquera', 'Gabriela'): X_Arquera_Gabriela,\n",
       " ('Arquera', 'Hilda'): X_Arquera_Hilda,\n",
       " ('Defensora', 'Ana'): X_Defensora_Ana,\n",
       " ('Defensora', 'Belén'): X_Defensora_Belén,\n",
       " ('Defensora', 'Carla'): X_Defensora_Carla,\n",
       " ('Defensora', 'Daniela'): X_Defensora_Daniela,\n",
       " ('Defensora', 'Erica'): X_Defensora_Erica,\n",
       " ('Defensora', 'Francisca'): X_Defensora_Francisca,\n",
       " ('Defensora', 'Gabriela'): X_Defensora_Gabriela,\n",
       " ('Defensora', 'Hilda'): X_Defensora_Hilda,\n",
       " ('Delantera', 'Ana'): X_Delantera_Ana,\n",
       " ('Delantera', 'Belén'): X_Delantera_Belén,\n",
       " ('Delantera', 'Carla'): X_Delantera_Carla,\n",
       " ('Delantera', 'Daniela'): X_Delantera_Daniela,\n",
       " ('Delantera', 'Erica'): X_Delantera_Erica,\n",
       " ('Delantera', 'Francisca'): X_Delantera_Francisca,\n",
       " ('Delantera', 'Gabriela'): X_Delantera_Gabriela,\n",
       " ('Delantera', 'Hilda'): X_Delantera_Hilda}"
      ]
     },
     "execution_count": 7,
     "metadata": {},
     "output_type": "execute_result"
    }
   ],
   "source": [
    "variables"
   ]
  },
  {
   "cell_type": "markdown",
   "metadata": {},
   "source": [
    "## Constraints"
   ]
  },
  {
   "cell_type": "code",
   "execution_count": 8,
   "metadata": {},
   "outputs": [],
   "source": [
    "for pos in posiciones:\n",
    "    ct = solver.Constraint(pos[1], pos[1], f'Maxima cantidad de jugadores para la posición {pos[0]}')\n",
    "    for jug in jugadoras:\n",
    "        ct.SetCoefficient(variables[(pos[0], jug)], 1)"
   ]
  },
  {
   "cell_type": "code",
   "execution_count": 9,
   "metadata": {},
   "outputs": [],
   "source": [
    "for jug in jugadoras:\n",
    "    ct = solver.Constraint(0, 1, f'Maxima cantidad de posición para la jugadora: {jug}')\n",
    "    for pos in posiciones:\n",
    "        ct.SetCoefficient(variables[(pos[0], jug)], 1)"
   ]
  },
  {
   "cell_type": "markdown",
   "metadata": {},
   "source": [
    "## Objective Function"
   ]
  },
  {
   "cell_type": "code",
   "execution_count": 10,
   "metadata": {},
   "outputs": [],
   "source": [
    "objective = solver.Objective()\n",
    "for jug in jugadoras:\n",
    "    for pos in posiciones:\n",
    "        calidad = dataset.loc[jug, pos[0]]\n",
    "        objective.SetCoefficient(variables[(pos[0], jug)], int(calidad) )\n",
    "objective.SetMaximization()"
   ]
  },
  {
   "cell_type": "code",
   "execution_count": 11,
   "metadata": {},
   "outputs": [
    {
     "name": "stdout",
     "output_type": "stream",
     "text": [
      " Generated by MPModelProtoExporter\n",
      "   Name             : \n",
      "   Format           : Free\n",
      "   Constraints      : 11\n",
      "   Variables        : 24\n",
      "     Binary         : 24\n",
      "     Integer        : 0\n",
      "     Continuous     : 0\n",
      "Maximize\n",
      " Obj: +3 X_Arquera_Ana +5 X_Arquera_Belén +6 X_Arquera_Carla +4 X_Arquera_Daniela +6 X_Arquera_Erica +6 X_Arquera_Francisca +8 X_Arquera_Gabriela +4 X_Arquera_Hilda +8 X_Defensora_Ana +5 X_Defensora_Belén +5 X_Defensora_Carla +7 X_Defensora_Daniela +7 X_Defensora_Erica +5 X_Defensora_Francisca +10 X_Defensora_Gabriela +9 X_Defensora_Hilda +8 X_Delantera_Ana +6 X_Delantera_Belén +4 X_Delantera_Carla +6 X_Delantera_Daniela +6 X_Delantera_Erica +3 X_Delantera_Francisca +5 X_Delantera_Gabriela +9 X_Delantera_Hilda \n",
      "Subject to\n",
      " Maxima_cantidad_de_jugadores_para_la_posición_Arquera: +1 X_Arquera_Ana +1 X_Arquera_Belén +1 X_Arquera_Carla +1 X_Arquera_Daniela +1 X_Arquera_Erica +1 X_Arquera_Francisca +1 X_Arquera_Gabriela +1 X_Arquera_Hilda  = 1\n",
      " Maxima_cantidad_de_jugadores_para_la_posición_Defensora: +1 X_Defensora_Ana +1 X_Defensora_Belén +1 X_Defensora_Carla +1 X_Defensora_Daniela +1 X_Defensora_Erica +1 X_Defensora_Francisca +1 X_Defensora_Gabriela +1 X_Defensora_Hilda  = 2\n",
      " Maxima_cantidad_de_jugadores_para_la_posición_Delantera: +1 X_Delantera_Ana +1 X_Delantera_Belén +1 X_Delantera_Carla +1 X_Delantera_Daniela +1 X_Delantera_Erica +1 X_Delantera_Francisca +1 X_Delantera_Gabriela +1 X_Delantera_Hilda  = 2\n",
      " Maxima_cantidad_de_posición_para_la_jugadora__Ana_rhs: +1 X_Arquera_Ana +1 X_Defensora_Ana +1 X_Delantera_Ana  <= 1\n",
      " Maxima_cantidad_de_posición_para_la_jugadora__Ana_lhs: +1 X_Arquera_Ana +1 X_Defensora_Ana +1 X_Delantera_Ana  >= 0\n",
      " Maxima_cantidad_de_posición_para_la_jugadora__Belén_rhs: +1 X_Arquera_Belén +1 X_Defensora_Belén +1 X_Delantera_Belén  <= 1\n",
      " Maxima_cantidad_de_posición_para_la_jugadora__Belén_lhs: +1 X_Arquera_Belén +1 X_Defensora_Belén +1 X_Delantera_Belén  >= 0\n",
      " Maxima_cantidad_de_posición_para_la_jugadora__Carla_rhs: +1 X_Arquera_Carla +1 X_Defensora_Carla +1 X_Delantera_Carla  <= 1\n",
      " Maxima_cantidad_de_posición_para_la_jugadora__Carla_lhs: +1 X_Arquera_Carla +1 X_Defensora_Carla +1 X_Delantera_Carla  >= 0\n",
      " Maxima_cantidad_de_posición_para_la_jugadora__Daniela_rhs: +1 X_Arquera_Daniela +1 X_Defensora_Daniela +1 X_Delantera_Daniela  <= 1\n",
      " Maxima_cantidad_de_posición_para_la_jugadora__Daniela_lhs: +1 X_Arquera_Daniela +1 X_Defensora_Daniela +1 X_Delantera_Daniela  >= 0\n",
      " Maxima_cantidad_de_posición_para_la_jugadora__Erica_rhs: +1 X_Arquera_Erica +1 X_Defensora_Erica +1 X_Delantera_Erica  <= 1\n",
      " Maxima_cantidad_de_posición_para_la_jugadora__Erica_lhs: +1 X_Arquera_Erica +1 X_Defensora_Erica +1 X_Delantera_Erica  >= 0\n",
      " Maxima_cantidad_de_posición_para_la_jugadora__Francisca_rhs: +1 X_Arquera_Francisca +1 X_Defensora_Francisca +1 X_Delantera_Francisca  <= 1\n",
      " Maxima_cantidad_de_posición_para_la_jugadora__Francisca_lhs: +1 X_Arquera_Francisca +1 X_Defensora_Francisca +1 X_Delantera_Francisca  >= 0\n",
      " Maxima_cantidad_de_posición_para_la_jugadora__Gabriela_rhs: +1 X_Arquera_Gabriela +1 X_Defensora_Gabriela +1 X_Delantera_Gabriela  <= 1\n",
      " Maxima_cantidad_de_posición_para_la_jugadora__Gabriela_lhs: +1 X_Arquera_Gabriela +1 X_Defensora_Gabriela +1 X_Delantera_Gabriela  >= 0\n",
      " Maxima_cantidad_de_posición_para_la_jugadora__Hilda_rhs: +1 X_Arquera_Hilda +1 X_Defensora_Hilda +1 X_Delantera_Hilda  <= 1\n",
      " Maxima_cantidad_de_posición_para_la_jugadora__Hilda_lhs: +1 X_Arquera_Hilda +1 X_Defensora_Hilda +1 X_Delantera_Hilda  >= 0\n",
      "Bounds\n",
      " 0 <= X_Arquera_Ana <= 1\n",
      " 0 <= X_Arquera_Belén <= 1\n",
      " 0 <= X_Arquera_Carla <= 1\n",
      " 0 <= X_Arquera_Daniela <= 1\n",
      " 0 <= X_Arquera_Erica <= 1\n",
      " 0 <= X_Arquera_Francisca <= 1\n",
      " 0 <= X_Arquera_Gabriela <= 1\n",
      " 0 <= X_Arquera_Hilda <= 1\n",
      " 0 <= X_Defensora_Ana <= 1\n",
      " 0 <= X_Defensora_Belén <= 1\n",
      " 0 <= X_Defensora_Carla <= 1\n",
      " 0 <= X_Defensora_Daniela <= 1\n",
      " 0 <= X_Defensora_Erica <= 1\n",
      " 0 <= X_Defensora_Francisca <= 1\n",
      " 0 <= X_Defensora_Gabriela <= 1\n",
      " 0 <= X_Defensora_Hilda <= 1\n",
      " 0 <= X_Delantera_Ana <= 1\n",
      " 0 <= X_Delantera_Belén <= 1\n",
      " 0 <= X_Delantera_Carla <= 1\n",
      " 0 <= X_Delantera_Daniela <= 1\n",
      " 0 <= X_Delantera_Erica <= 1\n",
      " 0 <= X_Delantera_Francisca <= 1\n",
      " 0 <= X_Delantera_Gabriela <= 1\n",
      " 0 <= X_Delantera_Hilda <= 1\n",
      "Binaries\n",
      " X_Arquera_Ana\n",
      " X_Arquera_Belén\n",
      " X_Arquera_Carla\n",
      " X_Arquera_Daniela\n",
      " X_Arquera_Erica\n",
      " X_Arquera_Francisca\n",
      " X_Arquera_Gabriela\n",
      " X_Arquera_Hilda\n",
      " X_Defensora_Ana\n",
      " X_Defensora_Belén\n",
      " X_Defensora_Carla\n",
      " X_Defensora_Daniela\n",
      " X_Defensora_Erica\n",
      " X_Defensora_Francisca\n",
      " X_Defensora_Gabriela\n",
      " X_Defensora_Hilda\n",
      " X_Delantera_Ana\n",
      " X_Delantera_Belén\n",
      " X_Delantera_Carla\n",
      " X_Delantera_Daniela\n",
      " X_Delantera_Erica\n",
      " X_Delantera_Francisca\n",
      " X_Delantera_Gabriela\n",
      " X_Delantera_Hilda\n",
      "End\n",
      "\n"
     ]
    }
   ],
   "source": [
    "print(solver.ExportModelAsLpFormat(False).replace('\\\\', '').replace(',_', ','), sep='\\n')"
   ]
  },
  {
   "cell_type": "markdown",
   "metadata": {},
   "source": [
    "## Maximization"
   ]
  },
  {
   "cell_type": "code",
   "execution_count": 12,
   "metadata": {},
   "outputs": [
    {
     "name": "stdout",
     "output_type": "stream",
     "text": [
      "El problema tiene una solución óptima\n",
      "La eficiencia total es 40.0\n"
     ]
    }
   ],
   "source": [
    "status = solver.Solve()\n",
    "\n",
    "if status == pywraplp.Solver.OPTIMAL:\n",
    "    print('El problema tiene una solución óptima')\n",
    "else:\n",
    "    print('No se encontró una solución óptima')\n",
    "\n",
    "eficiencia_total = solver.Objective().Value()\n",
    "print(f'La eficiencia total es {eficiencia_total}')"
   ]
  },
  {
   "cell_type": "code",
   "execution_count": 17,
   "metadata": {},
   "outputs": [
    {
     "data": {
      "text/plain": [
       "0.0"
      ]
     },
     "execution_count": 17,
     "metadata": {},
     "output_type": "execute_result"
    }
   ],
   "source": [
    "variables[('Arquera', 'Ana')]"
   ]
  },
  {
   "cell_type": "code",
   "execution_count": 21,
   "metadata": {},
   "outputs": [
    {
     "data": {
      "text/html": [
       "<div>\n",
       "<style scoped>\n",
       "    .dataframe tbody tr th:only-of-type {\n",
       "        vertical-align: middle;\n",
       "    }\n",
       "\n",
       "    .dataframe tbody tr th {\n",
       "        vertical-align: top;\n",
       "    }\n",
       "\n",
       "    .dataframe thead th {\n",
       "        text-align: right;\n",
       "    }\n",
       "</style>\n",
       "<table border=\"1\" class=\"dataframe\">\n",
       "  <thead>\n",
       "    <tr style=\"text-align: right;\">\n",
       "      <th></th>\n",
       "      <th>Arquera</th>\n",
       "      <th>Defensora</th>\n",
       "      <th>Delantera</th>\n",
       "    </tr>\n",
       "  </thead>\n",
       "  <tbody>\n",
       "    <tr>\n",
       "      <th>Ana</th>\n",
       "      <td>0</td>\n",
       "      <td>0</td>\n",
       "      <td>1</td>\n",
       "    </tr>\n",
       "    <tr>\n",
       "      <th>Belén</th>\n",
       "      <td>0</td>\n",
       "      <td>0</td>\n",
       "      <td>0</td>\n",
       "    </tr>\n",
       "    <tr>\n",
       "      <th>Carla</th>\n",
       "      <td>0</td>\n",
       "      <td>0</td>\n",
       "      <td>0</td>\n",
       "    </tr>\n",
       "    <tr>\n",
       "      <th>Daniela</th>\n",
       "      <td>0</td>\n",
       "      <td>1</td>\n",
       "      <td>0</td>\n",
       "    </tr>\n",
       "    <tr>\n",
       "      <th>Erica</th>\n",
       "      <td>0</td>\n",
       "      <td>0</td>\n",
       "      <td>0</td>\n",
       "    </tr>\n",
       "    <tr>\n",
       "      <th>Francisca</th>\n",
       "      <td>1</td>\n",
       "      <td>0</td>\n",
       "      <td>0</td>\n",
       "    </tr>\n",
       "    <tr>\n",
       "      <th>Gabriela</th>\n",
       "      <td>0</td>\n",
       "      <td>1</td>\n",
       "      <td>0</td>\n",
       "    </tr>\n",
       "    <tr>\n",
       "      <th>Hilda</th>\n",
       "      <td>0</td>\n",
       "      <td>0</td>\n",
       "      <td>1</td>\n",
       "    </tr>\n",
       "  </tbody>\n",
       "</table>\n",
       "</div>"
      ],
      "text/plain": [
       "           Arquera  Defensora  Delantera\n",
       "Ana              0          0          1\n",
       "Belén            0          0          0\n",
       "Carla            0          0          0\n",
       "Daniela          0          1          0\n",
       "Erica            0          0          0\n",
       "Francisca        1          0          0\n",
       "Gabriela         0          1          0\n",
       "Hilda            0          0          1"
      ]
     },
     "execution_count": 21,
     "metadata": {},
     "output_type": "execute_result"
    }
   ],
   "source": [
    "solution = dataset.copy()\n",
    "for jug in jugadoras:\n",
    "    for pos in posiciones:\n",
    "        solution.loc[jug, pos[0]] = variables[pos[0], jug].solution_value()\n",
    "solution"
   ]
  }
 ],
 "metadata": {
  "kernelspec": {
   "display_name": "venv",
   "language": "python",
   "name": "python3"
  },
  "language_info": {
   "codemirror_mode": {
    "name": "ipython",
    "version": 3
   },
   "file_extension": ".py",
   "mimetype": "text/x-python",
   "name": "python",
   "nbconvert_exporter": "python",
   "pygments_lexer": "ipython3",
   "version": "3.10.12"
  },
  "orig_nbformat": 4
 },
 "nbformat": 4,
 "nbformat_minor": 2
}
