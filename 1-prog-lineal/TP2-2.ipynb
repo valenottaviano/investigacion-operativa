{
 "cells": [
  {
   "cell_type": "markdown",
   "metadata": {},
   "source": [
    "# Ejercicio 2"
   ]
  },
  {
   "cell_type": "markdown",
   "metadata": {},
   "source": [
    "Una librería liquida sus productos por cierre. Les quedan 100 carpetas, 200 lapiceras y 300 block de hojas. Para ello, lanza 4 ofertas distintas:\n",
    "- Oferta 1 - Una carpeta, 3 lapiceras y un block de hojas por $3000.\n",
    "- Oferta 2 - Una carpeta y 2 blocks de hojas por $2000.\n",
    "- Oferta 3 - 2 lapiceras y una carpeta por $1000\n",
    "- Oferta 4 - 3 blocks de hojas por $4000\n",
    "\n",
    "Todo lo que no venda lo donará.\n",
    "\n",
    "Cuántas ofertas de cada tipo debería vender para maximizar sus ganancias? Cuánto\n",
    "ganaría?\n",
    "\n",
    "- Plantee las variables de decisión, las restricciones y la función objetivo.\n",
    "- Resuelva el problema en Python con OR-Tools"
   ]
  },
  {
   "cell_type": "code",
   "execution_count": 1,
   "metadata": {},
   "outputs": [],
   "source": [
    "from ortools.linear_solver import pywraplp"
   ]
  },
  {
   "cell_type": "code",
   "execution_count": 2,
   "metadata": {},
   "outputs": [],
   "source": [
    "solver = pywraplp.Solver.CreateSolver('CBC')"
   ]
  },
  {
   "cell_type": "markdown",
   "metadata": {},
   "source": [
    "## Variables de decisión\n",
    "Las variables de decisión serán la cantidad de ofertas que debe vender de cada tipo."
   ]
  },
  {
   "cell_type": "code",
   "execution_count": 3,
   "metadata": {},
   "outputs": [],
   "source": [
    "o1 = solver.IntVar(0, solver.infinity(), 'Oferta 1')\n",
    "o2 = solver.IntVar(0, solver.infinity(), 'Oferta 2')\n",
    "o3 = solver.IntVar(0, solver.infinity(), 'Oferta 3')\n",
    "o4 = solver.IntVar(0, solver.infinity(), 'Oferta 4')"
   ]
  },
  {
   "cell_type": "markdown",
   "metadata": {},
   "source": [
    "## Restricciones\n",
    "Las restricciones están dadas por la cantidad de las variables \"carpetas\", \"lapiceras\" y \"blocks de hojas\".\n"
   ]
  },
  {
   "cell_type": "code",
   "execution_count": 4,
   "metadata": {},
   "outputs": [
    {
     "data": {
      "text/plain": [
       "<ortools.linear_solver.pywraplp.Constraint; proxy of <Swig Object of type 'operations_research::MPConstraint *' at 0x7f731c2c24f0> >"
      ]
     },
     "execution_count": 4,
     "metadata": {},
     "output_type": "execute_result"
    }
   ],
   "source": [
    "solver.Add(o1 + o2 + o3 <= 100) # Máxima cantidad de carpetas que podría vender \n",
    "solver.Add(3 * o1 + 2 * o3 <= 200) #Máxima cantidad de lapiceras que podría vender\n",
    "solver.Add(o1 + 2 * o2 + 3 * o4 <= 300) #Máxima cantidad de blocks de hojas que podría vender"
   ]
  },
  {
   "cell_type": "markdown",
   "metadata": {},
   "source": [
    "## Función objetivo"
   ]
  },
  {
   "cell_type": "code",
   "execution_count": 5,
   "metadata": {},
   "outputs": [],
   "source": [
    "solver.Maximize(3000*o1 + 2000*o2 + 1000*o3 + 4000*o4)\n",
    "status = solver.Solve()"
   ]
  },
  {
   "cell_type": "code",
   "execution_count": 6,
   "metadata": {},
   "outputs": [
    {
     "name": "stdout",
     "output_type": "stream",
     "text": [
      "El problema tiene una solución óptima\n"
     ]
    }
   ],
   "source": [
    "if status == pywraplp.Solver.OPTIMAL:\n",
    "    print('El problema tiene una solución óptima')\n",
    "else:\n",
    "    print('No se encontró una solución óptima')"
   ]
  },
  {
   "cell_type": "markdown",
   "metadata": {},
   "source": [
    "El problema tiene una solución óptima"
   ]
  },
  {
   "cell_type": "markdown",
   "metadata": {},
   "source": [
    "- Cantidad de Oferta 1: 1000.0\n",
    "- Cantidad de Oferta 2: 1000.0\n",
    "- Cantidad de Oferta 3: 500.0\n",
    "- Cantidad de Oferta 4: 900.0"
   ]
  },
  {
   "cell_type": "code",
   "execution_count": 7,
   "metadata": {},
   "outputs": [
    {
     "name": "stdout",
     "output_type": "stream",
     "text": [
      "Número de ofertas tipo 1 = 66\n",
      "Número de ofertas tipo 2 = 0\n",
      "Número de ofertas tipo 3 = 1\n",
      "Número de ofertas tipo 4 = 78\n",
      "Ganancia máxima = 511000\n"
     ]
    }
   ],
   "source": [
    "print('Número de ofertas tipo 1 =', round(o1.solution_value()))\n",
    "print('Número de ofertas tipo 2 =', round(o2.solution_value()))\n",
    "print('Número de ofertas tipo 3 =', round(o3.solution_value()))\n",
    "print('Número de ofertas tipo 4 =', round(o4.solution_value()))\n",
    "print('Ganancia máxima =', round(solver.Objective().Value()))"
   ]
  },
  {
   "cell_type": "markdown",
   "metadata": {},
   "source": [
    "- Número de ofertas tipo 1 = 66\n",
    "- Número de ofertas tipo 2 = 0\n",
    "- Número de ofertas tipo 3 = 1\n",
    "- Número de ofertas tipo 4 = 78\n",
    "- Ganancia máxima = 511000"
   ]
  },
  {
   "cell_type": "code",
   "execution_count": null,
   "metadata": {},
   "outputs": [
    {
     "ename": "",
     "evalue": "",
     "output_type": "error",
     "traceback": [
      "\u001b[1;31mThe Kernel crashed while executing code in the the current cell or a previous cell. Please review the code in the cell(s) to identify a possible cause of the failure. Click <a href='https://aka.ms/vscodeJupyterKernelCrash'>here</a> for more info. View Jupyter <a href='command:jupyter.viewOutput'>log</a> for further details."
     ]
    }
   ],
   "source": [
    "print(o1.solution_value() + o2.solution_value() + o3.solution_value())\n",
    "print(3 * o1.solution_value() + 2 * o3.solution_value())\n",
    "print(o1.solution_value() + 2 * o2.solution_value() + 3)"
   ]
  },
  {
   "cell_type": "code",
   "execution_count": null,
   "metadata": {},
   "outputs": [],
   "source": []
  },
  {
   "cell_type": "code",
   "execution_count": null,
   "metadata": {},
   "outputs": [],
   "source": []
  },
  {
   "cell_type": "code",
   "execution_count": null,
   "metadata": {},
   "outputs": [],
   "source": []
  }
 ],
 "metadata": {
  "kernelspec": {
   "display_name": "venv",
   "language": "python",
   "name": "python3"
  },
  "language_info": {
   "codemirror_mode": {
    "name": "ipython",
    "version": 3
   },
   "file_extension": ".py",
   "mimetype": "text/x-python",
   "name": "python",
   "nbconvert_exporter": "python",
   "pygments_lexer": "ipython3",
   "version": "3.10.12"
  },
  "orig_nbformat": 4
 },
 "nbformat": 4,
 "nbformat_minor": 2
}
