{
 "cells": [
  {
   "cell_type": "markdown",
   "metadata": {},
   "source": [
    "# Ejercicio 3"
   ]
  },
  {
   "cell_type": "markdown",
   "metadata": {},
   "source": [
    "El decano Esteban está organizando las comisiones de la materia Bases de Datos.\n",
    "Actualmente tiene 3 comisiones, con 3 profesores, Alberto, Bruno y Carla.\n",
    "La materia se dicta 2 veces a la semana, y solamente hay algunos horarios disponibles.\n",
    "Antes de que empiece el cuatrimestre, les pidió a cada uno de los profesores que indiquen\n",
    "qué tan bien (del 1 al 5, siendo 5 lo más conveniente para el profesor) les queda cada\n",
    "horario para dictar clases. Estas fueron sus respuestas:\n",
    "\n",
    "|         | Lunes 18hs | Miercoles 14hs | Miercoles 16hs | Jueves 8hs | Jueves 10hs | Jueves 20hs |\n",
    "|---------|------------|----------------|----------------|------------|-------------|-------------|\n",
    "| Alberto | 3          | 5              | 4              | 3          | 4           | 3           |\n",
    "| Bruno   | 1          | 4              | 3              | 4          | 2           | 1           |\n",
    "| Carla   | 2          | 4              | 3              | 1          | 3           | 3           |\n",
    "\n",
    "\n",
    "Cómo debería el decano organizar las comisiones para maximizar la suma de las\n",
    "conveniencias de los profesores? Indique los horarios de cada comisión."
   ]
  },
  {
   "cell_type": "code",
   "execution_count": 36,
   "metadata": {},
   "outputs": [],
   "source": [
    "import pandas as pd\n",
    "from ortools.linear_solver import pywraplp"
   ]
  },
  {
   "cell_type": "code",
   "execution_count": 37,
   "metadata": {},
   "outputs": [
    {
     "data": {
      "text/html": [
       "<div>\n",
       "<style scoped>\n",
       "    .dataframe tbody tr th:only-of-type {\n",
       "        vertical-align: middle;\n",
       "    }\n",
       "\n",
       "    .dataframe tbody tr th {\n",
       "        vertical-align: top;\n",
       "    }\n",
       "\n",
       "    .dataframe thead th {\n",
       "        text-align: right;\n",
       "    }\n",
       "</style>\n",
       "<table border=\"1\" class=\"dataframe\">\n",
       "  <thead>\n",
       "    <tr style=\"text-align: right;\">\n",
       "      <th></th>\n",
       "      <th>L18</th>\n",
       "      <th>M14</th>\n",
       "      <th>M16</th>\n",
       "      <th>J8</th>\n",
       "      <th>J10</th>\n",
       "      <th>J20</th>\n",
       "    </tr>\n",
       "  </thead>\n",
       "  <tbody>\n",
       "    <tr>\n",
       "      <th>Alberto</th>\n",
       "      <td>3</td>\n",
       "      <td>5</td>\n",
       "      <td>4</td>\n",
       "      <td>3</td>\n",
       "      <td>4</td>\n",
       "      <td>3</td>\n",
       "    </tr>\n",
       "    <tr>\n",
       "      <th>Bruno</th>\n",
       "      <td>1</td>\n",
       "      <td>4</td>\n",
       "      <td>3</td>\n",
       "      <td>4</td>\n",
       "      <td>2</td>\n",
       "      <td>1</td>\n",
       "    </tr>\n",
       "    <tr>\n",
       "      <th>Carla</th>\n",
       "      <td>2</td>\n",
       "      <td>4</td>\n",
       "      <td>3</td>\n",
       "      <td>1</td>\n",
       "      <td>3</td>\n",
       "      <td>3</td>\n",
       "    </tr>\n",
       "  </tbody>\n",
       "</table>\n",
       "</div>"
      ],
      "text/plain": [
       "         L18  M14  M16  J8  J10  J20\n",
       "Alberto    3    5    4   3    4    3\n",
       "Bruno      1    4    3   4    2    1\n",
       "Carla      2    4    3   1    3    3"
      ]
     },
     "execution_count": 37,
     "metadata": {},
     "output_type": "execute_result"
    }
   ],
   "source": [
    "data = pd.DataFrame(\n",
    "     [[3,5,4,3,4,3],\n",
    "     [1,4,3,4,2,1],\n",
    "     [2,4,3,1,3,3]], \n",
    "     columns=['L18', 'M14', 'M16', 'J8', 'J10', 'J20'],\n",
    "     index=['Alberto', 'Bruno', 'Carla'])\n",
    "\n",
    "data"
   ]
  },
  {
   "cell_type": "code",
   "execution_count": 38,
   "metadata": {},
   "outputs": [],
   "source": [
    "solver = pywraplp.Solver.CreateSolver('CBC')"
   ]
  },
  {
   "cell_type": "code",
   "execution_count": 39,
   "metadata": {},
   "outputs": [],
   "source": [
    "profesores = data.index.values\n",
    "n_profesores = len(profesores)\n",
    "\n",
    "horarios = data.columns.values\n",
    "n_horarios = len(horarios)"
   ]
  },
  {
   "cell_type": "markdown",
   "metadata": {},
   "source": [
    "## Variables de decisión"
   ]
  },
  {
   "cell_type": "code",
   "execution_count": 40,
   "metadata": {},
   "outputs": [
    {
     "data": {
      "text/plain": [
       "{('Alberto', 'L18'): X_Alberto_L18,\n",
       " ('Alberto', 'M14'): X_Alberto_M14,\n",
       " ('Alberto', 'M16'): X_Alberto_M16,\n",
       " ('Alberto', 'J8'): X_Alberto_J8,\n",
       " ('Alberto', 'J10'): X_Alberto_J10,\n",
       " ('Alberto', 'J20'): X_Alberto_J20,\n",
       " ('Bruno', 'L18'): X_Bruno_L18,\n",
       " ('Bruno', 'M14'): X_Bruno_M14,\n",
       " ('Bruno', 'M16'): X_Bruno_M16,\n",
       " ('Bruno', 'J8'): X_Bruno_J8,\n",
       " ('Bruno', 'J10'): X_Bruno_J10,\n",
       " ('Bruno', 'J20'): X_Bruno_J20,\n",
       " ('Carla', 'L18'): X_Carla_L18,\n",
       " ('Carla', 'M14'): X_Carla_M14,\n",
       " ('Carla', 'M16'): X_Carla_M16,\n",
       " ('Carla', 'J8'): X_Carla_J8,\n",
       " ('Carla', 'J10'): X_Carla_J10,\n",
       " ('Carla', 'J20'): X_Carla_J20}"
      ]
     },
     "execution_count": 40,
     "metadata": {},
     "output_type": "execute_result"
    }
   ],
   "source": [
    "variables = {}\n",
    "\n",
    "for p in profesores:\n",
    "    for h in horarios:\n",
    "        v = solver.BoolVar(f'X_{p}_{h}')\n",
    "        variables[(p, h)] = v\n",
    "\n",
    "variables"
   ]
  },
  {
   "cell_type": "markdown",
   "metadata": {},
   "source": [
    "## Restricciones"
   ]
  },
  {
   "cell_type": "code",
   "execution_count": 41,
   "metadata": {},
   "outputs": [],
   "source": [
    "# Maxima cantidad de clases por profesor\n",
    "for p in profesores:\n",
    "    ct = solver.Constraint(0, 2, f'Máxima cantidad de clases para para el profesor {p}')\n",
    "    for h in horarios:\n",
    "        ct.SetCoefficient(variables[(p, h)], 1)\n",
    "\n",
    "# Maxima cantidad de profesores por clase\n",
    "for h in horarios:\n",
    "    ct = solver.Constraint(0, 1, f'Máxima cantidad de profesores para la clase {h}')\n",
    "    for p in profesores:\n",
    "        ct.SetCoefficient(variables[(p, h)], 1)"
   ]
  },
  {
   "cell_type": "markdown",
   "metadata": {},
   "source": [
    "## Función Objetivo"
   ]
  },
  {
   "cell_type": "code",
   "execution_count": 43,
   "metadata": {},
   "outputs": [],
   "source": [
    "objective = solver.Objective()\n",
    "for h in horarios:\n",
    "    for p in profesores:\n",
    "        objective.SetCoefficient(variables[(p, h)], int(data.loc[p,h]))\n",
    "objective.SetMaximization()"
   ]
  },
  {
   "cell_type": "code",
   "execution_count": 44,
   "metadata": {},
   "outputs": [
    {
     "name": "stdout",
     "output_type": "stream",
     "text": [
      " Generated by MPModelProtoExporter\n",
      "   Name             : \n",
      "   Format           : Free\n",
      "   Constraints      : 9\n",
      "   Variables        : 18\n",
      "     Binary         : 18\n",
      "     Integer        : 0\n",
      "     Continuous     : 0\n",
      "Maximize\n",
      " Obj: +3 X_Alberto_L18 +5 X_Alberto_M14 +4 X_Alberto_M16 +3 X_Alberto_J8 +4 X_Alberto_J10 +3 X_Alberto_J20 +1 X_Bruno_L18 +4 X_Bruno_M14 +3 X_Bruno_M16 +4 X_Bruno_J8 +2 X_Bruno_J10 +1 X_Bruno_J20 +2 X_Carla_L18 +4 X_Carla_M14 +3 X_Carla_M16 +1 X_Carla_J8 +3 X_Carla_J10 +3 X_Carla_J20 \n",
      "Subject to\n",
      " Máxima_cantidad_de_clases_para_para_el_profesor_Alberto_rhs: +1 X_Alberto_L18 +1 X_Alberto_M14 +1 X_Alberto_M16 +1 X_Alberto_J8 +1 X_Alberto_J10 +1 X_Alberto_J20  <= 2\n",
      " Máxima_cantidad_de_clases_para_para_el_profesor_Alberto_lhs: +1 X_Alberto_L18 +1 X_Alberto_M14 +1 X_Alberto_M16 +1 X_Alberto_J8 +1 X_Alberto_J10 +1 X_Alberto_J20  >= 0\n",
      " Máxima_cantidad_de_clases_para_para_el_profesor_Bruno_rhs: +1 X_Bruno_L18 +1 X_Bruno_M14 +1 X_Bruno_M16 +1 X_Bruno_J8 +1 X_Bruno_J10 +1 X_Bruno_J20  <= 2\n",
      " Máxima_cantidad_de_clases_para_para_el_profesor_Bruno_lhs: +1 X_Bruno_L18 +1 X_Bruno_M14 +1 X_Bruno_M16 +1 X_Bruno_J8 +1 X_Bruno_J10 +1 X_Bruno_J20  >= 0\n",
      " Máxima_cantidad_de_clases_para_para_el_profesor_Carla_rhs: +1 X_Carla_L18 +1 X_Carla_M14 +1 X_Carla_M16 +1 X_Carla_J8 +1 X_Carla_J10 +1 X_Carla_J20  <= 2\n",
      " Máxima_cantidad_de_clases_para_para_el_profesor_Carla_lhs: +1 X_Carla_L18 +1 X_Carla_M14 +1 X_Carla_M16 +1 X_Carla_J8 +1 X_Carla_J10 +1 X_Carla_J20  >= 0\n",
      " Máxima_cantidad_de_profesores_para_la_clase_L18_rhs: +1 X_Alberto_L18 +1 X_Bruno_L18 +1 X_Carla_L18  <= 1\n",
      " Máxima_cantidad_de_profesores_para_la_clase_L18_lhs: +1 X_Alberto_L18 +1 X_Bruno_L18 +1 X_Carla_L18  >= 0\n",
      " Máxima_cantidad_de_profesores_para_la_clase_M14_rhs: +1 X_Alberto_M14 +1 X_Bruno_M14 +1 X_Carla_M14  <= 1\n",
      " Máxima_cantidad_de_profesores_para_la_clase_M14_lhs: +1 X_Alberto_M14 +1 X_Bruno_M14 +1 X_Carla_M14  >= 0\n",
      " Máxima_cantidad_de_profesores_para_la_clase_M16_rhs: +1 X_Alberto_M16 +1 X_Bruno_M16 +1 X_Carla_M16  <= 1\n",
      " Máxima_cantidad_de_profesores_para_la_clase_M16_lhs: +1 X_Alberto_M16 +1 X_Bruno_M16 +1 X_Carla_M16  >= 0\n",
      " Máxima_cantidad_de_profesores_para_la_clase_J8_rhs: +1 X_Alberto_J8 +1 X_Bruno_J8 +1 X_Carla_J8  <= 1\n",
      " Máxima_cantidad_de_profesores_para_la_clase_J8_lhs: +1 X_Alberto_J8 +1 X_Bruno_J8 +1 X_Carla_J8  >= 0\n",
      " Máxima_cantidad_de_profesores_para_la_clase_J10_rhs: +1 X_Alberto_J10 +1 X_Bruno_J10 +1 X_Carla_J10  <= 1\n",
      " Máxima_cantidad_de_profesores_para_la_clase_J10_lhs: +1 X_Alberto_J10 +1 X_Bruno_J10 +1 X_Carla_J10  >= 0\n",
      " Máxima_cantidad_de_profesores_para_la_clase_J20_rhs: +1 X_Alberto_J20 +1 X_Bruno_J20 +1 X_Carla_J20  <= 1\n",
      " Máxima_cantidad_de_profesores_para_la_clase_J20_lhs: +1 X_Alberto_J20 +1 X_Bruno_J20 +1 X_Carla_J20  >= 0\n",
      "Bounds\n",
      " 0 <= X_Alberto_L18 <= 1\n",
      " 0 <= X_Alberto_M14 <= 1\n",
      " 0 <= X_Alberto_M16 <= 1\n",
      " 0 <= X_Alberto_J8 <= 1\n",
      " 0 <= X_Alberto_J10 <= 1\n",
      " 0 <= X_Alberto_J20 <= 1\n",
      " 0 <= X_Bruno_L18 <= 1\n",
      " 0 <= X_Bruno_M14 <= 1\n",
      " 0 <= X_Bruno_M16 <= 1\n",
      " 0 <= X_Bruno_J8 <= 1\n",
      " 0 <= X_Bruno_J10 <= 1\n",
      " 0 <= X_Bruno_J20 <= 1\n",
      " 0 <= X_Carla_L18 <= 1\n",
      " 0 <= X_Carla_M14 <= 1\n",
      " 0 <= X_Carla_M16 <= 1\n",
      " 0 <= X_Carla_J8 <= 1\n",
      " 0 <= X_Carla_J10 <= 1\n",
      " 0 <= X_Carla_J20 <= 1\n",
      "Binaries\n",
      " X_Alberto_L18\n",
      " X_Alberto_M14\n",
      " X_Alberto_M16\n",
      " X_Alberto_J8\n",
      " X_Alberto_J10\n",
      " X_Alberto_J20\n",
      " X_Bruno_L18\n",
      " X_Bruno_M14\n",
      " X_Bruno_M16\n",
      " X_Bruno_J8\n",
      " X_Bruno_J10\n",
      " X_Bruno_J20\n",
      " X_Carla_L18\n",
      " X_Carla_M14\n",
      " X_Carla_M16\n",
      " X_Carla_J8\n",
      " X_Carla_J10\n",
      " X_Carla_J20\n",
      "End\n",
      "\n"
     ]
    }
   ],
   "source": [
    "print(solver.ExportModelAsLpFormat(False).replace('\\\\', '').replace(',_', ','), sep='\\n')"
   ]
  },
  {
   "cell_type": "code",
   "execution_count": 45,
   "metadata": {},
   "outputs": [
    {
     "name": "stdout",
     "output_type": "stream",
     "text": [
      "El problema tiene una solución óptima\n"
     ]
    }
   ],
   "source": [
    "status = solver.Solve()\n",
    "\n",
    "if status == pywraplp.Solver.OPTIMAL:\n",
    "    print('El problema tiene una solución óptima')\n",
    "else:\n",
    "    print('No se encontró una solución óptima')"
   ]
  },
  {
   "cell_type": "code",
   "execution_count": 46,
   "metadata": {},
   "outputs": [
    {
     "name": "stdout",
     "output_type": "stream",
     "text": [
      "La conveniencia total es 21.0\n"
     ]
    }
   ],
   "source": [
    "total = solver.Objective().Value()\n",
    "print(f'La conveniencia total es {total}')"
   ]
  },
  {
   "cell_type": "code",
   "execution_count": 47,
   "metadata": {},
   "outputs": [
    {
     "name": "stdout",
     "output_type": "stream",
     "text": [
      "X_Alberto_L18\n",
      "X_Alberto_J10\n",
      "X_Bruno_M16\n",
      "X_Bruno_J8\n",
      "X_Carla_M14\n",
      "X_Carla_J20\n"
     ]
    }
   ],
   "source": [
    "# Imprimo las variables con valor a 1 en la solución óptima:\n",
    "for variable in solver.variables():\n",
    "    if variable.solution_value() == 1:\n",
    "        print(variable)"
   ]
  },
  {
   "cell_type": "code",
   "execution_count": 48,
   "metadata": {},
   "outputs": [
    {
     "data": {
      "text/html": [
       "<div>\n",
       "<style scoped>\n",
       "    .dataframe tbody tr th:only-of-type {\n",
       "        vertical-align: middle;\n",
       "    }\n",
       "\n",
       "    .dataframe tbody tr th {\n",
       "        vertical-align: top;\n",
       "    }\n",
       "\n",
       "    .dataframe thead th {\n",
       "        text-align: right;\n",
       "    }\n",
       "</style>\n",
       "<table border=\"1\" class=\"dataframe\">\n",
       "  <thead>\n",
       "    <tr style=\"text-align: right;\">\n",
       "      <th></th>\n",
       "      <th>L18</th>\n",
       "      <th>M14</th>\n",
       "      <th>M16</th>\n",
       "      <th>J8</th>\n",
       "      <th>J10</th>\n",
       "      <th>J20</th>\n",
       "    </tr>\n",
       "  </thead>\n",
       "  <tbody>\n",
       "    <tr>\n",
       "      <th>Alberto</th>\n",
       "      <td>1</td>\n",
       "      <td>0</td>\n",
       "      <td>0</td>\n",
       "      <td>0</td>\n",
       "      <td>1</td>\n",
       "      <td>0</td>\n",
       "    </tr>\n",
       "    <tr>\n",
       "      <th>Bruno</th>\n",
       "      <td>0</td>\n",
       "      <td>0</td>\n",
       "      <td>1</td>\n",
       "      <td>1</td>\n",
       "      <td>0</td>\n",
       "      <td>0</td>\n",
       "    </tr>\n",
       "    <tr>\n",
       "      <th>Carla</th>\n",
       "      <td>0</td>\n",
       "      <td>1</td>\n",
       "      <td>0</td>\n",
       "      <td>0</td>\n",
       "      <td>0</td>\n",
       "      <td>1</td>\n",
       "    </tr>\n",
       "  </tbody>\n",
       "</table>\n",
       "</div>"
      ],
      "text/plain": [
       "         L18  M14  M16  J8  J10  J20\n",
       "Alberto    1    0    0   0    1    0\n",
       "Bruno      0    0    1   1    0    0\n",
       "Carla      0    1    0   0    0    1"
      ]
     },
     "execution_count": 48,
     "metadata": {},
     "output_type": "execute_result"
    }
   ],
   "source": [
    "solution = data.copy()\n",
    "for h in horarios:\n",
    "    for p in profesores:\n",
    "        solution.loc[p, h] = variables[p, h].solution_value()\n",
    "solution"
   ]
  },
  {
   "cell_type": "code",
   "execution_count": null,
   "metadata": {},
   "outputs": [],
   "source": [
    "def dataframe_to_markdown(df):\n",
    "    \"\"\"\n",
    "    Convert a Pandas DataFrame to a Markdown table.\n",
    "    \n",
    "    Parameters:\n",
    "    df (pd.DataFrame): The Pandas DataFrame to convert.\n",
    "    \n",
    "    Returns:\n",
    "    str: Markdown string representing the DataFrame as a table.\n",
    "    \"\"\"\n",
    "    \n",
    "    markdown_table = \"| \" + \" | \".join([\"Index\"] + list(df.columns)) + \" |\\n\"\n",
    "    markdown_table += \"| \" + \" | \".join([\"---\"] * (len(df.columns) + 1)) + \" |\\n\"\n",
    "\n",
    "    for index, row in df.iterrows():\n",
    "        markdown_table += f\"| {index} | \" + \" | \".join(map(str, row)) + \" |\\n\"\n",
    "\n",
    "    return markdown_table\n",
    "\n",
    "dataframe_to_markdown(solution)"
   ]
  },
  {
   "cell_type": "markdown",
   "metadata": {},
   "source": [
    "| Index | L18 | M14 | M16 | J8 | J10 | J20 |\n",
    "| --- | --- | --- | --- | --- | --- | --- |\n",
    "| Alberto | 1 | 0 | 0 | 0 | 1 | 0 |\n",
    "| Bruno | 0 | 0 | 1 | 1 | 0 | 0 |\n",
    "| Carla | 0 | 1 | 0 | 0 | 0 | 1 |"
   ]
  }
 ],
 "metadata": {
  "kernelspec": {
   "display_name": "venv",
   "language": "python",
   "name": "python3"
  },
  "language_info": {
   "codemirror_mode": {
    "name": "ipython",
    "version": 3
   },
   "file_extension": ".py",
   "mimetype": "text/x-python",
   "name": "python",
   "nbconvert_exporter": "python",
   "pygments_lexer": "ipython3",
   "version": "3.10.12"
  },
  "orig_nbformat": 4
 },
 "nbformat": 4,
 "nbformat_minor": 2
}
